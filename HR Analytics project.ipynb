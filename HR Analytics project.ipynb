{
 "cells": [
  {
   "cell_type": "markdown",
   "id": "0dcbd7b1",
   "metadata": {},
   "source": [
    "##  HR Analytics Project- Understanding the Attrition in HR\n",
    "By: Mr.Lokesh Baviskar\n",
    "\n",
    "Batch: 1833\n",
    "\n",
    "Problem Statement:\n",
    "Every year a lot of companies hire a number of employees. The companies invest time and money in training those employees, not just this but there are training programs within the companies for their existing employees as well. The aim of these programs is to increase the effectiveness of their employees. But where HR Analytics fit in this? and is it just about improving the performance of employees?\n",
    "\n",
    "HR Analytics:\n",
    "Human resource analytics (HR analytics) is an area in the field of analytics that refers to applying analytic processes to the human resource department of an organization in the hope of improving employee performance and therefore getting a better return on investment. HR analytics does not just deal with gathering data on employee efficiency. Instead, it aims to provide insight into each process by gathering data and then using it to make relevant decisions about how to improve these processes.\n",
    "\n",
    "Attrition in HR:\n",
    "Attrition in human resources refers to the gradual loss of employees overtime. In general, relatively high attrition is problematic for companies. HR professionals often assume a leadership role in designing company compensation programs, work culture, and motivation systems that help the organization retain top employees.\n",
    "\n",
    "How does Attrition affect companies? and how does HR Analytics help in analyzing attrition? We will discuss the first question here and for the second question, we will write the code and try to understand the process step by step.\n",
    "\n",
    "Attrition affecting Companies:\n",
    "A major problem in high employee attrition is its cost to an organization. Job postings, hiring processes, paperwork, and new hire training are some of the common expenses of losing employees and replacing them. Additionally, regular employee turnover prohibits your organization from increasing its collective knowledge base and experience over time. This is especially concerning if your business is customer-facing, as customers often prefer to interact with familiar people. Errors and issues are more likely if you constantly have new workers."
   ]
  },
  {
   "cell_type": "markdown",
   "id": "23901314",
   "metadata": {},
   "source": [
    "### Importing require library for performing EDA, Data Wrangling and data cleaning"
   ]
  },
  {
   "cell_type": "code",
   "execution_count": null,
   "id": "e2ef7e50",
   "metadata": {},
   "outputs": [],
   "source": [
    "import pandas as pd # for data wrangling purpose\n",
    "import numpy as np # Basic computation library\n",
    "import seaborn as sns # For Visualization \n",
    "import matplotlib.pyplot as plt # ploting package\n",
    "%matplotlib inline\n",
    "import warnings # Filtering warnings\n",
    "warnings.filterwarnings('ignore')"
   ]
  },
  {
   "cell_type": "code",
   "execution_count": null,
   "id": "6a979dcc",
   "metadata": {},
   "outputs": [],
   "source": [
    "# Importing IBM HR dataset Csv file using pandas"
   ]
  },
  {
   "cell_type": "code",
   "execution_count": null,
   "id": "9bc6eb01",
   "metadata": {},
   "outputs": [],
   "source": [
    "df=pd.read_csv('WA_Fn-UseC_-HR-Employee-Attrition.csv')"
   ]
  },
  {
   "cell_type": "code",
   "execution_count": null,
   "id": "1c918145",
   "metadata": {},
   "outputs": [],
   "source": [
    "print('No of Rows:',df.shape[0])\n",
    "print('No of Columns:',df.shape[1])\n",
    "pd.set_option('display.max_columns', None) # This will enable us to see truncated columns\n",
    "df.head()"
   ]
  },
  {
   "cell_type": "markdown",
   "id": "b0a47779",
   "metadata": {},
   "source": [
    "No of Rows: 1470\n",
    "No of Columns: 35\n",
    "\tAge\tAttrition\tBusinessTravel\tDailyRate\tDepartment\tDistanceFromHome\tEducation\tEducationField\tEmployeeCount\tEmployeeNumber\tEnvironmentSatisfaction\tGender\tHourlyRate\tJobInvolvement\tJobLevel\tJobRole\tJobSatisfaction\tMaritalStatus\tMonthlyIncome\tMonthlyRate\tNumCompaniesWorked\tOver18\tOverTime\tPercentSalaryHike\tPerformanceRating\tRelationshipSatisfaction\tStandardHours\tStockOptionLevel\tTotalWorkingYears\tTrainingTimesLastYear\tWorkLifeBalance\tYearsAtCompany\tYearsInCurrentRole\tYearsSinceLastPromotion\tYearsWithCurrManager\n",
    "0\t41\tYes\tTravel_Rarely\t1102\tSales\t1\t2\tLife Sciences\t1\t1\t2\tFemale\t94\t3\t2\tSales Executive\t4\tSingle\t5993\t19479\t8\tY\tYes\t11\t3\t1\t80\t0\t8\t0\t1\t6\t4\t0\t5\n",
    "1\t49\tNo\tTravel_Frequently\t279\tResearch & Development\t8\t1\tLife Sciences\t1\t2\t3\tMale\t61\t2\t2\tResearch Scientist\t2\tMarried\t5130\t24907\t1\tY\tNo\t23\t4\t4\t80\t1\t10\t3\t3\t10\t7\t1\t7\n",
    "2\t37\tYes\tTravel_Rarely\t1373\tResearch & Development\t2\t2\tOther\t1\t4\t4\tMale\t92\t2\t1\tLaboratory Technician\t3\tSingle\t2090\t2396\t6\tY\tYes\t15\t3\t2\t80\t0\t7\t3\t3\t0\t0\t0\t0\n",
    "3\t33\tNo\tTravel_Frequently\t1392\tResearch & Development\t3\t4\tLife Sciences\t1\t5\t4\tFemale\t56\t3\t1\tResearch Scientist\t3\tMarried\t2909\t23159\t1\tY\tYes\t11\t3\t3\t80\t0\t8\t3\t3\t8\t7\t3\t0\n",
    "4\t27\tNo\tTravel_Rarely\t591\tResearch & Development\t2\t1\tMedical\t1\t7\t1\tMale\t40\t3\t1\tLaboratory Technician\t2\tMarried\t3468\t16632\t9\tY\tNo\t12\t3\t4\t80\t1\t6\t3\t3\t2\t2\t2\t2"
   ]
  },
  {
   "cell_type": "code",
   "execution_count": null,
   "id": "8bbf5e3c",
   "metadata": {},
   "outputs": [],
   "source": [
    "df.columns"
   ]
  },
  {
   "cell_type": "markdown",
   "id": "af7aa797",
   "metadata": {},
   "source": [
    "Index(['Age', 'Attrition', 'BusinessTravel', 'DailyRate', 'Department',\n",
    "       'DistanceFromHome', 'Education', 'EducationField', 'EmployeeCount',\n",
    "       'EmployeeNumber', 'EnvironmentSatisfaction', 'Gender', 'HourlyRate',\n",
    "       'JobInvolvement', 'JobLevel', 'JobRole', 'JobSatisfaction',\n",
    "       'MaritalStatus', 'MonthlyIncome', 'MonthlyRate', 'NumCompaniesWorked',\n",
    "       'Over18', 'OverTime', 'PercentSalaryHike', 'PerformanceRating',\n",
    "       'RelationshipSatisfaction', 'StandardHours', 'StockOptionLevel',\n",
    "       'TotalWorkingYears', 'TrainingTimesLastYear', 'WorkLifeBalance',\n",
    "       'YearsAtCompany', 'YearsInCurrentRole', 'YearsSinceLastPromotion',\n",
    "       'YearsWithCurrManager'],\n",
    "      dtype='object')"
   ]
  },
  {
   "cell_type": "markdown",
   "id": "1fa03178",
   "metadata": {},
   "source": [
    "df.info()\n",
    "<class 'pandas.core.frame.DataFrame'>\n",
    "RangeIndex: 1470 entries, 0 to 1469\n",
    "Data columns (total 35 columns):\n",
    " #   Column                    Non-Null Count  Dtype \n",
    "---  ------                    --------------  ----- \n",
    " 0   Age                       1470 non-null   int64 \n",
    " 1   Attrition                 1470 non-null   object\n",
    " 2   BusinessTravel            1470 non-null   object\n",
    " 3   DailyRate                 1470 non-null   int64 \n",
    " 4   Department                1470 non-null   object\n",
    " 5   DistanceFromHome          1470 non-null   int64 \n",
    " 6   Education                 1470 non-null   int64 \n",
    " 7   EducationField            1470 non-null   object\n",
    " 8   EmployeeCount             1470 non-null   int64 \n",
    " 9   EmployeeNumber            1470 non-null   int64 \n",
    " 10  EnvironmentSatisfaction   1470 non-null   int64 \n",
    " 11  Gender                    1470 non-null   object\n",
    " 12  HourlyRate                1470 non-null   int64 \n",
    " 13  JobInvolvement            1470 non-null   int64 \n",
    " 14  JobLevel                  1470 non-null   int64 \n",
    " 15  JobRole                   1470 non-null   object\n",
    " 16  JobSatisfaction           1470 non-null   int64 \n",
    " 17  MaritalStatus             1470 non-null   object\n",
    " 18  MonthlyIncome             1470 non-null   int64 \n",
    " 19  MonthlyRate               1470 non-null   int64 \n",
    " 20  NumCompaniesWorked        1470 non-null   int64 \n",
    " 21  Over18                    1470 non-null   object\n",
    " 22  OverTime                  1470 non-null   object\n",
    " 23  PercentSalaryHike         1470 non-null   int64 \n",
    " 24  PerformanceRating         1470 non-null   int64 \n",
    " 25  RelationshipSatisfaction  1470 non-null   int64 \n",
    " 26  StandardHours             1470 non-null   int64 \n",
    " 27  StockOptionLevel          1470 non-null   int64 \n",
    " 28  TotalWorkingYears         1470 non-null   int64 \n",
    " 29  TrainingTimesLastYear     1470 non-null   int64 \n",
    " 30  WorkLifeBalance           1470 non-null   int64 \n",
    " 31  YearsAtCompany            1470 non-null   int64 \n",
    " 32  YearsInCurrentRole        1470 non-null   int64 \n",
    " 33  YearsSinceLastPromotion   1470 non-null   int64 \n",
    " 34  YearsWithCurrManager      1470 non-null   int64 \n",
    "dtypes: int64(26), object(9)\n",
    "memory usage: 402.1+ KB"
   ]
  },
  {
   "cell_type": "code",
   "execution_count": null,
   "id": "c81204f4",
   "metadata": {},
   "outputs": [],
   "source": [
    "# As we have 35 Columns Lets sort Columns by their datatype\n",
    "df.columns.to_series().groupby(df.dtypes).groups"
   ]
  },
  {
   "cell_type": "markdown",
   "id": "09bf87d7",
   "metadata": {},
   "source": [
    "{int64: ['Age', 'DailyRate', 'DistanceFromHome', 'Education', 'EmployeeCount', 'EmployeeNumber', 'EnvironmentSatisfaction', 'HourlyRate', 'JobInvolvement', 'JobLevel', 'JobSatisfaction', 'MonthlyIncome', 'MonthlyRate', 'NumCompaniesWorked', 'PercentSalaryHike', 'PerformanceRating', 'RelationshipSatisfaction', 'StandardHours', 'StockOptionLevel', 'TotalWorkingYears', 'TrainingTimesLastYear', 'WorkLifeBalance', 'YearsAtCompany', 'YearsInCurrentRole', 'YearsSinceLastPromotion', 'YearsWithCurrManager'], object: ['Attrition', 'BusinessTravel', 'Department', 'EducationField', 'Gender', 'JobRole', 'MaritalStatus', 'Over18', 'OverTime']}\n"
   ]
  },
  {
   "cell_type": "markdown",
   "id": "4843bd05",
   "metadata": {},
   "source": [
    "### These Ordinal features come with the following label encoding:"
   ]
  },
  {
   "cell_type": "code",
   "execution_count": null,
   "id": "2b5b7d16",
   "metadata": {},
   "outputs": [],
   "source": [
    "Education: 1- 'Below College' , 2 -'College', 3 -'Bachelor', 4- 'Master' ,5 -'Doctor'\n",
    "EnvironmentSatisfaction: 1- 'Low', 2- 'Medium', 3 -'High', 4- 'Very High'\n",
    "JobInvolvement: 1 -'Low', 2- 'Medium', 3- 'High', 4- 'Very High'\n",
    "JobSatisfaction: 1- 'Low', 2- 'Medium', 3- 'High', 4 -'Very High'\n",
    "PerformanceRating: 1- 'Low', 2- 'Average', 3 -'Good', 4- 'Excellent', 5- 'Outstanding'\n",
    "RelationshipSatisfaction: 1- 'Low', 2- 'Medium', 3- 'High', 4- 'Very High'\n",
    "WorkLifeBalance: 1- 'Bad', 2- 'Good', 3- 'Better', 4- 'Best'"
   ]
  },
  {
   "cell_type": "markdown",
   "id": "b937539c",
   "metadata": {},
   "source": [
    "### Statistical Analysis"
   ]
  },
  {
   "cell_type": "markdown",
   "id": "7aa920ad",
   "metadata": {},
   "source": [
    "#### Before Going for Statistical exploration of data, first check integrity of data & Missing value"
   ]
  },
  {
   "cell_type": "markdown",
   "id": "aa3ded97",
   "metadata": {},
   "source": [
    "### Data Integrity Check "
   ]
  },
  {
   "cell_type": "markdown",
   "id": "51b6fcb5",
   "metadata": {},
   "source": [
    "#### Since dataset is large, Let check for any entry which is repeated or duplicated in dataset."
   ]
  },
  {
   "cell_type": "code",
   "execution_count": null,
   "id": "9ac013c6",
   "metadata": {},
   "outputs": [],
   "source": [
    "df.duplicated().sum()  # This will check the duplicate data for all columns"
   ]
  },
  {
   "cell_type": "markdown",
   "id": "895bd9fa",
   "metadata": {},
   "source": [
    "0"
   ]
  },
  {
   "cell_type": "markdown",
   "id": "90946ab3",
   "metadata": {},
   "source": [
    "### Missing value check"
   ]
  },
  {
   "cell_type": "code",
   "execution_count": null,
   "id": "85d27990",
   "metadata": {},
   "outputs": [],
   "source": [
    "missing_values = df.isnull().sum().sort_values(ascending = False)\n",
    "percentage_missing_values =(missing_values/len(df))*100\n",
    "print(pd.concat([missing_values, percentage_missing_values], axis =1, keys =['Missing Values', '% Missing data']))"
   ]
  },
  {
   "cell_type": "code",
   "execution_count": null,
   "id": "f8780c63",
   "metadata": {},
   "outputs": [],
   "source": [
    "                     Missing Values  % Missing data\n",
    "YearsWithCurrManager                   0             0.0\n",
    "EmployeeCount                          0             0.0\n",
    "JobLevel                               0             0.0\n",
    "JobInvolvement                         0             0.0\n",
    "HourlyRate                             0             0.0\n",
    "Gender                                 0             0.0\n",
    "EnvironmentSatisfaction                0             0.0\n",
    "EmployeeNumber                         0             0.0\n",
    "EducationField                         0             0.0\n",
    "JobSatisfaction                        0             0.0\n",
    "Education                              0             0.0\n",
    "DistanceFromHome                       0             0.0\n",
    "Department                             0             0.0\n",
    "DailyRate                              0             0.0\n",
    "BusinessTravel                         0             0.0\n",
    "Attrition                              0             0.0\n",
    "JobRole                                0             0.0\n",
    "MaritalStatus                          0             0.0\n",
    "YearsSinceLastPromotion                0             0.0\n",
    "StandardHours                          0             0.0\n",
    "YearsInCurrentRole                     0             0.0\n",
    "YearsAtCompany                         0             0.0\n",
    "WorkLifeBalance                        0             0.0\n",
    "TrainingTimesLastYear                  0             0.0\n",
    "TotalWorkingYears                      0             0.0\n",
    "StockOptionLevel                       0             0.0\n",
    "RelationshipSatisfaction               0             0.0\n",
    "MonthlyIncome                          0             0.0\n",
    "PerformanceRating                      0             0.0\n",
    "PercentSalaryHike                      0             0.0\n",
    "OverTime                               0             0.0\n",
    "Over18                                 0             0.0\n",
    "NumCompaniesWorked                     0             0.0\n",
    "MonthlyRate                            0             0.0\n",
    "Age                                    0             0.0\n",
    "Comment:\n",
    "Luckily for us, there is no missing data! this will make it easier to work with the dataset.\n",
    "\n",
    "Dataset doesnot contain Any duplicate entry, Missing Values."
   ]
  },
  {
   "cell_type": "code",
   "execution_count": null,
   "id": "d791eb1b",
   "metadata": {},
   "outputs": [],
   "source": [
    "So, Yes To Go !!!"
   ]
  },
  {
   "cell_type": "markdown",
   "id": "b132cea5",
   "metadata": {},
   "source": [
    "### Statistical Matrix"
   ]
  },
  {
   "cell_type": "code",
   "execution_count": null,
   "id": "982a68af",
   "metadata": {},
   "outputs": [],
   "source": [
    "# Visualizing the statistics of the columns using heatmap.\n",
    "plt.figure(figsize=(28,10))\n",
    "sns.heatmap(df.describe(),linewidths = 0.1,fmt='0.1f',annot = True,cmap='PiYG')"
   ]
  },
  {
   "cell_type": "code",
   "execution_count": null,
   "id": "fcefeef9",
   "metadata": {},
   "outputs": [],
   "source": [
    "<AxesSubplot:>\n"
   ]
  },
  {
   "cell_type": "code",
   "execution_count": null,
   "id": "9ed3f42d",
   "metadata": {},
   "outputs": [],
   "source": [
    "df.describe().T.round(3)"
   ]
  },
  {
   "cell_type": "code",
   "execution_count": null,
   "id": "5415f8aa",
   "metadata": {},
   "outputs": [],
   "source": [
    "\tcount\tmean\tstd\tmin\t25%\t50%\t75%\tmax\n",
    "Age\t1470.0\t36.924\t9.135\t18.0\t30.00\t36.0\t43.00\t60.0\n",
    "DailyRate\t1470.0\t802.486\t403.509\t102.0\t465.00\t802.0\t1157.00\t1499.0\n",
    "DistanceFromHome\t1470.0\t9.193\t8.107\t1.0\t2.00\t7.0\t14.00\t29.0\n",
    "Education\t1470.0\t2.913\t1.024\t1.0\t2.00\t3.0\t4.00\t5.0\n",
    "EmployeeCount\t1470.0\t1.000\t0.000\t1.0\t1.00\t1.0\t1.00\t1.0\n",
    "EmployeeNumber\t1470.0\t1024.865\t602.024\t1.0\t491.25\t1020.5\t1555.75\t2068.0\n",
    "EnvironmentSatisfaction\t1470.0\t2.722\t1.093\t1.0\t2.00\t3.0\t4.00\t4.0\n",
    "HourlyRate\t1470.0\t65.891\t20.329\t30.0\t48.00\t66.0\t83.75\t100.0\n",
    "JobInvolvement\t1470.0\t2.730\t0.712\t1.0\t2.00\t3.0\t3.00\t4.0\n",
    "JobLevel\t1470.0\t2.064\t1.107\t1.0\t1.00\t2.0\t3.00\t5.0\n",
    "JobSatisfaction\t1470.0\t2.729\t1.103\t1.0\t2.00\t3.0\t4.00\t4.0\n",
    "MonthlyIncome\t1470.0\t6502.931\t4707.957\t1009.0\t2911.00\t4919.0\t8379.00\t19999.0\n",
    "MonthlyRate\t1470.0\t14313.103\t7117.786\t2094.0\t8047.00\t14235.5\t20461.50\t26999.0\n",
    "NumCompaniesWorked\t1470.0\t2.693\t2.498\t0.0\t1.00\t2.0\t4.00\t9.0\n",
    "PercentSalaryHike\t1470.0\t15.210\t3.660\t11.0\t12.00\t14.0\t18.00\t25.0\n",
    "PerformanceRating\t1470.0\t3.154\t0.361\t3.0\t3.00\t3.0\t3.00\t4.0\n",
    "RelationshipSatisfaction\t1470.0\t2.712\t1.081\t1.0\t2.00\t3.0\t4.00\t4.0\n",
    "StandardHours\t1470.0\t80.000\t0.000\t80.0\t80.00\t80.0\t80.00\t80.0\n",
    "StockOptionLevel\t1470.0\t0.794\t0.852\t0.0\t0.00\t1.0\t1.00\t3.0\n",
    "TotalWorkingYears\t1470.0\t11.280\t7.781\t0.0\t6.00\t10.0\t15.00\t40.0\n",
    "TrainingTimesLastYear\t1470.0\t2.799\t1.289\t0.0\t2.00\t3.0\t3.00\t6.0\n",
    "WorkLifeBalance\t1470.0\t2.761\t0.706\t1.0\t2.00\t3.0\t3.00\t4.0\n",
    "YearsAtCompany\t1470.0\t7.008\t6.127\t0.0\t3.00\t5.0\t9.00\t40.0\n",
    "YearsInCurrentRole\t1470.0\t4.229\t3.623\t0.0\t2.00\t3.0\t7.00\t18.0\n",
    "YearsSinceLastPromotion\t1470.0\t2.188\t3.222\t0.0\t0.00\t1.0\t3.00\t15.0\n",
    "YearsWithCurrManager\t1470.0\t4.123\t3.568\t0.0\t2.00\t3.0\t7.00\t17.0"
   ]
  },
  {
   "cell_type": "code",
   "execution_count": null,
   "id": "44bcdd58",
   "metadata": {},
   "outputs": [],
   "source": [
    "Comment :\n",
    "Minimum Empolyee Age is 18 and Maximum age of employee 60.\n",
    "Average distance from home is 9.1 KM. It means that most of employee travel atleast 18 KM in day from home to office.\n",
    "On Average performance Rating of employees is 3.163 with min value 3.0. This Means that performance of most of employee is 'Good'.This implies that Attrition of Employee with 'Outstanding' or 5 rating need to investigate.\n",
    "50% of Employees has worked atleast 2 companies previously.\n",
    "For Monthly Income,Monthly Rate by looking at 50% and max column we can say outliers exist in this feature.\n",
    "By looking at Mean and Median we see that some of the features are skew in nature.\n",
    "For ordinal features statstical terminology of mean, median, std deviation doesnot make sense.\n",
    "StandardHours and EmployeeCount contain same value for all stastical parameter. It means they contain one unique value.\n",
    "Lets do some Statistical Analysis. Start with target Variable."
   ]
  },
  {
   "cell_type": "code",
   "execution_count": null,
   "id": "a7d8e1db",
   "metadata": {},
   "outputs": [],
   "source": [
    "df['Attrition'].value_counts()"
   ]
  },
  {
   "cell_type": "markdown",
   "id": "8ea248ea",
   "metadata": {},
   "source": [
    "No     1233\n",
    "Yes     237\n",
    "Name: Attrition, dtype: int64"
   ]
  },
  {
   "cell_type": "code",
   "execution_count": null,
   "id": "285498d5",
   "metadata": {},
   "outputs": [],
   "source": [
    "labels = 'Yes','No',\n",
    "fig, ax = plt.subplots()\n",
    "ax.pie(df['Attrition'].value_counts(),labels = labels,radius =2,autopct = '%2.2f%%',explode=[0.1,0.2], shadow=True,)\n",
    "plt.show()"
   ]
  },
  {
   "cell_type": "code",
   "execution_count": null,
   "id": "e2f0bc73",
   "metadata": {},
   "outputs": [],
   "source": [
    "Comment:\n",
    "83.88% (1237 employees) Employees did not leave the organization while 16.12% (237 employees) did leave the organization making our dataset to be considered imbalanced since more people stay in the organization than they actually leave.\n",
    "\n",
    "Before arrive at key questions which need to answer about HR Attrition, let try to gain some insight about individual features like distribution of different subcategories, different insight about Human Resource in company like education,job level, working domain.\n",
    "Start with Enlisting Value counts & Sub-categories of different categorial features available\n"
   ]
  },
  {
   "cell_type": "code",
   "execution_count": null,
   "id": "db41424e",
   "metadata": {},
   "outputs": [],
   "source": [
    "Category=['Attrition', 'BusinessTravel', 'Department', 'EducationField',\n",
    "          'Gender', 'JobRole', 'MaritalStatus', 'Over18', 'OverTime' ]\n",
    "for i in Category:\n",
    "    print(i)\n",
    "    print(df[i].value_counts())\n",
    "    print(\"=\"*100)\n",
    "    "
   ]
  },
  {
   "cell_type": "markdown",
   "id": "6eb2cefd",
   "metadata": {},
   "source": [
    "Attrition\n",
    "No     1233\n",
    "Yes     237\n",
    "Name: Attrition, dtype: int64\n",
    "====================================================================================================\n",
    "BusinessTravel\n",
    "Travel_Rarely        1043\n",
    "Travel_Frequently     277\n",
    "Non-Travel            150\n",
    "Name: BusinessTravel, dtype: int64\n",
    "====================================================================================================\n",
    "Department\n",
    "Research & Development    961\n",
    "Sales                     446\n",
    "Human Resources            63\n",
    "Name: Department, dtype: int64\n",
    "====================================================================================================\n",
    "EducationField\n",
    "Life Sciences       606\n",
    "Medical             464\n",
    "Marketing           159\n",
    "Technical Degree    132\n",
    "Other                82\n",
    "Human Resources      27\n",
    "Name: EducationField, dtype: int64\n",
    "====================================================================================================\n",
    "Gender\n",
    "Male      882\n",
    "Female    588\n",
    "Name: Gender, dtype: int64\n",
    "====================================================================================================\n",
    "JobRole\n",
    "Sales Executive              326\n",
    "Research Scientist           292\n",
    "Laboratory Technician        259\n",
    "Manufacturing Director       145\n",
    "Healthcare Representative    131\n",
    "Manager                      102\n",
    "Sales Representative          83\n",
    "Research Director             80\n",
    "Human Resources               52\n",
    "Name: JobRole, dtype: int64\n",
    "====================================================================================================\n",
    "MaritalStatus\n",
    "Married     673\n",
    "Single      470\n",
    "Divorced    327\n",
    "Name: MaritalStatus, dtype: int64\n",
    "====================================================================================================\n",
    "Over18\n",
    "Y    1470\n",
    "Name: Over18, dtype: int64\n",
    "====================================================================================================\n",
    "OverTime\n",
    "No     1054\n",
    "Yes     416\n",
    "Name: OverTime, dtype: int64\n",
    "===================================================================================================="
   ]
  },
  {
   "cell_type": "code",
   "execution_count": null,
   "id": "e57849e7",
   "metadata": {},
   "outputs": [],
   "source": [
    "sns.set_palette('gist_rainbow_r')\n",
    "plt.figure(figsize=(20,20), facecolor='white')\n",
    "plotnumber =1\n",
    "Category=['Attrition', 'BusinessTravel', 'Department', 'EducationField',\n",
    "          'Gender', 'JobRole', 'MaritalStatus', 'Over18', 'OverTime' ]\n",
    "for i in Category:\n",
    "    if plotnumber <=9:\n",
    "        ax = plt.subplot(3,3,plotnumber)\n",
    "        sns.countplot(df[i])\n",
    "        plt.xlabel(i,fontsize=20)\n",
    "        plt.xticks(rotation=30)\n",
    "    plotnumber+=1\n",
    "plt.tight_layout()\n",
    "plt.show()"
   ]
  },
  {
   "cell_type": "code",
   "execution_count": null,
   "id": "0ac2f6e2",
   "metadata": {},
   "outputs": [],
   "source": [
    "Ordinal=['Education','EnvironmentSatisfaction', 'JobInvolvement','JobSatisfaction',\n",
    "          'RelationshipSatisfaction', 'PerformanceRating', 'WorkLifeBalance' ]\n",
    "for i in Ordinal:\n",
    "    print(i)\n",
    "    print(df[i].value_counts())\n",
    "    print(\"=\"*100)"
   ]
  },
  {
   "cell_type": "markdown",
   "id": "5280b626",
   "metadata": {},
   "source": [
    "Education\n",
    "3    572\n",
    "4    398\n",
    "2    282\n",
    "1    170\n",
    "5     48\n",
    "Name: Education, dtype: int64\n",
    "====================================================================================================\n",
    "EnvironmentSatisfaction\n",
    "3    453\n",
    "4    446\n",
    "2    287\n",
    "1    284\n",
    "Name: EnvironmentSatisfaction, dtype: int64\n",
    "====================================================================================================\n",
    "JobInvolvement\n",
    "3    868\n",
    "2    375\n",
    "4    144\n",
    "1     83\n",
    "Name: JobInvolvement, dtype: int64\n",
    "====================================================================================================\n",
    "JobSatisfaction\n",
    "4    459\n",
    "3    442\n",
    "1    289\n",
    "2    280\n",
    "Name: JobSatisfaction, dtype: int64\n",
    "====================================================================================================\n",
    "RelationshipSatisfaction\n",
    "3    459\n",
    "4    432\n",
    "2    303\n",
    "1    276\n",
    "Name: RelationshipSatisfaction, dtype: int64\n",
    "====================================================================================================\n",
    "PerformanceRating\n",
    "3    1244\n",
    "4     226\n",
    "Name: PerformanceRating, dtype: int64\n",
    "====================================================================================================\n",
    "WorkLifeBalance\n",
    "3    893\n",
    "2    344\n",
    "4    153\n",
    "1     80\n",
    "Name: WorkLifeBalance, dtype: int64\n",
    "===================================================================================================="
   ]
  },
  {
   "cell_type": "code",
   "execution_count": null,
   "id": "c7f3b5ce",
   "metadata": {},
   "outputs": [],
   "source": [
    "sns.set_palette('hsv')\n",
    "plt.figure(figsize=(20,20), facecolor='white')\n",
    "plotnumber =1\n",
    "Ordinal=['Education','EnvironmentSatisfaction', 'JobInvolvement','JobSatisfaction',\n",
    "          'RelationshipSatisfaction', 'PerformanceRating', 'WorkLifeBalance' ]\n",
    "for i in Ordinal:\n",
    "    if plotnumber <=9:\n",
    "        ax = plt.subplot(3,3,plotnumber)\n",
    "        sns.countplot(df[i])\n",
    "        plt.xlabel(i,fontsize=20)\n",
    "        plt.xticks(rotation=30)\n",
    "    plotnumber+=1\n",
    "plt.tight_layout()\n",
    "plt.show()"
   ]
  },
  {
   "cell_type": "code",
   "execution_count": null,
   "id": "7e1d38a6",
   "metadata": {},
   "outputs": [],
   "source": [
    "labels='Bachelor','Master','College','Below College','Doctor'\n",
    "fig, ax = plt.subplots()\n",
    "ax.pie(df['Education'].value_counts(),labels = labels,radius =2,autopct = '%3.2f%%',explode=[0.1,0.1,0.15,0.2,0.3], shadow=True,)\n",
    "plt.show()"
   ]
  },
  {
   "cell_type": "markdown",
   "id": "50eaf1a5",
   "metadata": {},
   "source": [
    "Comment:\n",
    "More than 60 % employees educated at Masters & Bachelor. It interesting to find out in which department need this human resources.\n",
    "30 % of Employees are highly educated which involves master and doctor degree.\n",
    "39 % of Employees are graduate.\n",
    "Almost 19% Employees are educated upto college & 12% are below college.\n",
    "Lets try to gain insight on to which department this Human Resource belong and education need of each department through visualization."
   ]
  },
  {
   "cell_type": "code",
   "execution_count": null,
   "id": "58beb979",
   "metadata": {},
   "outputs": [],
   "source": [
    "df['Department'].value_counts()"
   ]
  },
  {
   "cell_type": "markdown",
   "id": "75c74b4a",
   "metadata": {},
   "source": [
    "Research & Development    961\n",
    "Sales                     446\n",
    "Human Resources            63\n",
    "Name: Department, dtype: int64"
   ]
  },
  {
   "cell_type": "code",
   "execution_count": null,
   "id": "4d121358",
   "metadata": {},
   "outputs": [],
   "source": [
    "labels ='Research & Development','Sales','Human Resources'\n",
    "fig,ax= plt.subplots()\n",
    "ax.pie(df['Department'].value_counts(),labels=labels, radius=2,autopct= '%3.2f%%',explode=[0.1,0.15,0.2],shadow=True)\n",
    "plt.show()"
   ]
  },
  {
   "cell_type": "code",
   "execution_count": null,
   "id": "b54b4886",
   "metadata": {},
   "outputs": [],
   "source": [
    "pd.crosstab([df.Education],[df.Department], margins=True).style.background_gradient(cmap='summer_r')"
   ]
  },
  {
   "cell_type": "markdown",
   "id": "2636ef8e",
   "metadata": {},
   "source": [
    "Department\tHuman Resources\tResearch & Development\tSales\tAll\n",
    "Education\t\t\t\t\n",
    "1\t5\t115\t50\t170\n",
    "2\t13\t182\t87\t282\n",
    "3\t27\t379\t166\t572\n",
    "4\t15\t255\t128\t398\n",
    "5\t3\t30\t15\t48\n",
    "All\t63\t961\t446\t1470\n"
   ]
  },
  {
   "cell_type": "markdown",
   "id": "87dab43e",
   "metadata": {},
   "source": [
    "Comment :\n",
    "65.37% of Employees belong to Research & Development Department. Out of Total 961 Employee no of employee educated at Bachelors,Masters, Doctor are 379,255 and 30 respectively.\n",
    "Only 63 Employee work in HR department."
   ]
  },
  {
   "cell_type": "code",
   "execution_count": null,
   "id": "8c9ebbb8",
   "metadata": {},
   "outputs": [],
   "source": [
    "pd.crosstab([df.Education],[df.Department,df.Attrition], margins=True).style.background_gradient(cmap='summer_r')"
   ]
  },
  {
   "cell_type": "markdown",
   "id": "acbc50d9",
   "metadata": {},
   "source": [
    "Department\tHuman Resources\tResearch & Development\tSales\tAll\n",
    "Attrition\tNo\tYes\tNo\tYes\tNo\tYes\t\n",
    "Education\t\t\t\t\t\t\t\n",
    "1\t4\t1\t96\t19\t39\t11\t170\n",
    "2\t10\t3\t159\t23\t69\t18\t282\n",
    "3\t23\t4\t323\t56\t127\t39\t572\n",
    "4\t12\t3\t223\t32\t105\t23\t398\n",
    "5\t2\t1\t27\t3\t14\t1\t48\n",
    "All\t51\t12\t828\t133\t354\t92\t1470\n",
    "Employee distribution as per education field and level of education"
   ]
  },
  {
   "cell_type": "code",
   "execution_count": null,
   "id": "bdb5d0a9",
   "metadata": {},
   "outputs": [],
   "source": [
    "df['EducationField'].value_counts()"
   ]
  },
  {
   "cell_type": "markdown",
   "id": "3c02b596",
   "metadata": {},
   "source": [
    "Life Sciences       606\n",
    "Medical             464\n",
    "Marketing           159\n",
    "Technical Degree    132\n",
    "Other                82\n",
    "Human Resources      27\n",
    "Name: EducationField, dtype: int64"
   ]
  },
  {
   "cell_type": "code",
   "execution_count": null,
   "id": "380be01b",
   "metadata": {},
   "outputs": [],
   "source": [
    "labels ='Life Sciences','Medical','Marketing','Technical Degree','Other','Human Resources'\n",
    "fig,ax= plt.subplots()\n",
    "ax.pie(df['EducationField'].value_counts(),labels=labels, radius=2,autopct= '%3.2f%%',explode=[0.1,0.1,0.125,0.15,0.15,0.175],shadow=True)\n",
    "plt.show()"
   ]
  },
  {
   "cell_type": "code",
   "execution_count": null,
   "id": "931f65d3",
   "metadata": {},
   "outputs": [],
   "source": [
    "# Let check distribution of education Vs education Field\n",
    "pd.crosstab([df.Education],[df.EducationField], margins=True).style.background_gradient(cmap='summer_r')"
   ]
  },
  {
   "cell_type": "markdown",
   "id": "ee47b339",
   "metadata": {},
   "source": [
    "EducationField\tHuman Resources\tLife Sciences\tMarketing\tMedical\tOther\tTechnical Degree\tAll\n",
    "Education\t\t\t\t\t\t\t\n",
    "1\t2\t67\t14\t63\t5\t19\t170\n",
    "2\t2\t116\t24\t99\t19\t22\t282\n",
    "3\t16\t233\t59\t183\t24\t57\t572\n",
    "4\t5\t173\t52\t104\t33\t31\t398\n",
    "5\t2\t17\t10\t15\t1\t3\t48\n",
    "All\t27\t606\t159\t464\t82\t132\t1470\n"
   ]
  },
  {
   "cell_type": "code",
   "execution_count": null,
   "id": "3665a7ef",
   "metadata": {},
   "outputs": [],
   "source": [
    "# Let check distribution of department Vs education Field\n",
    "pd.crosstab([df.Department],[df.EducationField], margins=True).style.background_gradient(cmap='summer_r')"
   ]
  },
  {
   "cell_type": "markdown",
   "id": "6b24a690",
   "metadata": {},
   "source": [
    "EducationField\tHuman Resources\tLife Sciences\tMarketing\tMedical\tOther\tTechnical Degree\tAll\n",
    "Department\t\t\t\t\t\t\t\n",
    "Human Resources\t27\t16\t0\t13\t3\t4\t63\n",
    "Research & Development\t0\t440\t0\t363\t64\t94\t961\n",
    "Sales\t0\t150\t159\t88\t15\t34\t446\n",
    "All\t27\t606\t159\t464\t82\t132\t1470\n",
    "Comment:\n",
    "41.22 % Employee comes from Life science background followed by Medical profession with 31.56%.\n",
    "There are only 27 people with HR background and We know that 63 people work in HR Department from previous result. This implies that atleast half employee working in HR department do not have HR background. This important as there is more probability of Employees Retention is when they are working in domain of interest or as per their education background. Dissatisfaction with want we doing can be seen as major reason of leaving job.\n",
    "Most of Employees with Techanical degree are Bachelors.\n",
    "Most of Employees having Masters and Doctors belong to Life Science and Medical domain.\n",
    "R&D department almost everyone comes from profession or technical background except support staff. Factor like Salary Hike, travelling, overtime and Job level are things need to taken in consideration while analysing Attrition of this category.\n",
    "There are 159 Employee with Marketing background and all work in Sales Department.\n",
    "50% Employees in sales department have background of Life sciences & Medical. So it will interesting to see attrition rate in these employees.\n",
    "We will Analysis Attrition over above insight in next section of Job role.\n",
    "\n",
    "Lets work with Job Role"
   ]
  },
  {
   "cell_type": "code",
   "execution_count": null,
   "id": "e8fada4e",
   "metadata": {},
   "outputs": [],
   "source": [
    "plt.figure(figsize=(15,7))\n",
    "sns.countplot(df['JobRole'])\n",
    "plt.xticks(rotation=45)\n",
    "plt.show()\n"
   ]
  },
  {
   "cell_type": "markdown",
   "id": "6a4f369c",
   "metadata": {},
   "source": [
    "Before going for Attrition by Job role,\n",
    "first build matrix of department vs job role which will give us idea about number of employees of different job role across department"
   ]
  },
  {
   "cell_type": "code",
   "execution_count": null,
   "id": "082bb945",
   "metadata": {},
   "outputs": [],
   "source": [
    "pd.crosstab([df.JobRole],[df.Department], margins=True).style.background_gradient(cmap='gist_rainbow_r')"
   ]
  },
  {
   "cell_type": "markdown",
   "id": "ab081dc5",
   "metadata": {},
   "source": [
    "Department\tHuman Resources\tResearch & Development\tSales\tAll\n",
    "JobRole\t\t\t\t\n",
    "Healthcare Representative\t0\t131\t0\t131\n",
    "Human Resources\t52\t0\t0\t52\n",
    "Laboratory Technician\t0\t259\t0\t259\n",
    "Manager\t11\t54\t37\t102\n",
    "Manufacturing Director\t0\t145\t0\t145\n",
    "Research Director\t0\t80\t0\t80\n",
    "Research Scientist\t0\t292\t0\t292\n",
    "Sales Executive\t0\t0\t326\t326\n",
    "Sales Representative\t0\t0\t83\t83\n",
    "All\t63\t961\t446\t1470\n",
    "Comment:\n",
    "There are 3 job role in HR Department, maximum of which are sales Executive with 446 Total Employees.\n",
    "Human Resources department has 2 Job role i.e. HR & Manager.\n",
    "There 6 different Job role in R&D department with total 961 employees and until now we know that all of them belong to thier respective domain background.\n"
   ]
  },
  {
   "cell_type": "code",
   "execution_count": null,
   "id": "ddfeb7c7",
   "metadata": {},
   "outputs": [],
   "source": [
    "plt.figure(figsize=(12,10))\n",
    "data=pd.crosstab(df['JobRole'], df['Attrition'])\n",
    "data.div(data.sum(1).astype(float), axis=0).plot(kind='bar', stacked=True, \n",
    "                    color=['green', 'red'],figsize=(12,8))\n",
    "plt.title('Attrition as per Job Role', fontsize=20)\n",
    "plt.xlabel('Job Role',fontsize=15)\n",
    "plt.show()"
   ]
  },
  {
   "cell_type": "markdown",
   "id": "0400b093",
   "metadata": {},
   "source": [
    "<Figure size 864x720 with 0 Axes>\n",
    "We all can definitely see Red Signal for different Managers & HR of Respective Job Role in above barplot !!!\n",
    "\n",
    "Bar plot showing % attrition across each job role, let check absolute number matrix of attrition, again this time using crosstab.\n"
   ]
  },
  {
   "cell_type": "code",
   "execution_count": null,
   "id": "edf69c93",
   "metadata": {},
   "outputs": [],
   "source": [
    "pd.crosstab([df.JobRole,df.Department],[df.Attrition], margins=True).style.background_gradient(cmap='gist_rainbow_r')"
   ]
  },
  {
   "cell_type": "code",
   "execution_count": null,
   "id": "6b0a2e15",
   "metadata": {},
   "outputs": [],
   "source": [
    "\tAttrition\tNo\tYes\tAll\n",
    "JobRole\tDepartment\t\t\t\n",
    "Healthcare Representative\tResearch & Development\t122\t9\t131\n",
    "Human Resources\tHuman Resources\t40\t12\t52\n",
    "Laboratory Technician\tResearch & Development\t197\t62\t259\n",
    "Manager\tHuman Resources\t11\t0\t11\n",
    "Research & Development\t51\t3\t54\n",
    "Sales\t35\t2\t37\n",
    "Manufacturing Director\tResearch & Development\t135\t10\t145\n",
    "Research Director\tResearch & Development\t78\t2\t80\n",
    "Research Scientist\tResearch & Development\t245\t47\t292\n",
    "Sales Executive\tSales\t269\t57\t326\n",
    "Sales Representative\tSales\t50\t33\t83\n",
    "All\t\t1233\t237\t1470\n",
    "Comment:\n",
    "Percentage of attrition is high in Sales Representative,Laboratory Technician,Human Resources. This all job role comes at bottom in corparate hierachy also Salary is comparatively less compare to other job role.\n",
    "Monthly Income, Job stastifation, travelling are feature need to dive into for further insights in these job role.\n",
    "At the Top chart 62 Laboratory Technician has resign from job, followed by 57 sales executive and 47 Research Scientist.\n",
    "16 % arttrition rate for Research Scientist, which involve huge investment from company. Company not only loses employee but its knowledge base, expertise & Intellatual property rights in some cases."
   ]
  },
  {
   "cell_type": "code",
   "execution_count": null,
   "id": "b0ace8a8",
   "metadata": {},
   "outputs": [],
   "source": [
    "# Grouping Numeric Features\n",
    "Numeric=['Age', 'DailyRate', 'DistanceFromHome',  \n",
    " 'EnvironmentSatisfaction', 'HourlyRate', 'JobInvolvement', 'JobLevel', 'JobSatisfaction', \n",
    " 'MonthlyIncome', 'MonthlyRate', 'NumCompaniesWorked', 'PercentSalaryHike', 'PerformanceRating', \n",
    " 'RelationshipSatisfaction','StockOptionLevel', 'TotalWorkingYears', 'TrainingTimesLastYear',\n",
    " 'WorkLifeBalance', 'YearsAtCompany', 'YearsInCurrentRole', 'YearsSinceLastPromotion', 'YearsWithCurrManager']"
   ]
  },
  {
   "cell_type": "markdown",
   "id": "f6b9a442",
   "metadata": {},
   "source": [
    "### Violinplot of Numeric Variables "
   ]
  },
  {
   "cell_type": "code",
   "execution_count": null,
   "id": "8132762a",
   "metadata": {},
   "outputs": [],
   "source": [
    "# Grouping Numeric Features\n",
    "Numeric_int=['Age', 'DailyRate', 'DistanceFromHome', 'HourlyRate','MonthlyIncome', 'MonthlyRate', \n",
    "             'NumCompaniesWorked', 'PercentSalaryHike', 'TotalWorkingYears','TrainingTimesLastYear',\n",
    "             'YearsAtCompany', 'YearsInCurrentRole', 'YearsSinceLastPromotion', 'YearsWithCurrManager']"
   ]
  },
  {
   "cell_type": "code",
   "execution_count": null,
   "id": "10978220",
   "metadata": {},
   "outputs": [],
   "source": [
    "sns.set_palette('spring')\n",
    "plt.figure(figsize=(20,50), facecolor='white')\n",
    "plotnumber =1\n",
    "\n",
    "for i in Numeric_int:\n",
    "    if plotnumber <=25:\n",
    "        ax = plt.subplot(9,3,plotnumber)\n",
    "        sns.violinplot(df[i])\n",
    "        plt.xlabel(i,fontsize=20)\n",
    "        plt.xticks(rotation=30)\n",
    "    plotnumber+=1\n",
    "plt.tight_layout()\n",
    "plt.show() \n",
    "\n",
    "Comment:\n",
    "For Majority of people have spend 3 to 10 years at company.\n",
    "Most of people staying company upto 2 years after promotion.\n",
    "Majority of people are are train 2-3 times in last year.If employees leaves job then it loss investment for company.\n",
    "Majority of people stay in same role for maximum 4 yrs.\n",
    "Majority of Employees have salary hike of 10 to 15%.\n",
    "Age Vs Attrition"
   ]
  },
  {
   "cell_type": "code",
   "execution_count": null,
   "id": "be601df2",
   "metadata": {},
   "outputs": [],
   "source": [
    "plt.subplots(figsize=(12,6))\n",
    "sns.countplot(df['Age'])"
   ]
  },
  {
   "cell_type": "markdown",
   "id": "17312e9f",
   "metadata": {},
   "source": [
    "<AxesSubplot:xlabel='Age', ylabel='count'>\n"
   ]
  },
  {
   "cell_type": "code",
   "execution_count": null,
   "id": "7074c1fa",
   "metadata": {},
   "outputs": [],
   "source": [
    "sns.set_palette('hsv')\n",
    "plt.subplots(figsize=(18,8))\n",
    "sns.countplot(x='Age', hue='Attrition', data=df)"
   ]
  },
  {
   "cell_type": "markdown",
   "id": "5cd395ca",
   "metadata": {},
   "source": [
    "<AxesSubplot:xlabel='Age', ylabel='count'>\n",
    "Comment:\n",
    "The Attrition rate is minimum between the Age years of 34 and 35.\n",
    "The Attrition rate is maximum between the Age years of 29 and 31.\n"
   ]
  },
  {
   "cell_type": "code",
   "execution_count": null,
   "id": "42a1f4bf",
   "metadata": {},
   "outputs": [],
   "source": [
    "plt.figure(figsize=(15,8))\n",
    "sns.barplot(df['TotalWorkingYears'],df['MonthlyIncome'])\n",
    "plt.xlabel('Total Working Years',fontsize=20)\n",
    "plt.ylabel('Monthly Income',fontsize=20)\n",
    "plt.title(\" Total Working Years vs Monthly Income\", fontsize=20)\n",
    "plt.show()"
   ]
  },
  {
   "cell_type": "markdown",
   "id": "3d75b7bb",
   "metadata": {},
   "source": [
    "Comment:\n",
    "Monthly Income is highest for the employees with 21 or more number of Total Working Years."
   ]
  },
  {
   "cell_type": "code",
   "execution_count": null,
   "id": "b719fc5d",
   "metadata": {},
   "outputs": [],
   "source": [
    "plt.figure(figsize=(8,6))\n",
    "sns.barplot(x='Attrition',y='MonthlyIncome',data=df)\n",
    "plt.xticks(fontsize=18)\n",
    "plt.yticks(fontsize=18)\n",
    "plt.show()"
   ]
  },
  {
   "cell_type": "markdown",
   "id": "a90c4d4c",
   "metadata": {},
   "source": [
    "Comment:\n",
    "The Attrition rate in the employees is less when the monthly income reaches to 6900."
   ]
  },
  {
   "cell_type": "code",
   "execution_count": null,
   "id": "4a9b3194",
   "metadata": {},
   "outputs": [],
   "source": [
    "plt.figure(figsize=(8,6))\n",
    "sns.barplot(x='Attrition',y='YearsSinceLastPromotion',data=df)\n",
    "plt.xticks(fontsize=18)\n",
    "plt.yticks(fontsize=18)\n",
    "plt.show()"
   ]
  },
  {
   "cell_type": "code",
   "execution_count": null,
   "id": "a8f2234f",
   "metadata": {},
   "outputs": [],
   "source": [
    "Comment:\n",
    "The rate of Attrition is high when the employee did not got promoted since 1.8 years."
   ]
  },
  {
   "cell_type": "code",
   "execution_count": null,
   "id": "eda1f955",
   "metadata": {},
   "outputs": [],
   "source": [
    "df=pd.read_csv('WA_Fn-UseC_-HR-Employee-Attrition.csv')"
   ]
  },
  {
   "cell_type": "markdown",
   "id": "9706a645",
   "metadata": {},
   "source": [
    "### Encoding categorical data"
   ]
  },
  {
   "cell_type": "code",
   "execution_count": null,
   "id": "19efe9a8",
   "metadata": {},
   "outputs": [],
   "source": [
    "# Using Label Encoder on target variable\n",
    "from sklearn.preprocessing import LabelEncoder\n",
    "le = LabelEncoder()\n",
    "df[\"Attrition\"] = le.fit_transform(df[\"Attrition\"])\n",
    "df.head()"
   ]
  },
  {
   "cell_type": "markdown",
   "id": "c6e2c2ce",
   "metadata": {},
   "source": [
    "\tAge\tAttrition\tBusinessTravel\tDailyRate\tDepartment\tDistanceFromHome\tEducation\tEducationField\tEmployeeCount\tEmployeeNumber\t...\tRelationshipSatisfaction\tStandardHours\tStockOptionLevel\tTotalWorkingYears\tTrainingTimesLastYear\tWorkLifeBalance\tYearsAtCompany\tYearsInCurrentRole\tYearsSinceLastPromotion\tYearsWithCurrManager\n",
    "0\t41\t1\tTravel_Rarely\t1102\tSales\t1\t2\tLife Sciences\t1\t1\t...\t1\t80\t0\t8\t0\t1\t6\t4\t0\t5\n",
    "1\t49\t0\tTravel_Frequently\t279\tResearch & Development\t8\t1\tLife Sciences\t1\t2\t...\t4\t80\t1\t10\t3\t3\t10\t7\t1\t7\n",
    "2\t37\t1\tTravel_Rarely\t1373\tResearch & Development\t2\t2\tOther\t1\t4\t...\t2\t80\t0\t7\t3\t3\t0\t0\t0\t0\n",
    "3\t33\t0\tTravel_Frequently\t1392\tResearch & Development\t3\t4\tLife Sciences\t1\t5\t...\t3\t80\t0\t8\t3\t3\t8\t7\t3\t0\n",
    "4\t27\t0\tTravel_Rarely\t591\tResearch & Development\t2\t1\tMedical\t1\t7\t...\t4\t80\t1\t6\t3\t3\t2\t2\t2\t2\n",
    "5 rows × 35 columns"
   ]
  },
  {
   "cell_type": "code",
   "execution_count": null,
   "id": "8459dd15",
   "metadata": {},
   "outputs": [],
   "source": [
    "# Droping unnecessary columns\n",
    "df.drop([\"EmployeeCount\", \"EmployeeNumber\", \"Over18\", \"StandardHours\"], axis=1, inplace=True)"
   ]
  },
  {
   "cell_type": "code",
   "execution_count": null,
   "id": "6f321fdc",
   "metadata": {},
   "outputs": [],
   "source": [
    "df.shape"
   ]
  },
  {
   "cell_type": "markdown",
   "id": "a09b8816",
   "metadata": {},
   "source": [
    "(1470, 31)"
   ]
  },
  {
   "cell_type": "code",
   "execution_count": null,
   "id": "7a49eb23",
   "metadata": {},
   "outputs": [],
   "source": [
    "# Ordinal Encoding for ordinal variables\n",
    "from sklearn.preprocessing import OrdinalEncoder\n",
    "oe = OrdinalEncoder()\n",
    "def ordinal_encode(df, column):\n",
    "    df[column] = oe.fit_transform(df[column])\n",
    "    return df\n",
    "\n",
    "oe_col = ['BusinessTravel', 'Department', 'EducationField', 'Gender', 'JobRole', 'MaritalStatus', 'OverTime']\n",
    "df=ordinal_encode(df, oe_col)\n",
    "df.head()"
   ]
  },
  {
   "cell_type": "markdown",
   "id": "f3538258",
   "metadata": {},
   "source": [
    "\tAge\tAttrition\tBusinessTravel\tDailyRate\tDepartment\tDistanceFromHome\tEducation\tEducationField\tEnvironmentSatisfaction\tGender\t...\tPerformanceRating\tRelationshipSatisfaction\tStockOptionLevel\tTotalWorkingYears\tTrainingTimesLastYear\tWorkLifeBalance\tYearsAtCompany\tYearsInCurrentRole\tYearsSinceLastPromotion\tYearsWithCurrManager\n",
    "0\t41\t1\t2.0\t1102\t2.0\t1\t2\t1.0\t2\t0.0\t...\t3\t1\t0\t8\t0\t1\t6\t4\t0\t5\n",
    "1\t49\t0\t1.0\t279\t1.0\t8\t1\t1.0\t3\t1.0\t...\t4\t4\t1\t10\t3\t3\t10\t7\t1\t7\n",
    "2\t37\t1\t2.0\t1373\t1.0\t2\t2\t4.0\t4\t1.0\t...\t3\t2\t0\t7\t3\t3\t0\t0\t0\t0\n",
    "3\t33\t0\t1.0\t1392\t1.0\t3\t4\t1.0\t4\t0.0\t...\t3\t3\t0\t8\t3\t3\t8\t7\t3\t0\n",
    "4\t27\t0\t2.0\t591\t1.0\t2\t1\t3.0\t1\t1.0\t...\t3\t4\t1\t6\t3\t3\t2\t2\t2\t2"
   ]
  },
  {
   "cell_type": "markdown",
   "id": "517c4114",
   "metadata": {},
   "source": [
    "## Outliers Detection and Removal"
   ]
  },
  {
   "cell_type": "code",
   "execution_count": null,
   "id": "b26e478b",
   "metadata": {},
   "outputs": [],
   "source": [
    "plt.figure(figsize=(20,30),facecolor='white')\n",
    "plotnumber=1\n",
    "\n",
    "for column in Numeric:\n",
    "    if plotnumber<=28:\n",
    "        ax=plt.subplot(7,4,plotnumber)\n",
    "        sns.boxplot(df[column],color='g')\n",
    "        plt.xlabel(column,fontsize=20)\n",
    "    plotnumber+=1\n",
    "plt.show()"
   ]
  },
  {
   "cell_type": "code",
   "execution_count": null,
   "id": "38506c73",
   "metadata": {},
   "outputs": [],
   "source": [
    "from scipy.stats import zscore\n",
    "z = np.abs(zscore(df))\n",
    "threshold = 3\n",
    "df1 = df[(z<3).all(axis = 1)]\n",
    "\n",
    "print (\"Shape of the dataframe before removing outliers: \", df.shape)\n",
    "print (\"Shape of the dataframe after removing outliers: \", df1.shape)\n",
    "print (\"Percentage of data loss post outlier removal: \", (df.shape[0]-df1.shape[0])/df.shape[0]*100)\n",
    "\n",
    "df=df1.copy() # reassigning the changed dataframe name to our original dataframe name"
   ]
  },
  {
   "cell_type": "markdown",
   "id": "2336e766",
   "metadata": {},
   "source": [
    "Shape of the dataframe before removing outliers:  (1470, 31)\n",
    "Shape of the dataframe after removing outliers:  (1387, 31)\n",
    "Percentage of data loss post outlier removal:  5.646258503401361\n",
    "Data Loss"
   ]
  },
  {
   "cell_type": "code",
   "execution_count": null,
   "id": "666e2e10",
   "metadata": {},
   "outputs": [],
   "source": [
    "print(\"\\033[1m\"+'Percentage Data Loss :'+\"\\033[0m\",((1470-1387)/1470)*100,'%')\n"
   ]
  },
  {
   "cell_type": "markdown",
   "id": "9c93e9fa",
   "metadata": {},
   "source": [
    "Percentage Data Loss : 5.646258503401361 %"
   ]
  },
  {
   "cell_type": "markdown",
   "id": "543427f5",
   "metadata": {},
   "source": [
    "## Feature selection and Engineering"
   ]
  },
  {
   "cell_type": "markdown",
   "id": "715a2bf0",
   "metadata": {},
   "source": [
    "## 1. Skewness of features"
   ]
  },
  {
   "cell_type": "code",
   "execution_count": null,
   "id": "9c2656ca",
   "metadata": {},
   "outputs": [],
   "source": [
    "df.skew()"
   ]
  },
  {
   "cell_type": "markdown",
   "id": "59756203",
   "metadata": {},
   "source": [
    "Age                         0.472280\n",
    "Attrition                   1.805983\n",
    "BusinessTravel             -1.426774\n",
    "DailyRate                  -0.017078\n",
    "Department                  0.183919\n",
    "DistanceFromHome            0.954752\n",
    "Education                  -0.289024\n",
    "EducationField              0.544868\n",
    "EnvironmentSatisfaction    -0.325285\n",
    "Gender                     -0.417296\n",
    "HourlyRate                 -0.030481\n",
    "JobInvolvement             -0.501401\n",
    "JobLevel                    1.126075\n",
    "JobRole                    -0.386843\n",
    "JobSatisfaction            -0.345612\n",
    "MaritalStatus              -0.160952\n",
    "MonthlyIncome               1.544770\n",
    "MonthlyRate                 0.030596\n",
    "NumCompaniesWorked          1.037715\n",
    "OverTime                    0.954751\n",
    "PercentSalaryHike           0.800592\n",
    "PerformanceRating           1.931566\n",
    "RelationshipSatisfaction   -0.295686\n",
    "StockOptionLevel            0.962332\n",
    "TotalWorkingYears           1.034487\n",
    "TrainingTimesLastYear       0.577614\n",
    "WorkLifeBalance            -0.557100\n",
    "YearsAtCompany              1.248623\n",
    "YearsInCurrentRole          0.726675\n",
    "YearsSinceLastPromotion     1.756335\n",
    "YearsWithCurrManager        0.694506\n",
    "dtype: float64"
   ]
  },
  {
   "cell_type": "code",
   "execution_count": null,
   "id": "1db05d86",
   "metadata": {},
   "outputs": [],
   "source": [
    "# Splitting data in target and dependent feature\n",
    "X = df.drop(['Attrition'], axis =1)\n",
    "Y = df['Attrition']"
   ]
  },
  {
   "cell_type": "markdown",
   "id": "4d7d8963",
   "metadata": {},
   "source": [
    "## Transforming skew data using power transform"
   ]
  },
  {
   "cell_type": "code",
   "execution_count": null,
   "id": "7400f8b1",
   "metadata": {},
   "outputs": [],
   "source": [
    "from sklearn.preprocessing import power_transform\n",
    "df = power_transform(x)\n",
    "df = pd.DataFrame(df, columns=x.columns)\n",
    "df.skew()"
   ]
  },
  {
   "cell_type": "markdown",
   "id": "a2c95522",
   "metadata": {},
   "source": [
    "# Age                        -0.004079\n",
    "BusinessTravel             -0.960583\n",
    "DailyRate                  -0.199742\n",
    "Department                  0.015095\n",
    "DistanceFromHome           -0.008149\n",
    "Education                  -0.103747\n",
    "EducationField             -0.008642\n",
    "EnvironmentSatisfaction    -0.205472\n",
    "Gender                     -0.417296\n",
    "HourlyRate                 -0.105678\n",
    "JobInvolvement             -0.018801\n",
    "JobLevel                    0.110769\n",
    "JobRole                    -0.337641\n",
    "JobSatisfaction            -0.217730\n",
    "MaritalStatus              -0.158253\n",
    "MonthlyIncome               0.027700\n",
    "MonthlyRate                -0.176560\n",
    "NumCompaniesWorked          0.016175\n",
    "OverTime                    0.954751\n",
    "PercentSalaryHike           0.112128\n",
    "PerformanceRating           0.000000\n",
    "RelationshipSatisfaction   -0.191406\n",
    "StockOptionLevel            0.089929\n",
    "TotalWorkingYears          -0.009666\n",
    "TrainingTimesLastYear       0.057949\n",
    "WorkLifeBalance            -0.011133\n",
    "YearsAtCompany             -0.025230\n",
    "YearsInCurrentRole         -0.069631\n",
    "YearsSinceLastPromotion     0.212301\n",
    "YearsWithCurrManager       -0.070570\n",
    "dtype: float64\n",
    "Comment :\n",
    "For Numeric features skewness is transform within permissible limit.\n",
    "For ordinal features & categorical features skew parameter irrevalent."
   ]
  },
  {
   "cell_type": "markdown",
   "id": "144ac4b5",
   "metadata": {},
   "source": [
    "## 2. Corrleation"
   ]
  },
  {
   "cell_type": "code",
   "execution_count": null,
   "id": "f721001d",
   "metadata": {},
   "outputs": [],
   "source": [
    "df.corr()"
   ]
  },
  {
   "cell_type": "markdown",
   "id": "568648fe",
   "metadata": {},
   "source": [
    "\tAge\tBusinessTravel\tDailyRate\tDepartment\tDistanceFromHome\tEducation\tEducationField\tEnvironmentSatisfaction\tGender\tHourlyRate\t...\tPercentSalaryHike\tRelationshipSatisfaction\tStockOptionLevel\tTotalWorkingYears\tTrainingTimesLastYear\tWorkLifeBalance\tYearsAtCompany\tYearsInCurrentRole\tYearsSinceLastPromotion\tYearsWithCurrManager\n",
    "Age\t1.000000\t0.019607\t0.019864\t-0.036344\t-0.025855\t0.215520\t-0.037564\t0.013967\t-0.037163\t0.026203\t...\t0.010488\t0.037296\t0.089449\t0.652405\t-0.014951\t-0.016180\t0.207538\t0.145404\t0.114162\t0.142446\n",
    "BusinessTravel\t0.019607\t1.000000\t-0.001984\t-0.003560\t-0.007041\t-0.006468\t0.034658\t0.004183\t-0.011439\t0.026364\t...\t-0.019175\t-0.036165\t-0.006092\t0.027298\t0.006192\t-0.017977\t-0.024021\t-0.035610\t-0.033148\t-0.032665\n",
    "DailyRate\t0.019864\t-0.001984\t1.000000\t-0.003546\t-0.006034\t-0.017504\t0.040993\t0.034324\t-0.003271\t0.015156\t...\t0.029183\t0.005771\t0.049415\t0.042750\t0.005118\t-0.046550\t0.005391\t0.022143\t-0.035448\t0.005908\n",
    "Department\t-0.036344\t-0.003560\t-0.003546\t1.000000\t0.037834\t0.012780\t0.082525\t-0.013867\t-0.030950\t-0.000623\t...\t-0.013541\t-0.037572\t-0.000630\t-0.006833\t0.039938\t0.017807\t0.025457\t0.057817\t0.017699\t0.024241\n",
    "DistanceFromHome\t-0.025855\t-0.007041\t-0.006034\t0.037834\t1.000000\t0.002714\t0.021074\t-0.013409\t0.010557\t0.015607\t...\t0.034946\t0.009379\t0.027082\t-0.012129\t-0.015334\t-0.030011\t0.006570\t0.013091\t-0.003873\t-0.002310\n",
    "Education\t0.215520\t-0.006468\t-0.017504\t0.012780\t0.002714\t1.000000\t-0.038405\t-0.026095\t-0.017807\t0.011105\t...\t-0.002095\t-0.004863\t0.025621\t0.150720\t-0.023039\t0.010164\t0.037921\t0.051072\t0.016076\t0.026651\n",
    "EducationField\t-0.037564\t0.034658\t0.040993\t0.082525\t0.021074\t-0.038405\t1.000000\t0.042609\t0.005059\t-0.004372\t...\t0.000812\t-0.018254\t-0.012936\t-0.001827\t0.054321\t0.034788\t0.004483\t0.004372\t0.023062\t0.028189\n",
    "EnvironmentSatisfaction\t0.013967\t0.004183\t0.034324\t-0.013867\t-0.013409\t-0.026095\t0.042609\t1.000000\t-0.014940\t-0.042512\t...\t-0.027743\t0.016892\t0.024345\t-0.013356\t-0.018350\t0.030422\t0.012338\t0.029218\t0.038031\t0.006417\n",
    "Gender\t-0.037163\t-0.011439\t-0.003271\t-0.030950\t0.010557\t-0.017807\t0.005059\t-0.014940\t1.000000\t0.005618\t...\t0.010984\t0.041439\t0.024390\t-0.049776\t-0.039213\t0.002726\t-0.046018\t-0.028101\t-0.016131\t-0.027972\n",
    "HourlyRate\t0.026203\t0.026364\t0.015156\t-0.000623\t0.015607\t0.011105\t-0.004372\t-0.042512\t0.005618\t1.000000\t...\t-0.015826\t0.005207\t0.041329\t-0.012902\t-0.018396\t-0.013811\t-0.032827\t-0.035899\t-0.062271\t-0.022931\n",
    "JobInvolvement\t0.032323\t0.018230\t0.041841\t-0.025121\t0.038096\t0.042166\t-0.007969\t-0.020953\t0.014878\t0.051979\t...\t-0.009987\t0.038450\t0.036543\t0.013791\t-0.012595\t-0.008334\t0.023893\t0.023724\t-0.006630\t0.052822\n",
    "JobLevel\t0.442350\t0.003401\t0.015931\t0.200829\t0.024038\t0.103834\t-0.026676\t0.010615\t-0.058378\t-0.039909\t...\t-0.027772\t0.001790\t0.051470\t0.704215\t-0.010041\t0.048855\t0.409496\t0.324336\t0.195445\t0.315914\n",
    "JobRole\t-0.116758\t-0.002615\t-0.013156\t0.681597\t0.010044\t0.016548\t0.050693\t-0.022464\t-0.036436\t-0.023758\t...\t0.007921\t-0.022498\t-0.022612\t-0.135182\t0.004225\t0.012521\t-0.040080\t0.007195\t0.000737\t-0.016941\n",
    "JobSatisfaction\t0.010038\t-0.033026\t0.044460\t0.030615\t-0.020165\t-0.005640\t-0.050693\t-0.009553\t0.038130\t-0.067797\t...\t0.017539\t-0.011745\t0.006946\t-0.000852\t-0.018180\t-0.024821\t0.030234\t0.018021\t0.026805\t0.004270\n",
    "MaritalStatus\t-0.117182\t0.010108\t-0.076058\t0.052696\t-0.027285\t-0.012237\t0.013433\t-0.012356\t-0.056779\t-0.008966\t...\t0.013717\t0.025140\t-0.741869\t-0.098675\t0.015749\t0.019958\t-0.066987\t-0.054949\t-0.008255\t-0.049952\n",
    "MonthlyIncome\t0.452513\t0.030793\t0.029944\t0.152234\t0.000545\t0.112084\t-0.020033\t-0.011976\t-0.052340\t-0.023613\t...\t-0.026381\t-0.007392\t0.052393\t0.716232\t-0.034842\t0.032043\t0.416465\t0.343024\t0.203459\t0.320449\n",
    "MonthlyRate\t0.020538\t-0.008138\t-0.032890\t0.023941\t0.047736\t-0.018874\t-0.027785\t0.036843\t-0.047240\t-0.011438\t...\t-0.011841\t-0.003920\t-0.046690\t0.006912\t0.019786\t0.001548\t-0.034877\t-0.008670\t-0.019588\t-0.033583\n",
    "NumCompaniesWorked\t0.340022\t0.034013\t0.034923\t-0.033131\t-0.010318\t0.136101\t-0.010403\t0.011203\t-0.033345\t0.019917\t...\t0.001821\t0.041253\t0.038411\t0.322501\t-0.056832\t0.020077\t-0.178518\t-0.136304\t-0.082304\t-0.154424\n",
    "OverTime\t0.028332\t0.010934\t0.020045\t0.015121\t0.036524\t-0.015248\t0.010335\t0.058274\t-0.051558\t-0.003232\t...\t-0.011486\t0.048337\t-0.011216\t0.010003\t-0.076271\t-0.035715\t-0.030449\t-0.031265\t-0.010815\t-0.030906\n",
    "PercentSalaryHike\t0.010488\t-0.019175\t0.029183\t-0.013541\t0.034946\t-0.002095\t0.000812\t-0.027743\t0.010984\t-0.015826\t...\t1.000000\t-0.032962\t0.021635\t-0.021813\t-0.011397\t-0.015558\t-0.053612\t-0.028763\t-0.055194\t-0.028292\n",
    "RelationshipSatisfaction\t0.037296\t-0.036165\t0.005771\t-0.037572\t0.009379\t-0.004863\t-0.018254\t0.016892\t0.041439\t0.005207\t...\t-0.032962\t1.000000\t-0.056524\t-0.007637\t-0.001554\t0.021454\t-0.019388\t-0.027391\t0.010034\t-0.006855\n",
    "StockOptionLevel\t0.089449\t-0.006092\t0.049415\t-0.000630\t0.027082\t0.025621\t-0.012936\t0.024345\t0.024390\t0.041329\t...\t0.021635\t-0.056524\t1.000000\t0.066322\t0.008981\t-0.013760\t0.071910\t0.075323\t0.029988\t0.069315\n",
    "TotalWorkingYears\t0.652405\t0.027298\t0.042750\t-0.006833\t-0.012129\t0.150720\t-0.001827\t-0.013356\t-0.049776\t-0.012902\t...\t-0.021813\t-0.007637\t0.066322\t1.000000\t-0.019417\t0.010194\t0.532838\t0.423676\t0.262110\t0.430605\n",
    "TrainingTimesLastYear\t-0.014951\t0.006192\t0.005118\t0.039938\t-0.015334\t-0.023039\t0.054321\t-0.018350\t-0.039213\t-0.018396\t...\t-0.011397\t-0.001554\t0.008981\t-0.019417\t1.000000\t0.029674\t-0.002893\t-0.000389\t0.018813\t-0.008266\n",
    "WorkLifeBalance\t-0.016180\t-0.017977\t-0.046550\t0.017807\t-0.030011\t0.010164\t0.034788\t0.030422\t0.002726\t-0.013811\t...\t-0.015558\t0.021454\t-0.013760\t0.010194\t0.029674\t1.000000\t0.012999\t0.023079\t0.007065\t-0.006078\n",
    "YearsAtCompany\t0.207538\t-0.024021\t0.005391\t0.025457\t0.006570\t0.037921\t0.004483\t0.012338\t-0.046018\t-0.032827\t...\t-0.053612\t-0.019388\t0.071910\t0.532838\t-0.002893\t0.012999\t1.000000\t0.835352\t0.486029\t0.835219\n",
    "YearsInCurrentRole\t0.145404\t-0.035610\t0.022143\t0.057817\t0.013091\t0.051072\t0.004372\t0.029218\t-0.028101\t-0.035899\t...\t-0.028763\t-0.027391\t0.075323\t0.423676\t-0.000389\t0.023079\t0.835352\t1.000000\t0.482746\t0.729727\n",
    "YearsSinceLastPromotion\t0.114162\t-0.033148\t-0.035448\t0.017699\t-0.003873\t0.016076\t0.023062\t0.038031\t-0.016131\t-0.062271\t...\t-0.055194\t0.010034\t0.029988\t0.262110\t0.018813\t0.007065\t0.486029\t0.482746\t1.000000\t0.456672\n",
    "YearsWithCurrManager\t0.142446\t-0.032665\t0.005908\t0.024241\t-0.002310\t0.026651\t0.028189\t0.006417\t-0.027972\t-0.022931\t...\t-0.028292\t-0.006855\t0.069315\t0.430605\t-0.008266\t-0.006078\t0.835219\t0.729727\t0.456672\t1.000000\n",
    "29 rows × 29 columns"
   ]
  },
  {
   "cell_type": "code",
   "execution_count": null,
   "id": "14b33788",
   "metadata": {},
   "outputs": [],
   "source": [
    "upper_triangle = np.triu(df.corr())\n",
    "plt.figure(figsize=(25,15))\n",
    "sns.heatmap(df.corr(), vmin=-1, vmax=1, annot=True, square=True, fmt='0.3f', \n",
    "            annot_kws={'size':10}, cmap=\"gist_stern\", mask=upper_triangle)\n",
    "plt.xticks(fontsize=12)\n",
    "plt.yticks(fontsize=12)\n",
    "plt.show()"
   ]
  },
  {
   "cell_type": "code",
   "execution_count": null,
   "id": "1bd1036c",
   "metadata": {},
   "outputs": [],
   "source": [
    "plt.figure(figsize = (18,6))\n",
    "df1.corr()['Attrition'].drop(['Attrition']).plot(kind='bar',color = 'c')\n",
    "plt.xlabel('Features',fontsize=15)\n",
    "plt.ylabel('Attrition',fontsize=15)\n",
    "plt.title('Correlation of features with Target Variable Attrition',fontsize = 18)\n",
    "plt.show()"
   ]
  },
  {
   "cell_type": "markdown",
   "id": "11b0b2f7",
   "metadata": {},
   "source": [
    "Comment:\n",
    "Age, JobLevel, MonthlyIncome is highly positively correlated with TotalWorkingYears.\n",
    "JobLevel is highly positively correlated with the MonthlyIncome.\n",
    "PercentSalaryHike is highly positively correlated with the column PerformanceRating."
   ]
  },
  {
   "cell_type": "markdown",
   "id": "7c785b0c",
   "metadata": {},
   "source": [
    "## 3. Checking Multicollinearity between features using variance_inflation_factor"
   ]
  },
  {
   "cell_type": "code",
   "execution_count": null,
   "id": "b4bd2e96",
   "metadata": {},
   "outputs": [],
   "source": [
    "from statsmodels.stats.outliers_influence import variance_inflation_factor\n",
    "vif= pd.DataFrame()\n",
    "vif['VIF']= [variance_inflation_factor(df.values,i) for i in range(df.shape[1])]\n",
    "vif['Features']= df.columns\n",
    "vif"
   ]
  },
  {
   "cell_type": "code",
   "execution_count": null,
   "id": "acbcae7c",
   "metadata": {},
   "outputs": [],
   "source": [
    "VIF\tFeatures\n",
    "0\t1.930457\tAge\n",
    "1\t1.014314\tBusinessTravel\n",
    "2\t1.025841\tDailyRate\n",
    "3\t2.172093\tDepartment\n",
    "4\t1.017385\tDistanceFromHome\n",
    "5\t1.065266\tEducation\n",
    "6\t1.030480\tEducationField\n",
    "7\t1.024396\tEnvironmentSatisfaction\n",
    "8\t1.024366\tGender\n",
    "9\t1.024189\tHourlyRate\n",
    "10\t1.020167\tJobInvolvement\n",
    "11\t5.976707\tJobLevel\n",
    "12\t2.023213\tJobRole\n",
    "13\t1.023909\tJobSatisfaction\n",
    "14\t2.298943\tMaritalStatus\n",
    "15\t5.842828\tMonthlyIncome\n",
    "16\t1.022108\tMonthlyRate\n",
    "17\t1.426763\tNumCompaniesWorked\n",
    "18\t1.028400\tOverTime\n",
    "19\t1.016867\tPercentSalaryHike\n",
    "20\t1.022260\tRelationshipSatisfaction\n",
    "21\t2.279101\tStockOptionLevel\n",
    "22\t4.093506\tTotalWorkingYears\n",
    "23\t1.025519\tTrainingTimesLastYear\n",
    "24\t1.017093\tWorkLifeBalance\n",
    "25\t6.296064\tYearsAtCompany\n",
    "26\t3.513852\tYearsInCurrentRole\n",
    "27\t1.373189\tYearsSinceLastPromotion\n",
    "28\t3.433437\tYearsWithCurrManager\n",
    "Comment :\n",
    "We can see that multicollinerity is within permissible limit of 10."
   ]
  },
  {
   "cell_type": "markdown",
   "id": "87911e71",
   "metadata": {},
   "source": [
    "## Balancing using SMOTE\n",
    "As data is Imbalanced in nature we will need to balance target variable."
   ]
  },
  {
   "cell_type": "code",
   "execution_count": null,
   "id": "749fad81",
   "metadata": {},
   "outputs": [],
   "source": [
    "from imblearn.over_sampling import SMOTE"
   ]
  },
  {
   "cell_type": "code",
   "execution_count": null,
   "id": "b5b8dfdf",
   "metadata": {},
   "outputs": [],
   "source": [
    "# Oversampleing using SMOTE Techniques\n",
    "oversample = SMOTE()\n",
    "X, Y = oversample.fit_resample(X, Y)"
   ]
  },
  {
   "cell_type": "code",
   "execution_count": null,
   "id": "c1c5ab5f",
   "metadata": {},
   "outputs": [],
   "source": [
    "Y.value_counts()"
   ]
  },
  {
   "cell_type": "markdown",
   "id": "874f71ca",
   "metadata": {},
   "source": [
    "1    1158\n",
    "0    1158\n",
    "Name: Attrition, dtype: int64"
   ]
  },
  {
   "cell_type": "markdown",
   "id": "cb2a101c",
   "metadata": {},
   "source": [
    "## Standard Scaling"
   ]
  },
  {
   "cell_type": "code",
   "execution_count": null,
   "id": "bf3b4197",
   "metadata": {},
   "outputs": [],
   "source": [
    "from sklearn.preprocessing import StandardScaler\n",
    "scaler= StandardScaler()\n",
    "X_scale = scaler.fit_transform(X)"
   ]
  },
  {
   "cell_type": "code",
   "execution_count": null,
   "id": "df306fc8",
   "metadata": {},
   "outputs": [],
   "source": [
    "from sklearn.decomposition import PCA\n",
    "pca = PCA()\n",
    "#plot the graph to find the principal components\n",
    "x_pca = pca.fit_transform(X_scale)\n",
    "plt.figure(figsize=(10,10))\n",
    "plt.plot(np.cumsum(pca.explained_variance_ratio_), 'ro-')\n",
    "plt.xlabel('Number of Components')\n",
    "plt.ylabel('Variance %')\n",
    "plt.title('Explained variance Ratio')\n",
    "plt.grid()"
   ]
  },
  {
   "cell_type": "markdown",
   "id": "8b8a6a5d",
   "metadata": {},
   "source": [
    "Comment -\n",
    "AS per the graph, we can see that 21 principal components attribute for 90% of variation in the data. We shall pick the first 21 components for our prediction"
   ]
  },
  {
   "cell_type": "code",
   "execution_count": null,
   "id": "4d23d65c",
   "metadata": {},
   "outputs": [],
   "source": [
    "pca_new = PCA(n_components=21)\n",
    "x_new = pca_new.fit_transform(X_scale)"
   ]
  },
  {
   "cell_type": "code",
   "execution_count": null,
   "id": "76bee2da",
   "metadata": {},
   "outputs": [],
   "source": [
    "principle_x=pd.DataFrame(x_new,columns=np.arange(21))"
   ]
  },
  {
   "cell_type": "markdown",
   "id": "893a7944",
   "metadata": {},
   "source": [
    "## Machine Learning Model Building"
   ]
  },
  {
   "cell_type": "code",
   "execution_count": null,
   "id": "8d7e632f",
   "metadata": {},
   "outputs": [],
   "source": [
    "from sklearn.model_selection import train_test_split\n",
    "from sklearn.linear_model import LogisticRegression\n",
    "from sklearn.naive_bayes import GaussianNB\n",
    "from sklearn.svm import SVC\n",
    "from sklearn.tree import DecisionTreeClassifier\n",
    "from sklearn.neighbors import KNeighborsClassifier\n",
    "from sklearn.metrics import accuracy_score, confusion_matrix,classification_report,f1_score"
   ]
  },
  {
   "cell_type": "code",
   "execution_count": null,
   "id": "d684c27d",
   "metadata": {},
   "outputs": [],
   "source": [
    "from sklearn.ensemble import RandomForestClassifier\n",
    "from sklearn.ensemble import ExtraTreesClassifier\n",
    "from sklearn.neighbors import KNeighborsClassifier\n",
    "from sklearn.ensemble import AdaBoostClassifier\n",
    "from sklearn.ensemble import GradientBoostingClassifier\n",
    "from sklearn.ensemble import BaggingClassifier"
   ]
  },
  {
   "cell_type": "code",
   "execution_count": null,
   "id": "0eac0111",
   "metadata": {},
   "outputs": [],
   "source": [
    "X_train, X_test, Y_train, Y_test = train_test_split(principle_x, Y, random_state=42, test_size=.33)\n",
    "print('Training feature matrix size:',X_train.shape)\n",
    "print('Training target vector size:',Y_train.shape)\n",
    "print('Test feature matrix size:',X_test.shape)\n",
    "print('Test target vector size:',Y_test.shape)"
   ]
  },
  {
   "cell_type": "markdown",
   "id": "3470b7bd",
   "metadata": {},
   "source": [
    "Training feature matrix size: (1551, 21)\n",
    "Training target vector size: (1551,)\n",
    "Test feature matrix size: (765, 21)\n",
    "Test target vector size: (765,)"
   ]
  },
  {
   "cell_type": "markdown",
   "id": "70faa7b0",
   "metadata": {},
   "source": [
    "## Finding best Random state"
   ]
  },
  {
   "cell_type": "code",
   "execution_count": null,
   "id": "2596e82e",
   "metadata": {},
   "outputs": [],
   "source": [
    "from sklearn.linear_model import LogisticRegression\n",
    "from sklearn.metrics import accuracy_score, confusion_matrix,classification_report,f1_score\n",
    "maxAccu=0\n",
    "maxRS=0\n",
    "for i in range(1,250):\n",
    "    X_train,X_test,Y_train,Y_test = train_test_split(principle_x,Y,test_size = 0.33, random_state=i)\n",
    "    log_reg=LogisticRegression()\n",
    "    log_reg.fit(X_train,Y_train)\n",
    "    y_pred=log_reg.predict(X_test)\n",
    "    acc=accuracy_score(Y_test,y_pred)\n",
    "    if acc>maxAccu:\n",
    "        maxAccu=acc\n",
    "        maxRS=i\n",
    "print('Best accuracy is', maxAccu ,'on Random_state', maxRS)"
   ]
  },
  {
   "cell_type": "markdown",
   "id": "75178af9",
   "metadata": {},
   "source": [
    "Best accuracy is 0.8705882352941177 on Random_state 242"
   ]
  },
  {
   "cell_type": "code",
   "execution_count": null,
   "id": "87185bbe",
   "metadata": {},
   "outputs": [],
   "source": [
    "X_train, X_test, Y_train, Y_test = train_test_split(principle_x, Y, random_state=242, test_size=.33)\n",
    "log_reg=LogisticRegression()\n",
    "log_reg.fit(X_train,Y_train)\n",
    "y_pred=log_reg.predict(X_test)\n",
    "print('\\033[1m'+'Logistics Regression Evaluation'+'\\033[0m')\n",
    "print('\\n')\n",
    "print('\\033[1m'+'Accuracy Score of Logistics Regression :'+'\\033[0m', accuracy_score(Y_test, y_pred))\n",
    "print('\\n')\n",
    "print('\\033[1m'+'Confusion matrix of Logistics Regression :'+'\\033[0m \\n',confusion_matrix(Y_test, y_pred))\n",
    "print('\\n')\n",
    "print('\\033[1m'+'classification Report of Logistics Regression'+'\\033[0m \\n',classification_report(Y_test, y_pred))"
   ]
  },
  {
   "cell_type": "markdown",
   "id": "9e718d32",
   "metadata": {},
   "source": [
    "Logistics Regression Evaluation\n",
    "\n",
    "\n",
    "Accuracy Score of Logistics Regression : 0.8705882352941177\n",
    "\n",
    "\n",
    "Confusion matrix of Logistics Regression : \n",
    " [[324  44]\n",
    " [ 55 342]]\n",
    "\n",
    "\n",
    "classification Report of Logistics Regression \n",
    "               precision    recall  f1-score   support\n",
    "\n",
    "           0       0.85      0.88      0.87       368\n",
    "           1       0.89      0.86      0.87       397\n",
    "\n",
    "    accuracy                           0.87       765\n",
    "   macro avg       0.87      0.87      0.87       765\n",
    "weighted avg       0.87      0.87      0.87       765\n"
   ]
  },
  {
   "cell_type": "markdown",
   "id": "41913a8d",
   "metadata": {},
   "source": [
    "### Finding Optimal value of n_neighbors for KNN "
   ]
  },
  {
   "cell_type": "code",
   "execution_count": null,
   "id": "c7cd5fdc",
   "metadata": {},
   "outputs": [],
   "source": [
    "from sklearn import neighbors\n",
    "from math import sqrt\n",
    "from sklearn.metrics import mean_squared_error\n",
    "rmse_val = [] #to store rmse values for different k\n",
    "for K in range(30):\n",
    "    K = K+1\n",
    "    model = neighbors.KNeighborsClassifier(n_neighbors = K)\n",
    "\n",
    "    model.fit(X_train,Y_train)  #fit the model\n",
    "    y_pred=model.predict(X_test) #make prediction on test set\n",
    "    error = sqrt(mean_squared_error(Y_test,y_pred)) #calculate rmse\n",
    "    rmse_val.append(error) #store rmse values\n",
    "    print('RMSE value for k= ' , K , 'is:', error)"
   ]
  },
  {
   "cell_type": "code",
   "execution_count": null,
   "id": "95fa8dbe",
   "metadata": {},
   "outputs": [],
   "source": [
    "RMSE value for k=  1 is: 0.3273981406234008\n",
    "RMSE value for k=  2 is: 0.30032661958503204\n",
    "RMSE value for k=  3 is: 0.34678730932445717\n",
    "RMSE value for k=  4 is: 0.31931298801289854\n",
    "RMSE value for k=  5 is: 0.35791699479543954\n",
    "RMSE value for k=  6 is: 0.34866692910423897\n",
    "RMSE value for k=  7 is: 0.3704792868174742\n",
    "RMSE value for k=  8 is: 0.3615507630310936\n",
    "RMSE value for k=  9 is: 0.37399101733297235\n",
    "RMSE value for k=  10 is: 0.3633540199183844\n",
    "RMSE value for k=  11 is: 0.3860305788964616\n",
    "RMSE value for k=  12 is: 0.37399101733297235\n",
    "RMSE value for k=  13 is: 0.39107694443752145\n",
    "RMSE value for k=  14 is: 0.3894020890135344\n",
    "RMSE value for k=  15 is: 0.39934587037179503\n",
    "RMSE value for k=  16 is: 0.39107694443752145\n",
    "RMSE value for k=  17 is: 0.4009791936316524\n",
    "RMSE value for k=  18 is: 0.3894020890135344\n",
    "RMSE value for k=  19 is: 0.3960590171906697\n",
    "RMSE value for k=  20 is: 0.39770583933420295\n",
    "RMSE value for k=  21 is: 0.40422604172722165\n",
    "RMSE value for k=  22 is: 0.40260589075170505\n",
    "RMSE value for k=  23 is: 0.4090479940519309\n",
    "RMSE value for k=  24 is: 0.4090479940519309\n",
    "RMSE value for k=  25 is: 0.41381376253739977\n",
    "RMSE value for k=  26 is: 0.40744701728620475\n",
    "RMSE value for k=  27 is: 0.41852526649272975\n",
    "RMSE value for k=  28 is: 0.4058397249567139\n",
    "RMSE value for k=  29 is: 0.41381376253739977\n",
    "RMSE value for k=  30 is: 0.4058397249567139"
   ]
  },
  {
   "cell_type": "code",
   "execution_count": null,
   "id": "5ec940cd",
   "metadata": {},
   "outputs": [],
   "source": [
    "#plotting the rmse values against k values -\n",
    "plt.figure(figsize = (8,6))\n",
    "plt.plot(range(30), rmse_val, color='blue', linestyle='dashed', marker='o', markerfacecolor='green', markersize=10)"
   ]
  },
  {
   "cell_type": "markdown",
   "id": "4872aa06",
   "metadata": {},
   "source": [
    "[<matplotlib.lines.Line2D at 0x27feb025bb0>]\n",
    "\n",
    "Comment-\n",
    "At k= 2, we get the minimum RMSE value which approximately 0.30032661958503204, and shoots up on further increasing the k value. We can safely say that k=2 will give us the best result in this case\n",
    "\n"
   ]
  },
  {
   "cell_type": "markdown",
   "id": "ef1286f1",
   "metadata": {},
   "source": [
    "## Applying other classification algorithm"
   ]
  },
  {
   "cell_type": "code",
   "execution_count": null,
   "id": "9167f3c8",
   "metadata": {},
   "outputs": [],
   "source": [
    "model=[\n",
    "        SVC(),\n",
    "        GaussianNB(),\n",
    "        DecisionTreeClassifier(),\n",
    "        KNeighborsClassifier(n_neighbors = 22),\n",
    "        RandomForestClassifier(),\n",
    "        AdaBoostClassifier(),\n",
    "        GradientBoostingClassifier(),\n",
    "        BaggingClassifier()]\n",
    "\n",
    "for m in model:\n",
    "    m.fit(X_train,Y_train)\n",
    "    y_pred=m.predict(X_test)\n",
    "    print('\\033[1m'+'Classification ML Algorithm Evaluation Matrix',m,'is' +'\\033[0m')\n",
    "    print('\\n')\n",
    "    print('\\033[1m'+'Accuracy Score :'+'\\033[0m\\n', accuracy_score(Y_test, y_pred))\n",
    "    print('\\n')\n",
    "    print('\\033[1m'+'Confusion matrix :'+'\\033[0m \\n',confusion_matrix(Y_test, y_pred))\n",
    "    print('\\n')\n",
    "    print('\\033[1m'+'Classification Report :'+'\\033[0m \\n',classification_report(Y_test, y_pred))\n",
    "    print('\\n')\n",
    "    print('============================================================================================================')"
   ]
  },
  {
   "cell_type": "markdown",
   "id": "2e8021c0",
   "metadata": {},
   "source": [
    "Classification ML Algorithm Evaluation Matrix SVC() is\n",
    "\n",
    "\n",
    "Accuracy Score :\n",
    " 0.9019607843137255\n",
    "\n",
    "\n",
    "Confusion matrix : \n",
    " [[342  26]\n",
    " [ 49 348]]\n",
    "\n",
    "\n",
    "Classification Report : \n",
    "               precision    recall  f1-score   support\n",
    "\n",
    "           0       0.87      0.93      0.90       368\n",
    "           1       0.93      0.88      0.90       397\n",
    "\n",
    "    accuracy                           0.90       765\n",
    "   macro avg       0.90      0.90      0.90       765\n",
    "weighted avg       0.90      0.90      0.90       765\n",
    "\n",
    "\n",
    "\n",
    "============================================================================================================\n",
    "Classification ML Algorithm Evaluation Matrix GaussianNB() is\n",
    "\n",
    "\n",
    "Accuracy Score :\n",
    " 0.8470588235294118\n",
    "\n",
    "\n",
    "Confusion matrix : \n",
    " [[315  53]\n",
    " [ 64 333]]\n",
    "\n",
    "\n",
    "Classification Report : \n",
    "               precision    recall  f1-score   support\n",
    "\n",
    "           0       0.83      0.86      0.84       368\n",
    "           1       0.86      0.84      0.85       397\n",
    "\n",
    "    accuracy                           0.85       765\n",
    "   macro avg       0.85      0.85      0.85       765\n",
    "weighted avg       0.85      0.85      0.85       765\n",
    "\n",
    "\n",
    "\n",
    "============================================================================================================\n",
    "Classification ML Algorithm Evaluation Matrix DecisionTreeClassifier() is\n",
    "\n",
    "\n",
    "Accuracy Score :\n",
    " 0.803921568627451\n",
    "\n",
    "\n",
    "Confusion matrix : \n",
    " [[294  74]\n",
    " [ 76 321]]\n",
    "\n",
    "\n",
    "Classification Report : \n",
    "               precision    recall  f1-score   support\n",
    "\n",
    "           0       0.79      0.80      0.80       368\n",
    "           1       0.81      0.81      0.81       397\n",
    "\n",
    "    accuracy                           0.80       765\n",
    "   macro avg       0.80      0.80      0.80       765\n",
    "weighted avg       0.80      0.80      0.80       765\n",
    "\n",
    "\n",
    "\n",
    "============================================================================================================\n",
    "Classification ML Algorithm Evaluation Matrix KNeighborsClassifier(n_neighbors=22) is\n",
    "\n",
    "\n",
    "Accuracy Score :\n",
    " 0.8379084967320262\n",
    "\n",
    "\n",
    "Confusion matrix : \n",
    " [[270  98]\n",
    " [ 26 371]]\n",
    "\n",
    "\n",
    "Classification Report : \n",
    "               precision    recall  f1-score   support\n",
    "\n",
    "           0       0.91      0.73      0.81       368\n",
    "           1       0.79      0.93      0.86       397\n",
    "\n",
    "    accuracy                           0.84       765\n",
    "   macro avg       0.85      0.83      0.84       765\n",
    "weighted avg       0.85      0.84      0.84       765\n",
    "\n",
    "\n",
    "\n",
    "============================================================================================================\n",
    "Classification ML Algorithm Evaluation Matrix RandomForestClassifier() is\n",
    "\n",
    "\n",
    "Accuracy Score :\n",
    " 0.8980392156862745\n",
    "\n",
    "\n",
    "Confusion matrix : \n",
    " [[342  26]\n",
    " [ 52 345]]\n",
    "\n",
    "\n",
    "Classification Report : \n",
    "               precision    recall  f1-score   support\n",
    "\n",
    "           0       0.87      0.93      0.90       368\n",
    "           1       0.93      0.87      0.90       397\n",
    "\n",
    "    accuracy                           0.90       765\n",
    "   macro avg       0.90      0.90      0.90       765\n",
    "weighted avg       0.90      0.90      0.90       765\n",
    "\n",
    "\n",
    "\n",
    "============================================================================================================\n",
    "Classification ML Algorithm Evaluation Matrix AdaBoostClassifier() is\n",
    "\n",
    "\n",
    "Accuracy Score :\n",
    " 0.8457516339869281\n",
    "\n",
    "\n",
    "Confusion matrix : \n",
    " [[311  57]\n",
    " [ 61 336]]\n",
    "\n",
    "\n",
    "Classification Report : \n",
    "               precision    recall  f1-score   support\n",
    "\n",
    "           0       0.84      0.85      0.84       368\n",
    "           1       0.85      0.85      0.85       397\n",
    "\n",
    "    accuracy                           0.85       765\n",
    "   macro avg       0.85      0.85      0.85       765\n",
    "weighted avg       0.85      0.85      0.85       765\n",
    "\n",
    "\n",
    "\n",
    "============================================================================================================\n",
    "Classification ML Algorithm Evaluation Matrix GradientBoostingClassifier() is\n",
    "\n",
    "\n",
    "Accuracy Score :\n",
    " 0.8562091503267973\n",
    "\n",
    "\n",
    "Confusion matrix : \n",
    " [[320  48]\n",
    " [ 62 335]]\n",
    "\n",
    "\n",
    "Classification Report : \n",
    "               precision    recall  f1-score   support\n",
    "\n",
    "           0       0.84      0.87      0.85       368\n",
    "           1       0.87      0.84      0.86       397\n",
    "\n",
    "    accuracy                           0.86       765\n",
    "   macro avg       0.86      0.86      0.86       765\n",
    "weighted avg       0.86      0.86      0.86       765\n",
    "\n",
    "\n",
    "\n",
    "============================================================================================================\n",
    "Classification ML Algorithm Evaluation Matrix BaggingClassifier() is\n",
    "\n",
    "\n",
    "Accuracy Score :\n",
    " 0.873202614379085\n",
    "\n",
    "\n",
    "Confusion matrix : \n",
    " [[332  36]\n",
    " [ 61 336]]\n",
    "\n",
    "\n",
    "Classification Report : \n",
    "               precision    recall  f1-score   support\n",
    "\n",
    "           0       0.84      0.90      0.87       368\n",
    "           1       0.90      0.85      0.87       397\n",
    "\n",
    "    accuracy                           0.87       765\n",
    "   macro avg       0.87      0.87      0.87       765\n",
    "weighted avg       0.88      0.87      0.87       765\n",
    "\n",
    "\n",
    "\n",
    "============================================================================================================\n",
    "We can see that RandomForestClassifier() gives us good Accuracy and maximum f1 score. so we will continue further investigation with crossvalidation of above model"
   ]
  },
  {
   "cell_type": "markdown",
   "id": "03f36b5e",
   "metadata": {},
   "source": [
    "## CrossValidation :"
   ]
  },
  {
   "cell_type": "code",
   "execution_count": null,
   "id": "142cc054",
   "metadata": {},
   "outputs": [],
   "source": [
    "from sklearn.model_selection import cross_val_score\n",
    "model=[LogisticRegression(),\n",
    "        SVC(),\n",
    "        GaussianNB(),\n",
    "        DecisionTreeClassifier(),\n",
    "        KNeighborsClassifier(n_neighbors = 12),\n",
    "        RandomForestClassifier(),\n",
    "        AdaBoostClassifier(),\n",
    "        GradientBoostingClassifier(),\n",
    "        BaggingClassifier()]\n",
    "\n",
    "for m in model:\n",
    "    score = cross_val_score(m, X, Y, cv =5)\n",
    "    print('\\n')\n",
    "    print('\\033[1m'+'Cross Validation Score', m, ':'+'\\033[0m\\n')\n",
    "    print(\"Score :\" ,score)\n",
    "    print(\"Mean Score :\",score.mean())\n",
    "    print(\"Std deviation :\",score.std())\n",
    "    print('\\n')\n",
    "    print('============================================================================================================')"
   ]
  },
  {
   "cell_type": "markdown",
   "id": "262750d2",
   "metadata": {},
   "source": [
    "Cross Validation Score LogisticRegression() :\n",
    "\n",
    "Score : [0.66810345 0.69114471 0.66954644 0.70194384 0.70410367]\n",
    "Mean Score : 0.686968421836598\n",
    "Std deviation : 0.01545790574091748\n",
    "\n",
    "\n",
    "============================================================================================================\n",
    "\n",
    "\n",
    "Cross Validation Score SVC() :\n",
    "\n",
    "Score : [0.58405172 0.62419006 0.60475162 0.60043197 0.62419006]\n",
    "Mean Score : 0.6075230878081477\n",
    "Std deviation : 0.015260709074080395\n",
    "\n",
    "\n",
    "============================================================================================================\n",
    "\n",
    "\n",
    "Cross Validation Score GaussianNB() :\n",
    "\n",
    "Score : [0.67241379 0.76457883 0.7300216  0.76025918 0.77537797]\n",
    "Mean Score : 0.7405302748193938\n",
    "Std deviation : 0.03723496223050999\n",
    "\n",
    "\n",
    "============================================================================================================\n",
    "\n",
    "\n",
    "Cross Validation Score DecisionTreeClassifier() :\n",
    "\n",
    "Score : [0.67672414 0.86825054 0.90064795 0.86825054 0.87688985]\n",
    "Mean Score : 0.8381526029641766\n",
    "Std deviation : 0.08158083516724524\n",
    "\n",
    "\n",
    "============================================================================================================\n",
    "\n",
    "\n",
    "Cross Validation Score KNeighborsClassifier(n_neighbors=12) :\n",
    "\n",
    "Score : [0.72198276 0.71274298 0.77105832 0.74730022 0.73434125]\n",
    "Mean Score : 0.7374851046399047\n",
    "Std deviation : 0.020424867823627377\n",
    "\n",
    "\n",
    "============================================================================================================\n",
    "\n",
    "\n",
    "Cross Validation Score RandomForestClassifier() :\n",
    "\n",
    "Score : [0.70689655 0.97192225 0.95896328 0.96760259 0.98056156]\n",
    "Mean Score : 0.9171892455500112\n",
    "Std deviation : 0.10537679415558601\n",
    "\n",
    "\n",
    "============================================================================================================\n",
    "\n",
    "\n",
    "Cross Validation Score AdaBoostClassifier() :\n",
    "\n",
    "Score : [0.60991379 0.93736501 0.92440605 0.92224622 0.96544276]\n",
    "Mean Score : 0.8718747672599985\n",
    "Std deviation : 0.13188200240296455\n",
    "\n",
    "\n",
    "============================================================================================================\n",
    "\n",
    "\n",
    "Cross Validation Score GradientBoostingClassifier() :\n",
    "\n",
    "Score : [0.56681034 0.96760259 0.96328294 0.94384449 0.97408207]\n",
    "Mean Score : 0.8831244879719968\n",
    "Std deviation : 0.15847824171360397\n",
    "\n",
    "\n",
    "============================================================================================================\n",
    "\n",
    "\n",
    "Cross Validation Score BaggingClassifier() :\n",
    "\n",
    "Score : [0.65517241 0.93088553 0.94816415 0.9287257  0.96544276]\n",
    "Mean Score : 0.8856781112683398\n",
    "Std deviation : 0.11601429810714531\n",
    "\n",
    "\n",
    "============================================================================================================\n",
    "On basis of maximum score in crossvalidation of Random Forest Classifier. we will apply Hyperparameter tuning on Random Forest model"
   ]
  },
  {
   "cell_type": "markdown",
   "id": "aaa8e0e8",
   "metadata": {},
   "source": [
    "## Hyper Parameter Tuning : GridSearchCV"
   ]
  },
  {
   "cell_type": "code",
   "execution_count": null,
   "id": "1bd961bd",
   "metadata": {},
   "outputs": [],
   "source": [
    "from sklearn.model_selection import GridSearchCV"
   ]
  },
  {
   "cell_type": "code",
   "execution_count": null,
   "id": "410c3e3e",
   "metadata": {},
   "outputs": [],
   "source": [
    "parameter = {  'bootstrap': [True], 'max_depth': [5, 10,20,40,50, None], \n",
    "              'max_features': ['auto', 'log2'], \n",
    "              'criterion':['gini','entropy'],\n",
    "              'n_estimators': [5, 10, 15 ,25,50,100]}"
   ]
  },
  {
   "cell_type": "code",
   "execution_count": null,
   "id": "002b5b61",
   "metadata": {},
   "outputs": [],
   "source": [
    "GCV = GridSearchCV(RandomForestClassifier(),parameter,cv=5,n_jobs = -1,verbose=3)\n",
    "GCV.fit(X_train,Y_train)"
   ]
  },
  {
   "cell_type": "markdown",
   "id": "d90fb4e3",
   "metadata": {},
   "source": [
    "Fitting 5 folds for each of 144 candidates, totalling 720 fits"
   ]
  },
  {
   "cell_type": "markdown",
   "id": "72109b80",
   "metadata": {},
   "source": [
    "GridSearchCV(cv=5, estimator=RandomForestClassifier(), n_jobs=-1,\n",
    "             param_grid={'bootstrap': [True], 'criterion': ['gini', 'entropy'],\n",
    "                         'max_depth': [5, 10, 20, 40, 50, None],\n",
    "                         'max_features': ['auto', 'log2'],\n",
    "                         'n_estimators': [5, 10, 15, 25, 50, 100]},\n",
    "             verbose=3)"
   ]
  },
  {
   "cell_type": "code",
   "execution_count": null,
   "id": "2a0de101",
   "metadata": {},
   "outputs": [],
   "source": [
    "GCV.best_params_"
   ]
  },
  {
   "cell_type": "markdown",
   "id": "5e625e1d",
   "metadata": {},
   "source": [
    "{'bootstrap': True,\n",
    " 'criterion': 'entropy',\n",
    " 'max_depth': 20,\n",
    " 'max_features': 'log2',\n",
    " 'n_estimators': 25}"
   ]
  },
  {
   "cell_type": "markdown",
   "id": "a83ab7b1",
   "metadata": {},
   "source": [
    "## Final Model"
   ]
  },
  {
   "cell_type": "code",
   "execution_count": null,
   "id": "d262a715",
   "metadata": {},
   "outputs": [],
   "source": [
    "Final_mod = RandomForestClassifier(bootstrap=True,criterion='entropy',n_estimators= 25, max_depth=20 ,max_features='log2')\n",
    "Final_mod.fit(X_train,Y_train)\n",
    "y_pred=Final_mod.predict(X_test)\n",
    "print('\\033[1m'+'Accuracy Score :'+'\\033[0m\\n', accuracy_score(Y_test, y_pred))"
   ]
  },
  {
   "cell_type": "markdown",
   "id": "1a986203",
   "metadata": {},
   "source": [
    "Accuracy Score :\n",
    " 0.8915032679738563"
   ]
  },
  {
   "cell_type": "code",
   "execution_count": null,
   "id": "0ac4b582",
   "metadata": {},
   "outputs": [],
   "source": [
    "from sklearn.metrics import roc_auc_score\n",
    "from sklearn.metrics import roc_curve\n",
    "\n",
    "y_pred_prob = Final_mod.predict_proba(X_test)[:,1]\n",
    "fpr, tpr, thresholds = roc_curve(Y_test,y_pred_prob)\n",
    "plt.plot([0,1],[0,1], 'k--')\n",
    "plt.plot(fpr, tpr, label='Random Forest Classifier')\n",
    "plt.xlabel('False postive rate')\n",
    "plt.ylabel('True postive rate')\n",
    "plt.show()\n",
    "auc_score = roc_auc_score(Y_test, Final_mod.predict(X_test))\n",
    "print('\\033[1m'+'Auc Score :'+'\\033[0m\\n',auc_score)"
   ]
  },
  {
   "cell_type": "markdown",
   "id": "b1c26c64",
   "metadata": {},
   "source": [
    "Auc Score :\n",
    " 0.8919922516701346"
   ]
  },
  {
   "cell_type": "markdown",
   "id": "4d0f7228",
   "metadata": {},
   "source": [
    "## Saving model"
   ]
  },
  {
   "cell_type": "code",
   "execution_count": null,
   "id": "85ec72dc",
   "metadata": {},
   "outputs": [],
   "source": [
    "import joblib\n",
    "joblib.dump(Final_mod,'IBM_HR_Analytics_Final.pkl')"
   ]
  },
  {
   "cell_type": "markdown",
   "id": "896b8de1",
   "metadata": {},
   "source": [
    "['IBM_HR_Analytics_Final.pkl']"
   ]
  }
 ],
 "metadata": {
  "kernelspec": {
   "display_name": "Python 3 (ipykernel)",
   "language": "python",
   "name": "python3"
  },
  "language_info": {
   "codemirror_mode": {
    "name": "ipython",
    "version": 3
   },
   "file_extension": ".py",
   "mimetype": "text/x-python",
   "name": "python",
   "nbconvert_exporter": "python",
   "pygments_lexer": "ipython3",
   "version": "3.9.12"
  }
 },
 "nbformat": 4,
 "nbformat_minor": 5
}
