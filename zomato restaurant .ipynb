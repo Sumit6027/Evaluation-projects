{
 "cells": [
  {
   "cell_type": "markdown",
   "id": "3d12bcec",
   "metadata": {},
   "source": [
    "# Zomato Restaurant Project"
   ]
  },
  {
   "cell_type": "code",
   "execution_count": null,
   "id": "226affcc",
   "metadata": {},
   "outputs": [],
   "source": [
    "import numpy as np \n",
    "import pandas as pd \n",
    "import matplotlib.pyplot as plt\n",
    "import seaborn as sns \n",
    "from sklearn.linear_model import LogisticRegression \n",
    "from sklearn.linear_model import LinearRegression\n",
    "from sklearn.model_selection import train_test_split \n",
    "from sklearn.metrics import classification_report \n",
    "from sklearn.metrics import confusion_matrix\n",
    "from sklearn.metrics import r2_score"
   ]
  },
  {
   "cell_type": "code",
   "execution_count": null,
   "id": "ed69efb9",
   "metadata": {},
   "outputs": [],
   "source": [
    "zomato_orgnl= pd.read_csv(\"F:\\zomato.csv\")\n",
    "zomato_orgnl.head()"
   ]
  },
  {
   "cell_type": "code",
   "execution_count": null,
   "id": "10be5099",
   "metadata": {},
   "outputs": [],
   "source": [
    "url\taddress\tname\tonline_order\tbook_table\trate\tvotes\tphone\tlocation\trest_type\tdish_liked\tcuisines\tapprox_cost(for two people)\treviews_list\tmenu_item\tlisted_in(type)\tlisted_in(city)\n",
    "0\thttps://www.zomato.com/bangalore/jalsa-banasha...\t942, 21st Main Road, 2nd Stage, Banashankari, ...\tJalsa\tYes\tYes\t4.1/5\t775\t080 42297555\\r\\n+91 9743772233\tBanashankari\tCasual Dining\tPasta, Lunch Buffet, Masala Papad, Paneer Laja...\tNorth Indian, Mughlai, Chinese\t800\t[('Rated 4.0', 'RATED\\n A beautiful place to ...\t[]\tBuffet\tBanashankari\n",
    "1\thttps://www.zomato.com/bangalore/spice-elephan...\t2nd Floor, 80 Feet Road, Near Big Bazaar, 6th ...\tSpice Elephant\tYes\tNo\t4.1/5\t787\t080 41714161\tBanashankari\tCasual Dining\tMomos, Lunch Buffet, Chocolate Nirvana, Thai G...\tChinese, North Indian, Thai\t800\t[('Rated 4.0', 'RATED\\n Had been here for din...\t[]\tBuffet\tBanashankari\n",
    "2\thttps://www.zomato.com/SanchurroBangalore?cont...\t1112, Next to KIMS Medical College, 17th Cross...\tSan Churro Cafe\tYes\tNo\t3.8/5\t918\t+91 9663487993\tBanashankari\tCafe, Casual Dining\tChurros, Cannelloni, Minestrone Soup, Hot Choc...\tCafe, Mexican, Italian\t800\t[('Rated 3.0', \"RATED\\n Ambience is not that ...\t[]\tBuffet\tBanashankari\n",
    "3\thttps://www.zomato.com/bangalore/addhuri-udupi...\t1st Floor, Annakuteera, 3rd Stage, Banashankar...\tAddhuri Udupi Bhojana\tNo\tNo\t3.7/5\t88\t+91 9620009302\tBanashankari\tQuick Bites\tMasala Dosa\tSouth Indian, North Indian\t300\t[('Rated 4.0', \"RATED\\n Great food and proper...\t[]\tBuffet\tBanashankari\n",
    "4\thttps://www.zomato.com/bangalore/grand-village...\t10, 3rd Floor, Lakshmi Associates, Gandhi Baza...\tGrand Village\tNo\tNo\t3.8/5\t166\t+91 8026612447\\r\\n+91 9901210005\tBasavanagudi\tCasual Dining\tPanipuri, Gol Gappe\tNorth Indian, Rajasthani\t600\t[('Rated 4.0', 'RATED\\n Very good restaurant ...\t[]\tBuffet\tBanashankari"
   ]
  },
  {
   "cell_type": "code",
   "execution_count": null,
   "id": "807724c8",
   "metadata": {},
   "outputs": [],
   "source": [
    "zomato=zomato_orgnl.drop(['url','dish_liked','phone'],axis=1)"
   ]
  },
  {
   "cell_type": "code",
   "execution_count": null,
   "id": "979237b1",
   "metadata": {},
   "outputs": [],
   "source": [
    "zomato.duplicated().sum()\n",
    "zomato.drop_duplicates(inplace=True)"
   ]
  },
  {
   "cell_type": "code",
   "execution_count": null,
   "id": "86002c5e",
   "metadata": {},
   "outputs": [],
   "source": [
    "zomato.isnull().sum()\n",
    "zomato.dropna(how='any',inplace=True)\n",
    "zomato.info()"
   ]
  },
  {
   "cell_type": "markdown",
   "id": "c61e7b6a",
   "metadata": {},
   "source": [
    "<class 'pandas.core.frame.DataFrame'>\n",
    "Int64Index: 43499 entries, 0 to 51716\n",
    "Data columns (total 14 columns):\n",
    "address                        43499 non-null object\n",
    "name                           43499 non-null object\n",
    "online_order                   43499 non-null object\n",
    "book_table                     43499 non-null object\n",
    "rate                           43499 non-null object\n",
    "votes                          43499 non-null int64\n",
    "location                       43499 non-null object\n",
    "rest_type                      43499 non-null object\n",
    "cuisines                       43499 non-null object\n",
    "approx_cost(for two people)    43499 non-null object\n",
    "reviews_list                   43499 non-null object\n",
    "menu_item                      43499 non-null object\n",
    "listed_in(type)                43499 non-null object\n",
    "listed_in(city)                43499 non-null object\n",
    "dtypes: int64(1), object(13)\n",
    "memory usage: 5.0+ MB"
   ]
  },
  {
   "cell_type": "code",
   "execution_count": null,
   "id": "ffb2d92f",
   "metadata": {},
   "outputs": [],
   "source": [
    "zomato.columns\n",
    "zomato = zomato.rename(columns={'approx_cost(for two people)':'cost','listed_in(type)':'type',\n",
    "                                  'listed_in(city)':'city'})\n",
    "zomato.columns"
   ]
  },
  {
   "cell_type": "markdown",
   "id": "030bbb27",
   "metadata": {},
   "source": [
    "Index(['address', 'name', 'online_order', 'book_table', 'rate', 'votes',\n",
    "       'location', 'rest_type', 'cuisines', 'cost', 'reviews_list',\n",
    "       'menu_item', 'type', 'city'],\n",
    "      dtype='object')"
   ]
  },
  {
   "cell_type": "code",
   "execution_count": null,
   "id": "d0a1c36e",
   "metadata": {},
   "outputs": [],
   "source": [
    "zomato['cost'] = zomato['cost'].astype(str)\n",
    "zomato['cost'] = zomato['cost'].apply(lambda x: x.replace(',','.'))\n",
    "zomato['cost'] = zomato['cost'].astype(float)\n",
    "zomato.info()"
   ]
  },
  {
   "cell_type": "markdown",
   "id": "2e46c70b",
   "metadata": {},
   "source": [
    "<class 'pandas.core.frame.DataFrame'>\n",
    "Int64Index: 43499 entries, 0 to 51716\n",
    "Data columns (total 14 columns):\n",
    "address         43499 non-null object\n",
    "name            43499 non-null object\n",
    "online_order    43499 non-null object\n",
    "book_table      43499 non-null object\n",
    "rate            43499 non-null object\n",
    "votes           43499 non-null int64\n",
    "location        43499 non-null object\n",
    "rest_type       43499 non-null object\n",
    "cuisines        43499 non-null object\n",
    "cost            43499 non-null float64\n",
    "reviews_list    43499 non-null object\n",
    "menu_item       43499 non-null object\n",
    "type            43499 non-null object\n",
    "city            43499 non-null object\n",
    "dtypes: float64(1), int64(1), object(12)\n",
    "memory usage: 5.0+ MB"
   ]
  },
  {
   "cell_type": "code",
   "execution_count": null,
   "id": "9243e923",
   "metadata": {},
   "outputs": [],
   "source": [
    "zomato['rate'].unique()\n",
    "zomato = zomato.loc[zomato.rate !='NEW']\n",
    "zomato = zomato.loc[zomato.rate !='-'].reset_index(drop=True)\n",
    "remove_slash = lambda x: x.replace('/5', '') if type(x) == np.str else x\n",
    "zomato.rate = zomato.rate.apply(remove_slash).str.strip().astype('float')\n",
    "zomato['rate'].head()"
   ]
  },
  {
   "cell_type": "markdown",
   "id": "87ee7a08",
   "metadata": {},
   "source": [
    "0    4.1\n",
    "1    4.1\n",
    "2    3.8\n",
    "3    3.7\n",
    "4    3.8\n",
    "Name: rate, dtype: float64"
   ]
  },
  {
   "cell_type": "code",
   "execution_count": null,
   "id": "60c30dd0",
   "metadata": {},
   "outputs": [],
   "source": [
    "def Encode(zomato):\n",
    "    for column in zomato.columns[~zomato.columns.isin(['rate', 'cost', 'votes'])]:\n",
    "        zomato[column] = zomato[column].factorize()[0]\n",
    "    return zomato\n",
    "\n",
    "zomato_en = Encode(zomato.copy())"
   ]
  },
  {
   "cell_type": "code",
   "execution_count": null,
   "id": "6637634a",
   "metadata": {},
   "outputs": [],
   "source": [
    "corr = zomato_en.corr(method='kendall')\n",
    "plt.figure(figsize=(15,8))\n",
    "sns.heatmap(corr, annot=True)\n",
    "zomato_en.columns"
   ]
  },
  {
   "cell_type": "code",
   "execution_count": null,
   "id": "72f80f7a",
   "metadata": {},
   "outputs": [],
   "source": [
    "Index(['address', 'name', 'online_order', 'book_table', 'rate', 'votes',\n",
    "       'location', 'rest_type', 'cuisines', 'cost', 'reviews_list',\n",
    "       'menu_item', 'type', 'city'],\n",
    "      dtype='object')"
   ]
  },
  {
   "cell_type": "code",
   "execution_count": null,
   "id": "0d013e76",
   "metadata": {},
   "outputs": [],
   "source": [
    "sns.countplot(zomato['online_order'])\n",
    "fig = plt.gcf()\n",
    "fig.set_size_inches(10,10)\n",
    "plt.title('Restaurants delivering online or Not')"
   ]
  },
  {
   "cell_type": "code",
   "execution_count": null,
   "id": "abc963ab",
   "metadata": {},
   "outputs": [],
   "source": [
    "plt.rcParams['figure.figsize'] = (13, 9)\n",
    "Y = pd.crosstab(zomato['rate'], zomato['book_table'])\n",
    "Y.div(Y.sum(1).astype(float), axis = 0).plot(kind = 'bar', stacked = True,color=['red','yellow'])\n",
    "plt.title('table booking vs rate', fontweight = 30, fontsize = 20)\n",
    "plt.legend(loc=\"upper right\")\n",
    "plt.show()"
   ]
  },
  {
   "cell_type": "code",
   "execution_count": null,
   "id": "74c71226",
   "metadata": {},
   "outputs": [],
   "source": [
    "sns.countplot(zomato['city'])\n",
    "sns.countplot(zomato['city']).set_xticklabels(sns.countplot(zomato['city']).get_xticklabels(), rotation=90, ha=\"right\")\n",
    "fig = plt.gcf()\n",
    "fig.set_size_inches(13,13)\n",
    "plt.title('Location')"
   ]
  },
  {
   "cell_type": "code",
   "execution_count": null,
   "id": "1ae674b1",
   "metadata": {},
   "outputs": [],
   "source": [
    "loc_plt=pd.crosstab(zomato['rate'],zomato['city'])\n",
    "loc_plt.plot(kind='bar',stacked=True);\n",
    "plt.title('Location - Rating',fontsize=15,fontweight='bold')\n",
    "plt.ylabel('Location',fontsize=10,fontweight='bold')\n",
    "plt.xlabel('Rating',fontsize=10,fontweight='bold')\n",
    "plt.xticks(fontsize=10,fontweight='bold')\n",
    "plt.yticks(fontsize=10,fontweight='bold');\n",
    "plt.legend().remove();"
   ]
  },
  {
   "cell_type": "code",
   "execution_count": null,
   "id": "beff5091",
   "metadata": {},
   "outputs": [],
   "source": [
    "sns.countplot(zomato['rest_type'])\n",
    "sns.countplot(zomato['rest_type']).set_xticklabels(sns.countplot(zomato['rest_type']).get_xticklabels(), rotation=90, ha=\"right\")\n",
    "fig = plt.gcf()\n",
    "fig.set_size_inches(15,15)\n",
    "plt.title('Restuarant Type')"
   ]
  },
  {
   "cell_type": "code",
   "execution_count": null,
   "id": "717d8b27",
   "metadata": {},
   "outputs": [],
   "source": [
    "loc_plt=pd.crosstab(zomato['rate'],zomato['rest_type'])\n",
    "loc_plt.plot(kind='bar',stacked=True);\n",
    "plt.title('Rest type - Rating',fontsize=15,fontweight='bold')\n",
    "plt.ylabel('Rest type',fontsize=10,fontweight='bold')\n",
    "plt.xlabel('Rating',fontsize=10,fontweight='bold')\n",
    "plt.xticks(fontsize=10,fontweight='bold')\n",
    "plt.yticks(fontsize=10,fontweight='bold');\n",
    "plt.legend().remove();"
   ]
  },
  {
   "cell_type": "code",
   "execution_count": null,
   "id": "894abb62",
   "metadata": {},
   "outputs": [],
   "source": [
    "sns.countplot(zomato['type'])\n",
    "sns.countplot(zomato['type']).set_xticklabels(sns.countplot(zomato['type']).get_xticklabels(), rotation=90, ha=\"right\")\n",
    "fig = plt.gcf()\n",
    "fig.set_size_inches(15,15)\n",
    "plt.title('Type of Service')"
   ]
  },
  {
   "cell_type": "code",
   "execution_count": null,
   "id": "bc87e020",
   "metadata": {},
   "outputs": [],
   "source": [
    "type_plt=pd.crosstab(zomato['rate'],zomato['type'])\n",
    "type_plt.plot(kind='bar',stacked=True);\n",
    "plt.title('Type - Rating',fontsize=15,fontweight='bold')\n",
    "plt.ylabel('Type',fontsize=10,fontweight='bold')\n",
    "plt.xlabel('Rating',fontsize=10,fontweight='bold')\n",
    "plt.xticks(fontsize=10,fontweight='bold')\n",
    "plt.yticks(fontsize=10,fontweight='bold');"
   ]
  },
  {
   "cell_type": "code",
   "execution_count": null,
   "id": "ecd90796",
   "metadata": {},
   "outputs": [],
   "source": [
    "sns.countplot(zomato['cost'])\n",
    "sns.countplot(zomato['cost']).set_xticklabels(sns.countplot(zomato['cost']).get_xticklabels(), rotation=90, ha=\"right\")\n",
    "fig = plt.gcf()\n",
    "fig.set_size_inches(15,15)\n",
    "plt.title('Cost of Restuarant')"
   ]
  },
  {
   "cell_type": "code",
   "execution_count": null,
   "id": "b06eaa7b",
   "metadata": {},
   "outputs": [],
   "source": [
    "fig = plt.figure(figsize=(20,7))\n",
    "loc = sns.countplot(x=\"location\",data=zomato_orgnl, palette = \"Set1\")\n",
    "loc.set_xticklabels(loc.get_xticklabels(), rotation=90, ha=\"right\")\n",
    "plt.ylabel(\"Frequency\",size=15)\n",
    "plt.xlabel(\"Location\",size=18)\n",
    "loc\n",
    "plt.title('NO. of restaurants in a Location',size = 20,pad=20)"
   ]
  },
  {
   "cell_type": "code",
   "execution_count": null,
   "id": "b9fbcd1c",
   "metadata": {},
   "outputs": [],
   "source": [
    "#Restaurant type\n",
    "fig = plt.figure(figsize=(17,5))\n",
    "rest = sns.countplot(x=\"rest_type\",data=zomato_orgnl, palette = \"Set1\")\n",
    "rest.set_xticklabels(rest.get_xticklabels(), rotation=90, ha=\"right\")\n",
    "plt.ylabel(\"Frequency\",size=15)\n",
    "plt.xlabel(\"Restaurant type\",size=15)\n",
    "rest \n",
    "plt.title('Restaurant types',fontsize = 20 ,pad=20)"
   ]
  },
  {
   "cell_type": "code",
   "execution_count": null,
   "id": "f16cfc26",
   "metadata": {},
   "outputs": [],
   "source": []
  },
  {
   "cell_type": "code",
   "execution_count": null,
   "id": "2daab707",
   "metadata": {},
   "outputs": [],
   "source": [
    "plt.figure(figsize=(15,7))\n",
    "chains=zomato_orgnl['name'].value_counts()[:20]\n",
    "sns.barplot(x=chains,y=chains.index,palette='Set1')\n",
    "plt.title(\"Most famous restaurant chains in Bangaluru\",size=20,pad=20)\n",
    "plt.xlabel(\"Number of outlets\",size=15)"
   ]
  },
  {
   "cell_type": "code",
   "execution_count": null,
   "id": "8b0548e8",
   "metadata": {},
   "outputs": [],
   "source": [
    "x = zomato_en.iloc[:,[2,3,5,6,7,8,9,11]]\n",
    "y = zomato_en['rate']\n",
    "#Getting Test and Training Set\n",
    "x_train,x_test,y_train,y_test=train_test_split(x,y,test_size=.1,random_state=353)\n",
    "x_train.head()\n",
    "y_train.head()"
   ]
  },
  {
   "cell_type": "markdown",
   "id": "d4ed4dd4",
   "metadata": {},
   "source": [
    "16950    3.9\n",
    "767      3.7\n",
    "6750     4.0\n",
    "9471     3.8\n",
    "25162    3.7\n",
    "Name: rate, dtype: float64"
   ]
  },
  {
   "cell_type": "code",
   "execution_count": null,
   "id": "a76ce4d4",
   "metadata": {},
   "outputs": [],
   "source": [
    "from sklearn.tree import DecisionTreeRegressor\n",
    "x_train,x_test,y_train,y_test=train_test_split(x,y,test_size=.1,random_state=105)\n",
    "Dtree=DecisionTreeRegressor(min_samples_leaf=.0001)\n",
    "Dtree.fit(x_train,y_train)\n",
    "y_predict=Dtree.predict(x_test)\n",
    "from sklearn.metrics import r2_score\n",
    "r2_score(y_test,y_predict)"
   ]
  },
  {
   "cell_type": "code",
   "execution_count": null,
   "id": "af586f45",
   "metadata": {},
   "outputs": [],
   "source": [
    "from sklearn.tree import DecisionTreeRegressor\n",
    "x_train,x_test,y_train,y_test=train_test_split(x,y,test_size=.1,random_state=105)\n",
    "Dtree=DecisionTreeRegressor(min_samples_leaf=.0001)\n",
    "Dtree.fit(x_train,y_train)\n",
    "y_predict=Dtree.predict(x_test)\n",
    "from sklearn.metrics import r2_score\n",
    "r2_score(y_test,y_predict)"
   ]
  },
  {
   "cell_type": "code",
   "execution_count": null,
   "id": "167d13d5",
   "metadata": {},
   "outputs": [],
   "source": [
    "0.8512050639381387"
   ]
  },
  {
   "cell_type": "code",
   "execution_count": null,
   "id": "e0cb6192",
   "metadata": {},
   "outputs": [],
   "source": [
    "Decisionpred =pd.DataFrame({ \"actual\": y_test, \"pred\": y_predict })\n",
    "Decisionpred"
   ]
  },
  {
   "cell_type": "code",
   "execution_count": null,
   "id": "01e7696e",
   "metadata": {},
   "outputs": [],
   "source": [
    "actual\tpred\n",
    "6821\t4.0\t3.950000\n",
    "21541\t3.7\t3.700000\n",
    "34583\t4.0\t4.000000\n",
    "5162\t3.4\t3.400000\n",
    "32463\t4.5\t4.475000\n",
    "16675\t4.3\t4.300000\n",
    "4981\t4.0\t4.000000\n",
    "36271\t4.0\t4.000000\n",
    "40906\t3.5\t3.425000\n",
    "30733\t4.3\t4.060000\n",
    "6763\t4.1\t4.180000\n",
    "4495\t3.1\t3.171429\n",
    "12633\t3.5\t3.428571\n",
    "11983\t4.3\t4.300000\n",
    "36938\t3.2\t3.175000\n",
    "9796\t4.1\t4.100000\n",
    "11244\t3.0\t3.228571\n",
    "16623\t4.1\t4.100000\n",
    "8737\t3.7\t3.760000\n",
    "3933\t4.2\t4.120000\n",
    "17855\t4.2\t4.200000\n",
    "14\t3.8\t3.800000\n",
    "17591\t3.6\t3.528571\n",
    "14062\t4.3\t4.300000\n",
    "29209\t4.3\t4.283333\n",
    "23188\t3.8\t3.800000\n",
    "40485\t3.5\t3.400000\n",
    "29306\t3.2\t3.220000\n",
    "40716\t4.4\t3.900000\n",
    "22626\t3.5\t3.500000\n",
    "...\t...\t...\n",
    "15350\t4.1\t4.028571\n",
    "9605\t3.3\t3.320000\n",
    "6249\t3.3\t3.375000\n",
    "17575\t3.7\t3.500000\n",
    "9125\t4.7\t4.700000\n",
    "38287\t3.5\t3.500000\n",
    "34564\t4.0\t4.000000\n",
    "10930\t3.7\t3.540000\n",
    "9783\t3.2\t3.200000\n",
    "6554\t2.7\t2.757143\n",
    "33734\t4.0\t3.962500\n",
    "27224\t3.6\t3.257143\n",
    "28712\t4.0\t4.000000\n",
    "35817\t3.0\t3.225000\n",
    "5516\t3.4\t2.900000\n",
    "26291\t3.6\t3.600000\n",
    "29533\t3.9\t3.775000\n",
    "33070\t4.5\t4.000000\n",
    "13101\t3.7\t3.800000\n",
    "40057\t3.8\t3.771429\n",
    "6039\t3.2\t3.100000\n",
    "16183\t2.9\t3.200000\n",
    "14323\t3.3\t3.300000\n",
    "39671\t4.3\t4.300000\n",
    "12719\t3.7\t3.180000\n",
    "39043\t4.3\t4.300000\n",
    "31686\t2.9\t2.983333\n",
    "22787\t3.5\t3.512500\n",
    "24279\t3.1\t3.100000\n",
    "36040\t3.7\t3.700000\n",
    "4124 rows × 2 columns"
   ]
  },
  {
   "cell_type": "code",
   "execution_count": null,
   "id": "10c0f821",
   "metadata": {},
   "outputs": [],
   "source": [
    "from sklearn.ensemble import RandomForestRegressor\n",
    "Rforest=RandomForestRegressor(n_estimators=500,random_state=329,min_samples_leaf=.0001)\n",
    "Rforest.fit(x_train,y_train)\n",
    "y_predict=Rforest.predict(x_test)\n",
    "from sklearn.metrics import r2_score\n",
    "r2_score(y_test,y_predict)"
   ]
  },
  {
   "cell_type": "code",
   "execution_count": null,
   "id": "cbbb9c59",
   "metadata": {},
   "outputs": [],
   "source": [
    "0.8773808619238765"
   ]
  },
  {
   "cell_type": "code",
   "execution_count": null,
   "id": "758a5390",
   "metadata": {},
   "outputs": [],
   "source": [
    "Randpred =pd.DataFrame({ \"actual\": y_test, \"pred\": y_predict })\n",
    "Randpred"
   ]
  },
  {
   "cell_type": "code",
   "execution_count": null,
   "id": "1855a145",
   "metadata": {},
   "outputs": [],
   "source": [
    "actual\tpred\n",
    "6821\t4.0\t3.971100\n",
    "21541\t3.7\t3.701841\n",
    "34583\t4.0\t3.985948\n",
    "5162\t3.4\t3.401011\n",
    "32463\t4.5\t4.457212\n",
    "16675\t4.3\t4.300528\n",
    "4981\t4.0\t3.869708\n",
    "36271\t4.0\t4.004606\n",
    "40906\t3.5\t3.299656\n",
    "30733\t4.3\t4.162239\n",
    "6763\t4.1\t4.111214\n",
    "4495\t3.1\t3.198191\n",
    "12633\t3.5\t3.280035\n",
    "11983\t4.3\t4.274432\n",
    "36938\t3.2\t3.565914\n",
    "9796\t4.1\t3.918985\n",
    "11244\t3.0\t3.200462\n",
    "16623\t4.1\t4.085423\n",
    "8737\t3.7\t3.729452\n",
    "3933\t4.2\t4.192058\n",
    "17855\t4.2\t4.181827\n",
    "14\t3.8\t3.806699\n",
    "17591\t3.6\t3.601075\n",
    "14062\t4.3\t4.300619\n",
    "29209\t4.3\t4.335048\n",
    "23188\t3.8\t3.795702\n",
    "40485\t3.5\t3.430575\n",
    "29306\t3.2\t3.220452\n",
    "40716\t4.4\t4.277096\n",
    "22626\t3.5\t3.500679\n",
    "...\t...\t...\n",
    "15350\t4.1\t4.057786\n",
    "9605\t3.3\t3.310646\n",
    "6249\t3.3\t3.306215\n",
    "17575\t3.7\t3.237174\n",
    "9125\t4.7\t4.698732\n",
    "38287\t3.5\t3.503200\n",
    "34564\t4.0\t4.002764\n",
    "10930\t3.7\t3.489186\n",
    "9783\t3.2\t3.203264\n",
    "6554\t2.7\t3.103023\n",
    "33734\t4.0\t3.997080\n",
    "27224\t3.6\t3.539986\n",
    "28712\t4.0\t3.997728\n",
    "35817\t3.0\t3.416566\n",
    "5516\t3.4\t3.511670\n",
    "26291\t3.6\t3.571962\n",
    "29533\t3.9\t3.687898\n",
    "33070\t4.5\t4.137593\n",
    "13101\t3.7\t3.832657\n",
    "40057\t3.8\t3.760104\n",
    "6039\t3.2\t3.250694\n",
    "16183\t2.9\t3.077526\n",
    "14323\t3.3\t3.258740\n",
    "39671\t4.3\t4.205243\n",
    "12719\t3.7\t3.209595\n",
    "39043\t4.3\t4.276522\n",
    "31686\t2.9\t3.245656\n",
    "22787\t3.5\t3.494592\n",
    "24279\t3.1\t3.107821\n",
    "36040\t3.7\t3.684497\n",
    "4124 rows × 2 columns"
   ]
  }
 ],
 "metadata": {
  "kernelspec": {
   "display_name": "Python 3 (ipykernel)",
   "language": "python",
   "name": "python3"
  },
  "language_info": {
   "codemirror_mode": {
    "name": "ipython",
    "version": 3
   },
   "file_extension": ".py",
   "mimetype": "text/x-python",
   "name": "python",
   "nbconvert_exporter": "python",
   "pygments_lexer": "ipython3",
   "version": "3.9.12"
  }
 },
 "nbformat": 4,
 "nbformat_minor": 5
}
