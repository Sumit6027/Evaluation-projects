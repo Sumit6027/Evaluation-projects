{
 "cells": [
  {
   "cell_type": "markdown",
   "id": "1103d26e",
   "metadata": {},
   "source": [
    "# Baseball Case Study"
   ]
  },
  {
   "cell_type": "code",
   "execution_count": null,
   "id": "1c30f2c9",
   "metadata": {},
   "outputs": [],
   "source": [
    "Problem Statement:\n",
    "This dataset utilizes data from 2014 Major League Baseball seasons in order to develop an algorithm that predicts the number of wins for a given team in the 2015 season based on several different indicators of success. There are 16 different features that will be used as the inputs to the machine learning and the output will be a value that represents the number of wins.\n",
    "\n",
    "Input features: Runs, At Bats, Hits, Doubles, Triples, Homeruns, Walks, Strikeouts, Stolen Bases, Runs Allowed, Earned Runs, Earned Run Average (ERA), Shutouts, Saves, Complete Games and Errors\n",
    "\n",
    "Output: Number of predicted wins (W)\n",
    "\n",
    "To understand the columns meaning, follow the link given below to understand the baseball statistics:https://en.wikipedia.org/wiki/Baseball_statistics\n",
    "\n",
    "For downloading the dataset, use the link given below.\n",
    "\n",
    "Downlaod Files: https://github.com/dsrscientist/Data-Science-ML-Capstone-Projects/blob/master/baseball.csv"
   ]
  },
  {
   "cell_type": "markdown",
   "id": "2572756e",
   "metadata": {},
   "source": [
    "### Importing require library for performing EDA, Data Wrangling and data cleaning"
   ]
  },
  {
   "cell_type": "code",
   "execution_count": null,
   "id": "78f78fce",
   "metadata": {},
   "outputs": [],
   "source": [
    "import pandas as pd # for data wrangling purpose\n",
    "import numpy as np # Basic computation library\n",
    "import seaborn as sns # For Visualization \n",
    "import matplotlib.pyplot as plt # ploting package\n",
    "%matplotlib inline\n",
    "import warnings # Filtering warnings\n",
    "warnings.filterwarnings('ignore')"
   ]
  },
  {
   "cell_type": "code",
   "execution_count": null,
   "id": "026116a3",
   "metadata": {},
   "outputs": [],
   "source": [
    "Importing case study CSV file"
   ]
  },
  {
   "cell_type": "code",
   "execution_count": null,
   "id": "d5add2b7",
   "metadata": {},
   "outputs": [],
   "source": [
    "df=pd.read_csv('baseball.csv')"
   ]
  },
  {
   "cell_type": "code",
   "execution_count": null,
   "id": "4f255e38",
   "metadata": {},
   "outputs": [],
   "source": [
    "print('No of Rows:',df.shape[0])\n",
    "print('No of Columns:',df.shape[1])\n",
    "df.head()"
   ]
  },
  {
   "cell_type": "markdown",
   "id": "321f328d",
   "metadata": {},
   "source": [
    "No of Rows: 30\n",
    "No of Columns: 17\n",
    "W\tR\tAB\tH\t2B\t3B\tHR\tBB\tSO\tSB\tRA\tER\tERA\tCG\tSHO\tSV\tE\n",
    "0\t95\t724\t5575\t1497\t300\t42\t139\t383\t973\t104\t641\t601\t3.73\t2\t8\t56\t88\n",
    "1\t83\t696\t5467\t1349\t277\t44\t156\t439\t1264\t70\t700\t653\t4.07\t2\t12\t45\t86\n",
    "2\t81\t669\t5439\t1395\t303\t29\t141\t533\t1157\t86\t640\t584\t3.67\t11\t10\t38\t79\n",
    "3\t76\t622\t5533\t1381\t260\t27\t136\t404\t1231\t68\t701\t643\t3.98\t7\t9\t37\t101\n",
    "4\t74\t689\t5605\t1515\t289\t49\t151\t455\t1259\t83\t803\t746\t4.64\t7\t12\t35\t86\n",
    "Comment -\n",
    "This dataset contains 16 features which contains statistics summary of the Baseball players and the 'W' (wins) is the target variable which predicts the number of wins.\n",
    "Input features in this dataset are : Runs, At Bats, Hits, Doubles, Triples, Homeruns, Walks, Strikeouts, Stolen Bases, Runs Allowed, Earned Runs, Earned Run Average (ERA), Shutouts, Saves, Complete Games and Errors\n",
    "Target features : Number of predicted wins (W)"
   ]
  },
  {
   "cell_type": "code",
   "execution_count": null,
   "id": "527867be",
   "metadata": {},
   "outputs": [],
   "source": [
    "df.columns"
   ]
  },
  {
   "cell_type": "markdown",
   "id": "a1735ea9",
   "metadata": {},
   "source": [
    "Index(['W', 'R', 'AB', 'H', '2B', '3B', 'HR', 'BB', 'SO', 'SB', 'RA', 'ER',\n",
    "       'ERA', 'CG', 'SHO', 'SV', 'E'],\n",
    "      dtype='object')\n",
    "The column names present in our data that is not making much sense and will need deciphering to be converted into understandable format. In order to gain understanding of different columns in dataset, following baseball stastics terminology I get from Wikipedia.\n",
    "\n",
    "Pitching statistics:\n",
    "W – Win: number of games where pitcher was pitching while their team took the lead and went on to win, also the starter needs to pitch at least 5 innings of work\n",
    "RA – Run average: number of runs allowed times nine divided by innings pitched\n",
    "ER – Earned run: number of runs that did not occur as a result of errors or passed balls\n",
    "ERA – Earned run average: total number of earned runs (see \"ER\" above), multiplied by 9, divided by innings pitched\n",
    "CG – Complete game: number of games where player was the only pitcher for their team\n",
    "SHO – Shutout: number of complete games pitched with no runs allowed. A starting pitcher is credited with a shutout when he pitches the entire game for a team and does not allow the opposition to score. By definition, any pitcher who throws a shutout is also awarded a win.\n",
    "SV – Save: number of games where the pitcher enters a game led by the pitcher's team, finishes the game without surrendering the lead, is not the winning pitcher, and either (a) the lead was three runs or fewer when the pitcher entered the game; (b) the potential tying run was on base, at bat, or on deck; or (c) the pitcher pitched three or more innings\n",
    "\n",
    "Batting statistics:\n",
    "R – Runs scored: number of times a player crosses home plate\n",
    "AB – At bat: plate appearances, not including bases on balls, being hit by pitch, sacrifices, interference, or obstruction. The number of times in which the hitter appeared at the plate and made a base hit, reached base on an error, or was out.\n",
    "H – Hit: reaching base because of a batted, fair ball without error by the defense\n",
    "2B – Double: hits on which the batter reaches second base safely without the contribution of a fielding error\n",
    "3B – Triple: hits on which the batter reaches third base safely without the contribution of a fielding error\n",
    "HR – Home runs: hits on which the batter successfully touched all four bases, without the contribution of a fielding error\n",
    "BB – Base on balls (also called a \"walk\"): hitter not swinging at four pitches called out of the strike zone and awarded first base.A walk (or base on balls) occurs when a pitcher throws four pitches out of the strike zone, none of which are swung at by the hitter. After refraining from swinging at four pitches out of the zone, the batter is awarded first base.\n",
    "K – Strike out (also abbreviated SO): number of times that a third strike is taken or swung at and missed, or bunted foul. Catcher must catch the third strike or batter may attempt to run to first base. It usually means the batter is out.\n",
    "Base running statistics:\n",
    "SB – Stolen base: number of bases advanced by the runner while the ball is in the possession of the defense.A stolen base occurs when a baserunner advances by taking a base to which he isn't entitled. This generally occurs when a pitcher is throwing a pitch, but it can also occur while the pitcher still has the ball or is attempting a pickoff, or as the catcher is throwing the ball back to the pitcher.\n",
    "R – Runs scored: times reached home plate legally and safely\n",
    "Fielding statistics:\n",
    "E – Errors: number of times a fielder fails to make a play he should have made with common effort, and the offense benefits as a result. An error is an act, in the judgment of the official scorer, of a fielder misplaying a ball in a manner that allows a batter or baserunner to advance one or more bases or allows a plate appearance to continue after the batter should have been put out."
   ]
  },
  {
   "cell_type": "markdown",
   "id": "fbb95ca0",
   "metadata": {},
   "source": [
    "### Now that we have clearer understanding on what the abbreviation mean and In order to simplify we are going to rename columns in dataset."
   ]
  },
  {
   "cell_type": "code",
   "execution_count": null,
   "id": "9340739d",
   "metadata": {},
   "outputs": [],
   "source": [
    "df.rename(columns={'W' : 'Wins', \n",
    "                   'R' : 'Runs Scored', \n",
    "                  'AB' : 'At Bat', \n",
    "                   'H' : 'Hits', \n",
    "                  '2B' : 'Doubles', \n",
    "                  '3B' : 'Triples',\n",
    "                  'HR' : 'Home Runs', \n",
    "                  'BB' : 'Base on Balls', \n",
    "                  'SO' : 'Strike Outs', \n",
    "                  'SB' : 'Stolen Base',\n",
    "                  'RA' : 'Runs Average', \n",
    "                  'ER' : 'Earned Runs', \n",
    "                 'ERA' : 'Earned Run Average', \n",
    "                  'CG' : 'Complete Game',\n",
    "                 'SHO' : 'Shut Outs', \n",
    "                  'SV' : 'Saves', \n",
    "                   'E' : 'Errors'}, \n",
    "          inplace=True)\n",
    "\n",
    "df.head()"
   ]
  },
  {
   "cell_type": "markdown",
   "id": "585bfed5",
   "metadata": {},
   "source": [
    "\tWins\tRuns Scored\tAt Bat\tHits\tDoubles\tTriples\tHome Runs\tBase on Balls\tStrike Outs\tStolen Base\tRuns Average\tEarned Runs\tEarned Run Average\tComplete Game\tShut Outs\tSaves\tErrors\n",
    "0\t95\t724\t5575\t1497\t300\t42\t139\t383\t973\t104\t641\t601\t3.73\t2\t8\t56\t88\n",
    "1\t83\t696\t5467\t1349\t277\t44\t156\t439\t1264\t70\t700\t653\t4.07\t2\t12\t45\t86\n",
    "2\t81\t669\t5439\t1395\t303\t29\t141\t533\t1157\t86\t640\t584\t3.67\t11\t10\t38\t79\n",
    "3\t76\t622\t5533\t1381\t260\t27\t136\t404\t1231\t68\t701\t643\t3.98\t7\t9\t37\t101\n",
    "4\t74\t689\t5605\t1515\t289\t49\t151\t455\t1259\t83\t803\t746\t4.64\t7\t12\t35\t86"
   ]
  },
  {
   "cell_type": "code",
   "execution_count": null,
   "id": "eab2f6d8",
   "metadata": {},
   "outputs": [],
   "source": [
    "df.info()"
   ]
  },
  {
   "cell_type": "markdown",
   "id": "79aa942d",
   "metadata": {},
   "source": [
    "<class 'pandas.core.frame.DataFrame'>\n",
    "RangeIndex: 30 entries, 0 to 29\n",
    "Data columns (total 17 columns):\n",
    " #   Column              Non-Null Count  Dtype  \n",
    "---  ------              --------------  -----  \n",
    " 0   Wins                30 non-null     int64  \n",
    " 1   Runs Scored         30 non-null     int64  \n",
    " 2   At Bat              30 non-null     int64  \n",
    " 3   Hits                30 non-null     int64  \n",
    " 4   Doubles             30 non-null     int64  \n",
    " 5   Triples             30 non-null     int64  \n",
    " 6   Home Runs           30 non-null     int64  \n",
    " 7   Base on Balls       30 non-null     int64  \n",
    " 8   Strike Outs         30 non-null     int64  \n",
    " 9   Stolen Base         30 non-null     int64  \n",
    " 10  Runs Average        30 non-null     int64  \n",
    " 11  Earned Runs         30 non-null     int64  \n",
    " 12  Earned Run Average  30 non-null     float64\n",
    " 13  Complete Game       30 non-null     int64  \n",
    " 14  Shut Outs           30 non-null     int64  \n",
    " 15  Saves               30 non-null     int64  \n",
    " 16  Errors              30 non-null     int64  \n",
    "dtypes: float64(1), int64(16)\n",
    "memory usage: 4.1 KB\n",
    "Comment -\n",
    "We can obsereve that this datset has only numeric data and no column has categorical data.\n",
    "This dataset fall into regression analysis."
   ]
  },
  {
   "cell_type": "markdown",
   "id": "6fcad0c6",
   "metadata": {},
   "source": [
    "## Objective :"
   ]
  },
  {
   "cell_type": "markdown",
   "id": "b022b986",
   "metadata": {},
   "source": [
    "## Develop an ML Regression based algorithm that predicts the number of wins for a given team based on features. Here Wins is target variable and others are Input features."
   ]
  },
  {
   "cell_type": "markdown",
   "id": "467ba5e9",
   "metadata": {},
   "source": [
    "## Statistical Analysis"
   ]
  },
  {
   "cell_type": "code",
   "execution_count": null,
   "id": "8c32b53a",
   "metadata": {},
   "outputs": [],
   "source": [
    "# Visualizing the statistics of the columns using heatmap.\n",
    "plt.figure(figsize=(20,8))\n",
    "sns.heatmap(df.describe(),linewidths = 0.1,fmt='0.1f',annot = True)"
   ]
  },
  {
   "cell_type": "markdown",
   "id": "db98f7b8",
   "metadata": {},
   "source": [
    "<AxesSubplot:>"
   ]
  },
  {
   "cell_type": "code",
   "execution_count": null,
   "id": "f0e0d7d1",
   "metadata": {},
   "outputs": [],
   "source": [
    "df.describe().T"
   ]
  },
  {
   "cell_type": "markdown",
   "id": "35e48b2d",
   "metadata": {},
   "source": [
    "\n",
    "count\tmean\tstd\tmin\t25%\t50%\t75%\tmax\n",
    "Wins\t30.0\t80.966667\t10.453455\t63.00\t74.0000\t81.000\t87.75\t100.00\n",
    "Runs Scored\t30.0\t688.233333\t58.761754\t573.00\t651.2500\t689.000\t718.25\t891.00\n",
    "At Bat\t30.0\t5516.266667\t70.467372\t5385.00\t5464.0000\t5510.000\t5570.00\t5649.00\n",
    "Hits\t30.0\t1403.533333\t57.140923\t1324.00\t1363.0000\t1382.500\t1451.50\t1515.00\n",
    "Doubles\t30.0\t274.733333\t18.095405\t236.00\t262.2500\t275.500\t288.75\t308.00\n",
    "Triples\t30.0\t31.300000\t10.452355\t13.00\t23.0000\t31.000\t39.00\t49.00\n",
    "Home Runs\t30.0\t163.633333\t31.823309\t100.00\t140.2500\t158.500\t177.00\t232.00\n",
    "Base on Balls\t30.0\t469.100000\t57.053725\t375.00\t428.2500\t473.000\t501.25\t570.00\n",
    "Strike Outs\t30.0\t1248.200000\t103.759470\t973.00\t1157.5000\t1261.500\t1311.50\t1518.00\n",
    "Stolen Base\t30.0\t83.500000\t22.815225\t44.00\t69.0000\t83.500\t96.50\t134.00\n",
    "Runs Average\t30.0\t688.233333\t72.108005\t525.00\t636.2500\t695.500\t732.50\t844.00\n",
    "Earned Runs\t30.0\t635.833333\t70.140786\t478.00\t587.2500\t644.500\t679.25\t799.00\n",
    "Earned Run Average\t30.0\t3.956333\t0.454089\t2.94\t3.6825\t4.025\t4.22\t5.04\n",
    "Complete Game\t30.0\t3.466667\t2.763473\t0.00\t1.0000\t3.000\t5.75\t11.00\n",
    "Shut Outs\t30.0\t11.300000\t4.120177\t4.00\t9.0000\t12.000\t13.00\t21.00\n",
    "Saves\t30.0\t43.066667\t7.869335\t28.00\t37.2500\t42.000\t46.75\t62.00\n",
    "Errors\t30.0\t94.333333\t13.958889\t75.00\t86.0000\t91.000\t96.75\t126.00\n",
    "Comment -\n",
    "If we just look at mean and 50% columns for different feature we can see data is sightly right skew for most of features.\n",
    "Count is same for each variable.\n",
    "75% and max values for Errors, Shutout, Run Scored shows presence of possible outliers.\n",
    "Overall all statstical parameter from mean to max, indicate features are seem to be progressing in a definite manner showing no visible abnormalities.\n",
    "Heatmap clearly shows data need to scale while building ML Model."
   ]
  },
  {
   "cell_type": "markdown",
   "id": "9faac5ea",
   "metadata": {},
   "source": [
    "### Missing value check"
   ]
  },
  {
   "cell_type": "code",
   "execution_count": null,
   "id": "2df3c6f4",
   "metadata": {},
   "outputs": [],
   "source": [
    "plt.figure(figsize=(8,7))\n",
    "sns.heatmap(df.isnull())"
   ]
  },
  {
   "cell_type": "markdown",
   "id": "6df4807b",
   "metadata": {},
   "source": [
    "<AxesSubplot:>"
   ]
  },
  {
   "cell_type": "code",
   "execution_count": null,
   "id": "dd35757e",
   "metadata": {},
   "outputs": [],
   "source": [
    "missing_values = df.isnull().sum().sort_values(ascending = False)\n",
    "percentage_missing_values =(missing_values/len(df))*100\n",
    "print(pd.concat([missing_values, percentage_missing_values], axis =1, keys =['Missing Values', '% Missing data']))"
   ]
  },
  {
   "cell_type": "markdown",
   "id": "ca895284",
   "metadata": {},
   "source": [
    " Missing Values  % Missing data\n",
    "Errors                           0             0.0\n",
    "Base on Balls                    0             0.0\n",
    "Runs Scored                      0             0.0\n",
    "At Bat                           0             0.0\n",
    "Hits                             0             0.0\n",
    "Doubles                          0             0.0\n",
    "Triples                          0             0.0\n",
    "Home Runs                        0             0.0\n",
    "Strike Outs                      0             0.0\n",
    "Saves                            0             0.0\n",
    "Stolen Base                      0             0.0\n",
    "Runs Average                     0             0.0\n",
    "Earned Runs                      0             0.0\n",
    "Earned Run Average               0             0.0\n",
    "Complete Game                    0             0.0\n",
    "Shut Outs                        0             0.0\n",
    "Wins                             0             0.0\n",
    "Comment -There is no null value present in dataset."
   ]
  },
  {
   "cell_type": "markdown",
   "id": "ab8c7a79",
   "metadata": {},
   "source": [
    "# EDA"
   ]
  },
  {
   "cell_type": "code",
   "execution_count": null,
   "id": "760e5577",
   "metadata": {},
   "outputs": [],
   "source": [
    "Here we can try to bring insight in what feature contribute to win"
   ]
  },
  {
   "cell_type": "markdown",
   "id": "0ba155af",
   "metadata": {},
   "source": [
    "### Distribution of features "
   ]
  },
  {
   "cell_type": "code",
   "execution_count": null,
   "id": "f15e15fb",
   "metadata": {},
   "outputs": [],
   "source": [
    "plt.figure(figsize=(20,25), facecolor='white')\n",
    "plotnumber =1\n",
    "for column in df:\n",
    "    if plotnumber <=17:\n",
    "        ax = plt.subplot(6,3,plotnumber)\n",
    "        sns.distplot(df[column], color='r',hist=False,kde_kws={\"shade\": True})\n",
    "        plt.xlabel(column,fontsize=20)\n",
    "    plotnumber+=1\n",
    "plt.show()"
   ]
  },
  {
   "cell_type": "code",
   "execution_count": null,
   "id": "557c018b",
   "metadata": {},
   "outputs": [],
   "source": [
    "Comment -\n",
    "Clearly some of feature are either left or right skewed."
   ]
  },
  {
   "cell_type": "code",
   "execution_count": null,
   "id": "536f3824",
   "metadata": {},
   "outputs": [],
   "source": [
    "sns.set_palette('gist_rainbow_r')\n",
    "plt.figure(figsize=(20,30), facecolor='white')\n",
    "plotnumber =1\n",
    "for column in df:\n",
    "    if plotnumber <=17:\n",
    "        ax = plt.subplot(6,3,plotnumber)\n",
    "        sns.violinplot(df[column])\n",
    "        plt.xlabel(column,fontsize=20)\n",
    "    plotnumber+=1\n",
    "plt.show()"
   ]
  },
  {
   "cell_type": "markdown",
   "id": "b7f0dd26",
   "metadata": {},
   "source": [
    "Comment -\n",
    "Shut outs and Complete Game occur very rarely now-a-days which we can definately see in violinplot of these variable.\n",
    "An Errors does not count as a hit but still counts as an at bat for the batter, So need to dive into how much Error are contributing to at bat.\n",
    "Most of saves are between 30 & 50. Saves doesnot entitle pitcher as wining pitcher but still it bring wins for team.It will be interesting what relation wins and save held or how much saves contribute in win.\n",
    "Run average, Earned run and Earned run average are important for pitcher statstics. We can see there is not much difference in plot of Earned run and Run Average, so from here we can conclude that Unearned Run doesnot making much difference in wins.\n",
    "Homeruns (125 to 175 peak) are more than triples (20 to 40 majority) so most of good shot by battar directly convert into homeruns.\n",
    "As we know pitcher try to keep Earned run Average low which eventually lead to wins. Here for most of game ERA is around 3.5-4.5.\n",
    "Let consider violinplot of doubles and base on balls. We know that if pitcher pitched ball for consecutive 4 ball then Base is awarded to batter. Clearly More runs comes from base of ball than doubles.\n",
    "Lets now Investigate Runs and Hits together , before that let dive into how team get win and some clearity over Run Vs Hits\n",
    "\n",
    "How do u win baseball ?\n",
    "\n",
    "To win in baseball, you must reach the end of the game with more runs than your opponent. If you have the same amount of runs, you will go into another inning until one team has more runs at the end of the inning.\n",
    "Runs Vs Hits\n",
    "\n",
    "Runs (R) - The number of runs scored by that player, by reaching home base in any manner.\n",
    "Hits (H) - The number of base hits made by that player, not including reaching base on an error or on a \"fielder's choice\".\n",
    "So Now we will put insight on how many hits convert into Runs and inturn lead to win throgh multivariate analysis"
   ]
  },
  {
   "cell_type": "code",
   "execution_count": null,
   "id": "80a75c61",
   "metadata": {},
   "outputs": [],
   "source": [
    "# Checking the relation between two variables\n",
    "sns.set_palette('Set1')\n",
    "plt.figure(figsize=[10,6])\n",
    "plt.title('Comparison between Runs and Hits',fontsize =20)\n",
    "sns.scatterplot(df['Runs Scored'],df['Hits'],hue=df['Wins'])\n",
    "plt.xlabel('Runs',fontsize =16)\n",
    "plt.ylabel(\"Hits\",fontsize =16)"
   ]
  },
  {
   "cell_type": "code",
   "execution_count": null,
   "id": "b616c9c9",
   "metadata": {},
   "outputs": [],
   "source": [
    "Text(0, 0.5, 'Hits')\n",
    "Comment :\n",
    "Even if number of times ball hit bat is less than 1375 still run in range of 650 to 750 contribute to win.\n",
    "Very less wining chance for run less than 650 and no of hits less than 1325.\n",
    "There is one outlier in runs. After checking sknewness we can decide whether to keep to while building ML model or remove it even if it is valid data point. Definitely it will affect performance of ML model if we consider outlier data points as most of data point will not fall dont in that side. potential leading to biased model."
   ]
  },
  {
   "cell_type": "code",
   "execution_count": null,
   "id": "7d63b94c",
   "metadata": {},
   "outputs": [],
   "source": [
    "# Checking the relation between two variables\n",
    "sns.set_palette('Set1')\n",
    "plt.figure(figsize=[10,6])\n",
    "plt.title('Runs Scored Vs Home Runs',fontsize =20)\n",
    "sns.scatterplot(df['Runs Scored'],df['Home Runs'],hue=df['Wins'])\n",
    "plt.xlabel('Runs Scored',fontsize =16)\n",
    "plt.ylabel('Home Runs',fontsize =16)"
   ]
  },
  {
   "cell_type": "code",
   "execution_count": null,
   "id": "27e8ce5f",
   "metadata": {},
   "outputs": [],
   "source": [
    "Text(0, 0.5, 'Home Runs')\n",
    "Comment :\n",
    "Home Runs in range of 140 & 180 with combination of Run Scored in between 650-750 lead to more than 90 Wins for team. So keeping home runs in this range is cruical for more possibility of wins.\n",
    "But still its game, anything is possible with good performance of single winning player. We can see from scatter plot some of the datapoints have homeruns above 200, but still in wins are around 80.\n",
    "In conclusion we can say that Home runs is definitely contributing factor for team to win but not sufficient to make sure win."
   ]
  },
  {
   "cell_type": "code",
   "execution_count": null,
   "id": "7ef1ce5c",
   "metadata": {},
   "outputs": [],
   "source": [
    "# Checking the relation between two variables\n",
    "sns.set_palette('Set1')\n",
    "plt.figure(figsize=[10,6])\n",
    "plt.title('Comparison between Runs and At Bat', fontsize =20)\n",
    "sns.scatterplot(df['Runs Scored'],df['At Bat'],hue=df['Wins'])\n",
    "plt.xlabel('Runs Scored',fontsize =16)\n",
    "plt.ylabel(\"At Bat\",fontsize =16)"
   ]
  },
  {
   "cell_type": "markdown",
   "id": "174376b6",
   "metadata": {},
   "source": [
    "Text(0, 0.5, 'At Bat')\n",
    "\n",
    "Comment :\n",
    "We doesnot get any benchmark range for at bats from here. So it is questionable things that how much At bats matter to winning statstics. Atleast we get here that At Bat and Run Scored has positive linear relationship, which means that more Run Scroed naturally lead to more at bats.\n"
   ]
  },
  {
   "cell_type": "code",
   "execution_count": null,
   "id": "315b86b6",
   "metadata": {},
   "outputs": [],
   "source": [
    "# Checking the relation between two variables\n",
    "sns.set_palette('Set1')\n",
    "plt.figure(figsize=[10,6])\n",
    "plt.title('Runs Scored Vs Strike Outs',fontsize =20)\n",
    "sns.scatterplot(df['Runs Scored'],df['Strike Outs'],hue=df['Wins'])\n",
    "plt.xlabel('Runs Scored',fontsize =16)\n",
    "plt.ylabel('Strike Outs',fontsize =16)"
   ]
  },
  {
   "cell_type": "code",
   "execution_count": null,
   "id": "72933577",
   "metadata": {},
   "outputs": [],
   "source": [
    "Text(0, 0.5, 'Strike Outs')\n",
    "\n",
    "Comment :\n",
    "In simple word strike Outs means batter is out. We can see Strike out opponent team below 700 runs essential for more win.\n",
    "Clearly Strikeout below 1200 is like making recipe for losing game. Strikeouts in regular interval not only lead to pressure on opponent in game but also bring break on high run score."
   ]
  },
  {
   "cell_type": "code",
   "execution_count": null,
   "id": "e1b80819",
   "metadata": {},
   "outputs": [],
   "source": [
    "# Checking the relation between two variables\n",
    "sns.set_palette('hsv')\n",
    "plt.figure(figsize=[10,6])\n",
    "plt.title('Errors Vs Earned Run Average',fontsize =20)\n",
    "sns.scatterplot(df['Errors'],df['Earned Run Average'],hue=df['Wins'], cmap=('Spectral'))\n",
    "plt.xlabel('Errors',fontsize =16)\n",
    "plt.ylabel('Earned Run Average',fontsize =16)"
   ]
  },
  {
   "cell_type": "markdown",
   "id": "050ab5cc",
   "metadata": {},
   "source": [
    "Text(0, 0.5, 'Earned Run Average')\n",
    "\n",
    "Comment -\n",
    "Same result about ERA we got here as we get in Violin Plot.\n",
    "Keeping ERA below 3.5 or as much as low by Pitcher means sure win. By keeping low ERA pitcher saves run for his team.\n",
    "Another things we can see in above scatter plot is that Minimum error means maximum wins. Keeping Errors below number 90 can be held as benchmark."
   ]
  },
  {
   "cell_type": "code",
   "execution_count": null,
   "id": "7f67ca89",
   "metadata": {},
   "outputs": [],
   "source": [
    "# Checking the relation between two variables\n",
    "sns.set_palette('hsv')\n",
    "plt.figure(figsize=[10,6])\n",
    "plt.title('At Bat Vs Base on Balls',fontsize =20)\n",
    "sns.scatterplot(df['At Bat'],df['Earned Run Average'],hue=df['Errors'], cmap=('Spectral'))\n",
    "plt.xlabel('At Bat',fontsize =16)\n",
    "plt.ylabel('Earned Run Average',fontsize =16)"
   ]
  },
  {
   "cell_type": "markdown",
   "id": "21ad65aa",
   "metadata": {},
   "source": [
    "Text(0, 0.5, 'Earned Run Average')\n",
    "\n",
    "Comment :\n",
    "At Bat Vs Base on Balls doesnot give any significant imformation than High ERA means High Errors."
   ]
  },
  {
   "cell_type": "markdown",
   "id": "a53cb619",
   "metadata": {},
   "source": [
    "## Boxplot of Features"
   ]
  },
  {
   "cell_type": "code",
   "execution_count": null,
   "id": "e5de054a",
   "metadata": {},
   "outputs": [],
   "source": [
    "plt.figure(figsize=(18,15), facecolor='white')\n",
    "plotnumber =1\n",
    "for column in df:\n",
    "    if plotnumber <=18:\n",
    "        ax = plt.subplot(6,3,plotnumber)\n",
    "        sns.boxplot(df[column], palette='hsv')\n",
    "        plt.xlabel(column,fontsize=20)\n",
    "    plotnumber+=1\n",
    "plt.tight_layout()\n",
    "plt.show()\n"
   ]
  },
  {
   "cell_type": "markdown",
   "id": "e3fdb218",
   "metadata": {},
   "source": [
    "Comment :\n",
    "There are some outliers present in data. But as data is of Real world MLB 2014, these outliers are valid datapoints.\n",
    "Shutouts are rare but completely possible with exceptional performance.\n",
    "Run scored has one outliers but as Run is one of the most important parameter, it will be wise to remove corresponding datpoint.\n",
    "Outliers in Errors are totally possible so now need to worry about it."
   ]
  },
  {
   "cell_type": "code",
   "execution_count": null,
   "id": "1848e10e",
   "metadata": {},
   "outputs": [],
   "source": [
    "plt.figure(figsize=(18,12))\n",
    "sns.barplot(x=\"Wins\", y=\"Base on Balls\", data=df,palette='PiYG')\n",
    "plt.show()"
   ]
  },
  {
   "cell_type": "markdown",
   "id": "9d91a51e",
   "metadata": {},
   "source": [
    "Comment :\n",
    "Base on ball is contribution from pitcher to batter for winning. In simple word it is like Wide or No Ball in Cricket.\n",
    "We can see that base on ball above 400 really contribute in Wins in team."
   ]
  },
  {
   "cell_type": "code",
   "execution_count": null,
   "id": "47e479e9",
   "metadata": {},
   "outputs": [],
   "source": [
    "plt.figure(figsize=(18,12))\n",
    "sns.barplot(x=\"Wins\", y=\"Runs Scored\", data=df,palette='PiYG')\n",
    "plt.show()"
   ]
  },
  {
   "cell_type": "code",
   "execution_count": null,
   "id": "e5c46f7a",
   "metadata": {},
   "outputs": [],
   "source": [
    "Comment:\n",
    "Run Scored above 600 is benchmark for wining in any scenerio"
   ]
  },
  {
   "cell_type": "code",
   "execution_count": null,
   "id": "74e7a5e9",
   "metadata": {},
   "outputs": [],
   "source": [
    "plt.figure(figsize=(18,12))\n",
    "sns.barplot(x=\"Wins\", y=\"Runs Average\", data=df,palette='gist_earth')\n",
    "plt.title('Bar plot of Wins Vs Run Average', fontsize =20)\n",
    "plt.show()"
   ]
  },
  {
   "cell_type": "markdown",
   "id": "0dc98098",
   "metadata": {},
   "source": [
    "Comment :\n",
    "Here comes interesting plot, we can see Run Average decrease with increase in number of wins. But why this trend if more runs means directly increase in chance of winning.\n",
    "More Run Average gives advantage to hitter and here as wins are high even at low run this clearly means that perforamance of pitcher is better than hitter i.e. pitcher is knocking out hitter at low run score. This must be reflected in any pitcher side stastical parameter like Strike outs, Earned Run or Earned Run Average."
   ]
  },
  {
   "cell_type": "markdown",
   "id": "8979e377",
   "metadata": {},
   "source": [
    "Lets try find answer of this millon dollor puzzle by diving more into relation of Wins with parameters like ERA, strikeouts."
   ]
  },
  {
   "cell_type": "code",
   "execution_count": null,
   "id": "f42f7811",
   "metadata": {},
   "outputs": [],
   "source": [
    "plt.figure(figsize=(18,12))\n",
    "sns.barplot(x=\"Wins\", y=\"Earned Run Average\", data=df,palette='spring')\n",
    "plt.xlabel('Wins',fontsize =16)\n",
    "plt.ylabel('Earned Run Average',fontsize =16)\n",
    "plt.show()"
   ]
  },
  {
   "cell_type": "markdown",
   "id": "53630246",
   "metadata": {},
   "source": [
    "Comment :And here we got what we looking for.As we thought there must be atleast one pitcher parameter where this decreasing trend must be reflected.\n",
    "ERA is low for maximum wins. Low ERA by pitcher clearly means that pitcher is giving less chance given to batter to score run.\n",
    "We already come to conclusion of keeping ERA less than 3.5 in previous result. This plot also support that story.\n",
    "But this also indicate that ERA and Runs Average score are bound to related with each other in linear relationship (may be positive or negtive).\n",
    "Another things here is that Earned Run and Wins must have negative relationship. we will check it in further investigation.\n",
    "Let check it through strip plot between Runs Average and Earned Run Average"
   ]
  },
  {
   "cell_type": "code",
   "execution_count": null,
   "id": "bcb0880b",
   "metadata": {},
   "outputs": [],
   "source": [
    "# Checking the relation between two variables\n",
    "sns.set_palette('Set1')\n",
    "plt.figure(figsize=[16,8])\n",
    "plt.title('Comparison between Run Average and Earned Run Average', fontsize =20)\n",
    "sns.stripplot(df['Runs Average'],df['Earned Run Average'],hue=df['Wins'])\n",
    "plt.xlabel('Runs Average',fontsize =16)\n",
    "plt.ylabel(\"Earned Run Average\",fontsize =16)"
   ]
  },
  {
   "cell_type": "code",
   "execution_count": null,
   "id": "5879d942",
   "metadata": {},
   "outputs": [],
   "source": [
    "Text(0, 0.5, 'Earned Run Average')\n",
    "\n",
    "Comment :Here we got what we suspect in previous plot. ERA and RA hold linear relationship.\n",
    "Now let check strikeout show same behavior as ERA with respect to Runs Average."
   ]
  },
  {
   "cell_type": "code",
   "execution_count": null,
   "id": "d63b7657",
   "metadata": {},
   "outputs": [],
   "source": [
    "# Checking the relation between two variables\n",
    "sns.set_palette('Set1')\n",
    "plt.figure(figsize=[16,8])\n",
    "plt.title('Comparison between Run Average and Earned Run Average', fontsize =20)\n",
    "sns.stripplot(df['Runs Average'],df['Strike Outs'],hue=df['Wins'])\n",
    "plt.xlabel('Runs Average',fontsize =16)\n",
    "plt.ylabel(\"Strike Outs\",fontsize =16)"
   ]
  },
  {
   "cell_type": "code",
   "execution_count": null,
   "id": "f1d6fc48",
   "metadata": {},
   "outputs": [],
   "source": [
    "Text(0, 0.5, 'Strike Outs')\n",
    "\n",
    "Comment :Strike outs are randomly placed giving not much any significant insights. Most probably strikeouts doesnot matter.\n",
    "    There is one outlier in Runs score, lets check that entry"
   ]
  },
  {
   "cell_type": "code",
   "execution_count": null,
   "id": "7f7e40a3",
   "metadata": {},
   "outputs": [],
   "source": [
    "df['Runs Scored'].max()"
   ]
  },
  {
   "cell_type": "markdown",
   "id": "50cb15b8",
   "metadata": {},
   "source": [
    "891\n"
   ]
  },
  {
   "cell_type": "code",
   "execution_count": null,
   "id": "78983763",
   "metadata": {},
   "outputs": [],
   "source": [
    "df.loc[df['Runs Scored']==891]"
   ]
  },
  {
   "cell_type": "markdown",
   "id": "7a63c93d",
   "metadata": {},
   "source": [
    "\tWins\tRuns Scored\tAt Bat\tHits\tDoubles\tTriples\tHome Runs\tBase on Balls\tStrike Outs\tStolen Base\tRuns Average\tEarned Runs\tEarned Run Average\tComplete Game\tShut Outs\tSaves\tErrors\n",
    "5\t93\t891\t5509\t1480\t308\t17\t232\t570\t1151\t88\t670\t609\t3.8\t7\t10\t34\t88\n",
    "It seem like highest Doubles, Homeruns and base ball also belong to this entry. Let cross check"
   ]
  },
  {
   "cell_type": "code",
   "execution_count": null,
   "id": "19c2580c",
   "metadata": {},
   "outputs": [],
   "source": [
    "df['Home Runs'].max(),df['Base on Balls'].max(),df['Doubles'].max()"
   ]
  },
  {
   "cell_type": "markdown",
   "id": "8265c6be",
   "metadata": {},
   "source": [
    "(232, 570, 308)\n",
    "Here we got what we suspect.\n",
    "In one of the previous result we suspect that Earned Run/Earned Run Average and Wins must have negative relationship, let check by looking at jointplot."
   ]
  },
  {
   "cell_type": "code",
   "execution_count": null,
   "id": "54d87175",
   "metadata": {},
   "outputs": [],
   "source": [
    "sns.jointplot(x=\"Earned Runs\", y=\"Wins\", data=df, color=\"blue\",palette=\"Set1\")"
   ]
  },
  {
   "cell_type": "code",
   "execution_count": null,
   "id": "cbd8794f",
   "metadata": {},
   "outputs": [],
   "source": [
    "Jointplot shows same story about Earned Run/Earned Run Average and Wins having linear negative relationship\n",
    "\n",
    "Let check relationship between saves and wins"
   ]
  },
  {
   "cell_type": "code",
   "execution_count": null,
   "id": "bbc890f7",
   "metadata": {},
   "outputs": [],
   "source": [
    "plt.figure(figsize=(10,10))\n",
    "sns.jointplot(x=\"Saves\", y=\"Wins\", data=df, color=\"purple\")\n"
   ]
  },
  {
   "cell_type": "markdown",
   "id": "23e7df42",
   "metadata": {},
   "source": [
    "<seaborn.axisgrid.JointGrid at 0x1a3e30f9fd0>\n",
    "<Figure size 720x720 with 0 Axes>"
   ]
  },
  {
   "cell_type": "markdown",
   "id": "8e1f53b1",
   "metadata": {},
   "source": [
    "Comment :\n",
    "A save is rewarded to the relief pitcher who finishes a game for the winning team under certain circumstances\n",
    "Here with increase in the number of save increases the number of wins."
   ]
  },
  {
   "cell_type": "code",
   "execution_count": null,
   "id": "7a97dbb4",
   "metadata": {},
   "outputs": [],
   "source": [
    "sns.pairplot(df, hue=\"Wins\")"
   ]
  },
  {
   "cell_type": "code",
   "execution_count": null,
   "id": "3b807748",
   "metadata": {},
   "outputs": [],
   "source": [
    "plt.figure(figsize=(17,12))\n",
    "sns.heatmap(df.corr(), vmin=-1, vmax=1, annot=True, square=True, fmt='0.3f', \n",
    "            annot_kws={'size':10}, cmap=\"gist_stern\", mask=upper_triangle)\n",
    "plt.xticks(fontsize=12)\n",
    "plt.yticks(fontsize=12)\n",
    "plt.show()"
   ]
  },
  {
   "cell_type": "markdown",
   "id": "e077d78d",
   "metadata": {},
   "source": [
    "## Outliers Detection and Removal"
   ]
  },
  {
   "cell_type": "code",
   "execution_count": null,
   "id": "1de1ce50",
   "metadata": {},
   "outputs": [],
   "source": [
    "from scipy.stats import zscore\n",
    "z = np.abs(zscore(df))\n",
    "threshold = 3\n",
    "df1 = df[(z<3).all(axis = 1)]"
   ]
  },
  {
   "cell_type": "code",
   "execution_count": null,
   "id": "7e400ded",
   "metadata": {},
   "outputs": [],
   "source": [
    "print(\"\\033[1m\"+'Shape of dataset after removing outliers :'+\"\\033[0m\",df1.shape)"
   ]
  },
  {
   "cell_type": "code",
   "execution_count": null,
   "id": "9509d299",
   "metadata": {},
   "outputs": [],
   "source": [
    "Shape of dataset after removing outliers : (29, 17)"
   ]
  },
  {
   "cell_type": "markdown",
   "id": "1305ac07",
   "metadata": {},
   "source": [
    "## Data Loss"
   ]
  },
  {
   "cell_type": "code",
   "execution_count": null,
   "id": "916a12a9",
   "metadata": {},
   "outputs": [],
   "source": [
    "print(\"\\033[1m\"+'Percentage Data Loss :'+\"\\033[0m\",((30-29)/30)*100,'%')"
   ]
  },
  {
   "cell_type": "code",
   "execution_count": null,
   "id": "470753a4",
   "metadata": {},
   "outputs": [],
   "source": [
    "Percentage Data Loss : 3.3333333333333335 %"
   ]
  },
  {
   "cell_type": "markdown",
   "id": "ecedbe05",
   "metadata": {},
   "source": [
    "## Feature selection and Engineering"
   ]
  },
  {
   "cell_type": "markdown",
   "id": "d2353cf1",
   "metadata": {},
   "source": [
    "## 1. Skewness of features"
   ]
  },
  {
   "cell_type": "code",
   "execution_count": null,
   "id": "ddd3019a",
   "metadata": {},
   "outputs": [],
   "source": [
    "df1.skew()"
   ]
  },
  {
   "cell_type": "markdown",
   "id": "8711750d",
   "metadata": {},
   "source": [
    "Wins                  0.119013\n",
    "Runs Scored          -0.215364\n",
    "At Bat                0.169573\n",
    "Hits                  0.783772\n",
    "Doubles              -0.335304\n",
    "Triples               0.090124\n",
    "Home Runs             0.450862\n",
    "Base on Balls         0.151193\n",
    "Strike Outs          -0.233815\n",
    "Stolen Base           0.494966\n",
    "Runs Average          0.018155\n",
    "Earned Runs           0.018461\n",
    "Earned Run Average    0.016693\n",
    "Complete Game         0.854980\n",
    "Shut Outs             0.526943\n",
    "Saves                 0.627480\n",
    "Errors                0.840271\n",
    "dtype: float64\n",
    "Comment -\n",
    "Optimal range for skewness is -0.5 to 0.5.\n",
    "Hits, Complete Game, Shuts Outs, Saves, Errors are positively Skewed in nature, need to transform.\n",
    "Transforming positive or right skew data using boxcox transformation"
   ]
  },
  {
   "cell_type": "code",
   "execution_count": null,
   "id": "ff4ea022",
   "metadata": {},
   "outputs": [],
   "source": [
    "from scipy.stats import boxcox"
   ]
  },
  {
   "cell_type": "code",
   "execution_count": null,
   "id": "b143a022",
   "metadata": {},
   "outputs": [],
   "source": [
    "df1['Hits']=boxcox(df1['Hits'],-2)"
   ]
  },
  {
   "cell_type": "code",
   "execution_count": null,
   "id": "23c22d00",
   "metadata": {},
   "outputs": [],
   "source": [
    "df1['Shut Outs']=boxcox(df1['Shut Outs'],0.5)"
   ]
  },
  {
   "cell_type": "code",
   "execution_count": null,
   "id": "9cf5e24a",
   "metadata": {},
   "outputs": [],
   "source": [
    "df1['Saves']=boxcox(df1['Saves'],0.5)"
   ]
  },
  {
   "cell_type": "markdown",
   "id": "331432c4",
   "metadata": {},
   "source": [
    "## Other feature not able transform by Boxcox Method as they showing data must be positive. So others columns are transfrom using yeo-johnson method"
   ]
  },
  {
   "cell_type": "code",
   "execution_count": null,
   "id": "96368ce7",
   "metadata": {},
   "outputs": [],
   "source": [
    "from sklearn.preprocessing import PowerTransformer\n",
    "from sklearn.compose import ColumnTransformer"
   ]
  },
  {
   "cell_type": "code",
   "execution_count": null,
   "id": "5e240a30",
   "metadata": {},
   "outputs": [],
   "source": [
    "EC=['Errors','Complete Game']\n",
    "ds =df1[EC].copy()"
   ]
  },
  {
   "cell_type": "code",
   "execution_count": null,
   "id": "be5605f5",
   "metadata": {},
   "outputs": [],
   "source": [
    "column_trans =ColumnTransformer(\n",
    "    [  ('Errors',PowerTransformer(method='yeo-johnson',standardize=True),['Errors']),\n",
    "      ('Complete Game',PowerTransformer(method='yeo-johnson',standardize=True),['Complete Game'])])\n",
    "transformed_yeojohnson =column_trans.fit_transform(df1)   \n",
    "new_cols=['Errors','Complete Game']\n",
    "dataset=pd.DataFrame(transformed_yeojohnson,columns=new_cols) #to convert numpy array back into dataframe\n",
    "pd.concat([dataset],axis=1)\n",
    "dataset.head()"
   ]
  },
  {
   "cell_type": "markdown",
   "id": "15187618",
   "metadata": {},
   "source": [
    "Errors\tComplete Game\n",
    "0\t-0.348265\t-0.307098\n",
    "1\t-0.540820\t-0.307098\n",
    "2\t-1.326125\t2.011315\n",
    "3\t0.650818\t1.264463\n",
    "4\t-0.540820\t1.264463"
   ]
  },
  {
   "cell_type": "code",
   "execution_count": null,
   "id": "04a1e9de",
   "metadata": {},
   "outputs": [],
   "source": [
    "# reseting index and mergeing transform data\n",
    "df1.reset_index(drop=True, inplace=True)\n",
    "dataset.index=df1.index\n",
    "df1[EC]=dataset[EC]"
   ]
  },
  {
   "cell_type": "markdown",
   "id": "96927dff",
   "metadata": {},
   "source": [
    "### Skewness after transforming features"
   ]
  },
  {
   "cell_type": "code",
   "execution_count": null,
   "id": "c65d3397",
   "metadata": {},
   "outputs": [],
   "source": [
    "df1.skew()"
   ]
  },
  {
   "cell_type": "markdown",
   "id": "d9d5f316",
   "metadata": {},
   "source": [
    "Wins                  0.119013\n",
    "Runs Scored          -0.215364\n",
    "At Bat                0.169573\n",
    "Hits                  0.000000\n",
    "Doubles              -0.335304\n",
    "Triples               0.090124\n",
    "Home Runs             0.450862\n",
    "Base on Balls         0.151193\n",
    "Strike Outs          -0.233815\n",
    "Stolen Base           0.494966\n",
    "Runs Average          0.018155\n",
    "Earned Runs           0.018461\n",
    "Earned Run Average    0.016693\n",
    "Complete Game        -0.045947\n",
    "Shut Outs            -0.085802\n",
    "Saves                 0.370280\n",
    "Errors                0.065585\n",
    "dtype: float64"
   ]
  },
  {
   "cell_type": "markdown",
   "id": "c1abfa9f",
   "metadata": {},
   "source": [
    "### All features skewness is now transform within permissible limit of -0.5 to 0.5 as shown above "
   ]
  },
  {
   "cell_type": "markdown",
   "id": "5c218fc5",
   "metadata": {},
   "source": [
    "### 2. Corrleation"
   ]
  },
  {
   "cell_type": "code",
   "execution_count": null,
   "id": "239bfed2",
   "metadata": {},
   "outputs": [],
   "source": [
    "df1.corr()"
   ]
  },
  {
   "cell_type": "markdown",
   "id": "16133ece",
   "metadata": {},
   "source": [
    "Wins\tRuns Scored\tAt Bat\tHits\tDoubles\tTriples\tHome Runs\tBase on Balls\tStrike Outs\tStolen Base\tRuns Average\tEarned Runs\tEarned Run Average\tComplete Game\tShut Outs\tSaves\tErrors\n",
    "Wins\t1.000000\t0.390451\t-0.085780\t-0.025885\t0.384886\t-0.206737\t0.245697\t0.447513\t0.156469\t-0.169503\t-0.823176\t-0.815308\t-0.826952\t0.007696\t0.477949\t0.754886\t-0.079633\n",
    "Runs Scored\t0.390451\t1.000000\t0.438022\t0.429083\t0.469293\t0.134204\t0.586894\t0.258450\t0.081158\t0.075323\t-0.013858\t0.007727\t-0.009122\t0.155122\t-0.119300\t0.071589\t0.039865\n",
    "At Bat\t-0.085780\t0.438022\t1.000000\t0.771485\t0.490752\t0.445604\t-0.064653\t-0.137850\t-0.111243\t0.373674\t0.315499\t0.309146\t0.254872\t-0.059648\t-0.193987\t-0.127766\t0.332002\n",
    "Hits\t-0.025885\t0.429083\t0.771485\t1.000000\t0.525668\t0.574467\t-0.219890\t-0.220426\t-0.375825\t0.424369\t0.241583\t0.278600\t0.254635\t0.070020\t-0.134500\t-0.093443\t-0.012712\n",
    "Doubles\t0.384886\t0.469293\t0.490752\t0.525668\t1.000000\t0.342419\t-0.098695\t0.211243\t-0.096772\t0.194308\t-0.215196\t-0.224993\t-0.248212\t0.227220\t0.088345\t0.258675\t0.152541\n",
    "Triples\t-0.206737\t0.134204\t0.445604\t0.574467\t0.342419\t1.000000\t-0.369299\t-0.404852\t-0.196586\t0.483818\t0.312750\t0.333731\t0.325883\t-0.004496\t-0.067667\t-0.236230\t0.080498\n",
    "Home Runs\t0.245697\t0.586894\t-0.064653\t-0.219890\t-0.098695\t-0.369299\t1.000000\t0.336814\t0.479914\t-0.166072\t-0.092586\t-0.062094\t-0.070756\t0.118284\t-0.030256\t0.084263\t-0.165883\n",
    "Base on Balls\t0.447513\t0.258450\t-0.137850\t-0.220426\t0.211243\t-0.404852\t0.336814\t1.000000\t0.315566\t-0.117622\t-0.425381\t-0.455832\t-0.465794\t0.445335\t0.434799\t0.197177\t-0.056106\n",
    "Strike Outs\t0.156469\t0.081158\t-0.111243\t-0.375825\t-0.096772\t-0.196586\t0.479914\t0.315566\t1.000000\t0.038188\t-0.140570\t-0.177655\t-0.195362\t-0.063129\t0.200067\t0.105667\t0.164817\n",
    "Stolen Base\t-0.169503\t0.075323\t0.373674\t0.424369\t0.194308\t0.483818\t-0.166072\t-0.117622\t0.038188\t1.000000\t0.134315\t0.146243\t0.128848\t-0.040524\t-0.098740\t-0.187605\t0.070527\n",
    "Runs Average\t-0.823176\t-0.013858\t0.315499\t0.241583\t-0.215196\t0.312750\t-0.092586\t-0.425381\t-0.140570\t0.134315\t1.000000\t0.991286\t0.986781\t0.062434\t-0.641778\t-0.637543\t0.231036\n",
    "Earned Runs\t-0.815308\t0.007727\t0.309146\t0.278600\t-0.224993\t0.333731\t-0.062094\t-0.455832\t-0.177655\t0.146243\t0.991286\t1.000000\t0.997261\t0.067069\t-0.639589\t-0.616471\t0.165556\n",
    "Earned Run Average\t-0.826952\t-0.009122\t0.254872\t0.254635\t-0.248212\t0.325883\t-0.070756\t-0.465794\t-0.195362\t0.128848\t0.986781\t0.997261\t1.000000\t0.073959\t-0.639984\t-0.632172\t0.138692\n",
    "Complete Game\t0.007696\t0.155122\t-0.059648\t0.070020\t0.227220\t-0.004496\t0.118284\t0.445335\t-0.063129\t-0.040524\t0.062434\t0.067069\t0.073959\t1.000000\t0.203886\t-0.312949\t-0.070484\n",
    "Shut Outs\t0.477949\t-0.119300\t-0.193987\t-0.134500\t0.088345\t-0.067667\t-0.030256\t0.434799\t0.200067\t-0.098740\t-0.641778\t-0.639589\t-0.639984\t0.203886\t1.000000\t0.206222\t-0.206473\n",
    "Saves\t0.754886\t0.071589\t-0.127766\t-0.093443\t0.258675\t-0.236230\t0.084263\t0.197177\t0.105667\t-0.187605\t-0.637543\t-0.616471\t-0.632172\t-0.312949\t0.206222\t1.000000\t-0.004960\n",
    "Errors\t-0.079633\t0.039865\t0.332002\t-0.012712\t0.152541\t0.080498\t-0.165883\t-0.056106\t0.164817\t0.070527\t0.231036\t0.165556\t0.138692\t-0.070484\t-0.206473\t-0.004960\t1.000000"
   ]
  },
  {
   "cell_type": "code",
   "execution_count": null,
   "id": "c9ff6047",
   "metadata": {},
   "outputs": [],
   "source": [
    "upper_triangle = np.triu(df.corr())\n",
    "plt.figure(figsize=(20,15))\n",
    "sns.heatmap(df1.corr(), vmin=-1, vmax=1, annot=True, square=True, fmt='0.3f', \n",
    "            annot_kws={'size':10}, cmap=\"gist_stern\", mask=upper_triangle)\n",
    "plt.xticks(fontsize=12)\n",
    "plt.yticks(fontsize=12)\n",
    "plt.show()"
   ]
  },
  {
   "cell_type": "code",
   "execution_count": null,
   "id": "0b55e496",
   "metadata": {},
   "outputs": [],
   "source": [
    "plt.figure(figsize = (18,6))\n",
    "df1.corr()['Wins'].drop(['Wins']).plot(kind='bar',color = 'c')\n",
    "plt.xlabel('Features',fontsize=15)\n",
    "plt.ylabel('Wins',fontsize=15)\n",
    "plt.title('Correlation of features with Target Variable win',fontsize = 18)\n",
    "plt.show()\n"
   ]
  },
  {
   "cell_type": "code",
   "execution_count": null,
   "id": "11b5607a",
   "metadata": {},
   "outputs": [],
   "source": [
    "Comment :\n",
    "Hits, At bats, Complete game and errors are very poorly correlated with target variable.\n",
    "Saves, ERA,RA,EA are highly correleated with target variable.\n",
    "here is visible multi colinearity between the feature columns \"Earned Runs\", \"Earned Run Average\" and \"Runs Average\". This need to check.\n",
    "This multicollinearity need to check it with varaiance inflation factor or need to address by use of PCA."
   ]
  },
  {
   "cell_type": "markdown",
   "id": "7782e080",
   "metadata": {},
   "source": [
    "### 3. Checking Multicollinearity between features using variance_inflation_factor"
   ]
  },
  {
   "cell_type": "code",
   "execution_count": null,
   "id": "a1759a8d",
   "metadata": {},
   "outputs": [],
   "source": [
    "from statsmodels.stats.outliers_influence import variance_inflation_factor\n",
    "vif= pd.DataFrame()\n",
    "vif['VIF']= [variance_inflation_factor(df2.values,i) for i in range(df1.shape[1])]\n",
    "vif['Features']= df1.columns\n",
    "vif"
   ]
  },
  {
   "cell_type": "markdown",
   "id": "b88d970d",
   "metadata": {},
   "source": [
    "VIF\tFeatures\n",
    "0\t1164.543214\tWins\n",
    "1\t3253.807721\tRuns Scored\n",
    "2\t5181.779465\tAt Bat\n",
    "3\t4817.334228\tHits\n",
    "4\t1157.105781\tDoubles\n",
    "5\t32.435486\tTriples\n",
    "6\t309.301103\tHome Runs\n",
    "7\t302.099558\tBase on Balls\n",
    "8\t400.292880\tStrike Outs\n",
    "9\t28.665516\tStolen Base\n",
    "10\t18170.014649\tRuns Average\n",
    "11\t51175.790270\tEarned Runs\n",
    "12\t23668.747242\tEarned Run Average\n",
    "13\t10.411616\tComplete Game\n",
    "14\t33.258426\tShut Outs\n",
    "15\t331.282416\tSaves\n",
    "16\t96.958680\tErrors\n",
    "Comment :\n",
    "It is natural to have such high multicollinearity due to following reason :- 1. Earned Run Average,Earned Runs,Runs Average are highly correlated with each other. 2. At Bat and Hits are 0.771 correlated with each other. But at same time very poor correlated with target variable. 3. Another most important reason is data need to scale which we did not scale until now.\n",
    "\n",
    "Strategy to Address Multicollinearity :\n",
    "Removing Some of highly correlated features. But this will not work here as most of input features are correlated with each other either moderated or poorly.\n",
    "Another way to address Multicollinerity is to Scaled Data and then apply PCA.\n",
    "We will go by Second way for further investigation."
   ]
  },
  {
   "cell_type": "markdown",
   "id": "1e155f25",
   "metadata": {},
   "source": [
    "### Standard Scaling"
   ]
  },
  {
   "cell_type": "code",
   "execution_count": null,
   "id": "7f186f47",
   "metadata": {},
   "outputs": [],
   "source": [
    "X=df1.drop(columns =['Wins'])\n",
    "Y=df1['Wins']"
   ]
  },
  {
   "cell_type": "code",
   "execution_count": null,
   "id": "a3444944",
   "metadata": {},
   "outputs": [],
   "source": [
    "from sklearn.preprocessing import StandardScaler\n",
    "scaler= StandardScaler()\n",
    "X_scale = scaler.fit_transform(X)"
   ]
  },
  {
   "cell_type": "markdown",
   "id": "8a31e611",
   "metadata": {},
   "source": [
    "## PCA"
   ]
  },
  {
   "cell_type": "code",
   "execution_count": null,
   "id": "c47d8f08",
   "metadata": {},
   "outputs": [],
   "source": [
    "from sklearn.decomposition import PCA\n",
    "pca = PCA()\n",
    "#plot the graph to find the principal components\n",
    "x_pca = pca.fit_transform(X_scale)\n",
    "plt.figure(figsize=(10,10))\n",
    "plt.plot(np.cumsum(pca.explained_variance_ratio_), 'ro-')\n",
    "plt.xlabel('Number of Components')\n",
    "plt.ylabel('Variance %')\n",
    "plt.title('Explained variance Ratio')\n",
    "plt.grid()"
   ]
  },
  {
   "cell_type": "markdown",
   "id": "feed80fc",
   "metadata": {},
   "source": [
    "Comment -\n",
    "AS per the graph, we can see that 7 principal components attribute for 95% of variation in the data. We shall pick the first 7 components for our prediction"
   ]
  },
  {
   "cell_type": "code",
   "execution_count": null,
   "id": "7bcef709",
   "metadata": {},
   "outputs": [],
   "source": [
    "pca_new = PCA(n_components=7)\n",
    "x_new = pca_new.fit_transform(X_scale)"
   ]
  },
  {
   "cell_type": "code",
   "execution_count": null,
   "id": "9c26602e",
   "metadata": {},
   "outputs": [],
   "source": [
    "principle_x=pd.DataFrame(x_new,columns=np.arange(7))"
   ]
  },
  {
   "cell_type": "markdown",
   "id": "fa6ef4a1",
   "metadata": {},
   "source": [
    "#### Checking Multicollinearity after applying PCA"
   ]
  },
  {
   "cell_type": "code",
   "execution_count": null,
   "id": "e388ce88",
   "metadata": {},
   "outputs": [],
   "source": [
    "from statsmodels.stats.outliers_influence import variance_inflation_factor\n",
    "vif= pd.DataFrame()\n",
    "vif['VIF']= [variance_inflation_factor(principle_x.values,i) for i in range(principle_x.shape[1])]\n",
    "vif['Features']= principle_x.columns\n",
    "vif"
   ]
  },
  {
   "cell_type": "markdown",
   "id": "c7fbe429",
   "metadata": {},
   "source": [
    "VIF\tFeatures\n",
    "0\t1.0\t0\n",
    "1\t1.0\t1\n",
    "2\t1.0\t2\n",
    "3\t1.0\t3\n",
    "4\t1.0\t4\n",
    "5\t1.0\t5\n",
    "6\t1.0\t6\n",
    "We can see that Multicollinearity issue is clear now."
   ]
  },
  {
   "cell_type": "markdown",
   "id": "5ace65b6",
   "metadata": {},
   "source": [
    "### Machine Learning Model Building"
   ]
  },
  {
   "cell_type": "code",
   "execution_count": null,
   "id": "f99f9f93",
   "metadata": {},
   "outputs": [],
   "source": [
    "from sklearn.linear_model import LinearRegression\n",
    "from sklearn.linear_model import LogisticRegression\n",
    "from sklearn.ensemble import RandomForestRegressor\n",
    "from sklearn.tree import DecisionTreeRegressor\n",
    "from sklearn.svm import SVR\n",
    "from sklearn.ensemble import AdaBoostRegressor\n",
    "from sklearn.ensemble import  GradientBoostingRegressor\n",
    "from sklearn.neighbors import KNeighborsRegressor\n",
    "from sklearn.metrics import mean_squared_error, mean_absolute_error\n",
    "from sklearn.metrics import r2_score\n",
    "from sklearn.model_selection import train_test_split\n",
    "from sklearn.linear_model import  Ridge\n",
    "from sklearn.linear_model import  Lasso\n",
    "from xgboost import XGBRegressor"
   ]
  },
  {
   "cell_type": "code",
   "execution_count": null,
   "id": "6dc56798",
   "metadata": {},
   "outputs": [],
   "source": [
    "X_train, X_test, Y_train, Y_test = train_test_split(principle_x, Y, random_state=42, test_size=.3)\n",
    "print('Training feature matrix size:',X_train.shape)\n",
    "print('Training target vector size:',Y_train.shape)\n",
    "print('Test feature matrix size:',X_test.shape)\n",
    "print('Test target vector size:',Y_test.shape)"
   ]
  },
  {
   "cell_type": "markdown",
   "id": "254e939a",
   "metadata": {},
   "source": [
    "Training feature matrix size: (20, 7)\n",
    "Training target vector size: (20,)\n",
    "Test feature matrix size: (9, 7)\n",
    "Test target vector size: (9,)"
   ]
  },
  {
   "cell_type": "markdown",
   "id": "bfe00289",
   "metadata": {},
   "source": [
    "## Finding Best Random state "
   ]
  },
  {
   "cell_type": "code",
   "execution_count": null,
   "id": "52805102",
   "metadata": {},
   "outputs": [],
   "source": [
    "from sklearn.linear_model import LinearRegression\n",
    "from sklearn.metrics import r2_score\n",
    "maxR2_score=0\n",
    "maxRS=0\n",
    "for i in range(1,250):\n",
    "    X_train, X_test, Y_train, Y_test = train_test_split(principle_x, Y, random_state=i, test_size=.25)\n",
    "    lin_reg=LinearRegression()\n",
    "    lin_reg.fit(X_train,Y_train)\n",
    "    y_pred=lin_reg.predict(X_test)\n",
    "    R2=r2_score(Y_test,y_pred)\n",
    "    if R2>maxR2_score:\n",
    "        maxR2_score=R2\n",
    "        maxRS=i\n",
    "print('Best R2 Score is', maxR2_score ,'on Random_state', maxRS)"
   ]
  },
  {
   "cell_type": "markdown",
   "id": "c2844f07",
   "metadata": {},
   "source": [
    "Best R2 Score is 0.9179738330851039 on Random_state 217"
   ]
  },
  {
   "cell_type": "markdown",
   "id": "494d6cf8",
   "metadata": {},
   "source": [
    "## Linear Regression : Base model"
   ]
  },
  {
   "cell_type": "code",
   "execution_count": null,
   "id": "87c7d186",
   "metadata": {},
   "outputs": [],
   "source": [
    "X_train, X_test, Y_train, Y_test = train_test_split(principle_x, Y, random_state=217, test_size=.25)\n",
    "lin_reg=LinearRegression()\n",
    "lin_reg.fit(X_train,Y_train)\n",
    "lin_reg.score(X_train,Y_train)\n",
    "y_pred=lin_reg.predict(X_test)\n",
    "print('\\033[1m'+'Predicted Wins:'+'\\033[0m\\n',y_pred)\n",
    "print('\\n')\n",
    "print('\\033[1m'+'Actual Wins:'+'\\033[0m\\n',Y_test)"
   ]
  },
  {
   "cell_type": "markdown",
   "id": "068ed9c1",
   "metadata": {},
   "source": [
    "Predicted Wins:\n",
    " [84.58605088 96.26198656 82.50274504 63.77883574 88.03714446 70.54986049\n",
    " 82.43803368 72.96772225]\n",
    "\n",
    "\n",
    "Actual Wins:\n",
    " 2     81\n",
    "15    98\n",
    "26    79\n",
    "23    63\n",
    "5     87\n",
    "4     74\n",
    "6     81\n",
    "17    68\n",
    "Name: Wins, dtype: int64"
   ]
  },
  {
   "cell_type": "markdown",
   "id": "73d94f4e",
   "metadata": {},
   "source": [
    "### Linear Regression Evaluation Matrix"
   ]
  },
  {
   "cell_type": "code",
   "execution_count": null,
   "id": "ddc70e22",
   "metadata": {},
   "outputs": [],
   "source": [
    "print('\\033[1m'+' Error :'+'\\033[0m')\n",
    "print('Mean absolute error :', mean_absolute_error(Y_test,y_pred))\n",
    "print('Mean squared error :', mean_squared_error(Y_test,y_pred))\n",
    "print('Root Mean Squared Error:', np.sqrt(mean_squared_error(Y_test,y_pred)))\n",
    "print('\\n')\n",
    "from sklearn.metrics import r2_score\n",
    "print('\\033[1m'+' R2 Score :'+'\\033[0m')\n",
    "print(r2_score(Y_test,y_pred,multioutput='variance_weighted'))"
   ]
  },
  {
   "cell_type": "markdown",
   "id": "c4861bb2",
   "metadata": {},
   "source": [
    "Error :\n",
    "Mean absolute error : 2.5623356267648196\n",
    "Mean squared error : 8.560199512884235\n",
    "Root Mean Squared Error: 2.925781863516868\n",
    "\n",
    "\n",
    " R2 Score :\n",
    "0.917973833085104"
   ]
  },
  {
   "cell_type": "markdown",
   "id": "aaa1fe26",
   "metadata": {},
   "source": [
    "### Cross validation"
   ]
  },
  {
   "cell_type": "code",
   "execution_count": null,
   "id": "35a650df",
   "metadata": {},
   "outputs": [],
   "source": [
    "# Cross Validation\n",
    "score = cross_val_score(lin_reg, principle_x, Y, cv =3)\n",
    "print('\\033[1m'+'Cross Validation Score :',lin_reg,\":\"+'\\033[0m\\n')\n",
    "print(\"Mean CV Score :\",score.mean())"
   ]
  },
  {
   "cell_type": "code",
   "execution_count": null,
   "id": "00624cf0",
   "metadata": {},
   "outputs": [],
   "source": [
    "Cross Validation Score : LinearRegression() :\n"
   ]
  },
  {
   "cell_type": "code",
   "execution_count": null,
   "id": "5f5876f8",
   "metadata": {},
   "outputs": [],
   "source": [
    "Mean CV Score : 0.3354655028709028"
   ]
  },
  {
   "cell_type": "code",
   "execution_count": null,
   "id": "c3eff24d",
   "metadata": {},
   "outputs": [],
   "source": [
    "plt.figure(figsize=(6,5))\n",
    "y_pred=lin_reg.predict(X_test)\n",
    "sns.swarmplot(Y_test.round(2), y_pred)\n",
    "print('\\033[1m'+' True Values Vs Predicted Value plot :' +'\\033[0m')\n",
    "plt.xlabel('True Values' , fontsize=15)\n",
    "plt.ylabel('Predictions', fontsize=15)\n",
    "plt.tight_layout()"
   ]
  },
  {
   "cell_type": "markdown",
   "id": "ce7da28e",
   "metadata": {},
   "source": [
    "## Finding best n_neighbors for KNN Regressor"
   ]
  },
  {
   "cell_type": "code",
   "execution_count": null,
   "id": "89500e4b",
   "metadata": {},
   "outputs": [],
   "source": [
    "from sklearn.neighbors import KNeighborsRegressor\n",
    "from sklearn import neighbors\n",
    "from math import sqrt\n",
    "from sklearn.metrics import mean_squared_error\n",
    "rmse_val = [] #to store rmse values for different k\n",
    "for K in range(10):\n",
    "    K = K+1\n",
    "    model = neighbors.KNeighborsRegressor(n_neighbors = K)\n",
    "\n",
    "    model.fit(X_train,Y_train)  #fit the model\n",
    "    y_pred=model.predict(X_test) #make prediction on test set\n",
    "    error = sqrt(mean_squared_error(Y_test,y_pred)) #calculate rmse\n",
    "    rmse_val.append(error) #store rmse values\n",
    "    print('RMSE value for k= ' , K , 'is:', error)"
   ]
  },
  {
   "cell_type": "markdown",
   "id": "95abe6b5",
   "metadata": {},
   "source": [
    "RMSE value for k=  1 is: 8.246211251235321\n",
    "RMSE value for k=  2 is: 6.267475568360838\n",
    "RMSE value for k=  3 is: 6.1553951042064625\n",
    "RMSE value for k=  4 is: 5.050525962709231\n",
    "RMSE value for k=  5 is: 5.566866263886713\n",
    "RMSE value for k=  6 is: 5.9956581512513445\n",
    "RMSE value for k=  7 is: 5.569367750728727\n",
    "RMSE value for k=  8 is: 5.896900668995536\n",
    "RMSE value for k=  9 is: 6.370868305259728\n",
    "RMSE value for k=  10 is: 6.42008566921034"
   ]
  },
  {
   "cell_type": "code",
   "execution_count": null,
   "id": "b7f554e5",
   "metadata": {},
   "outputs": [],
   "source": [
    "#plotting the rmse values against k values -\n",
    "plt.figure(figsize = (8,6))\n",
    "plt.plot(range(10), rmse_val, color='blue', linestyle='dashed', marker='o', markerfacecolor='green', markersize=10)"
   ]
  },
  {
   "cell_type": "markdown",
   "id": "05565e47",
   "metadata": {},
   "source": [
    "[<matplotlib.lines.Line2D at 0x1a3f525c5e0>]\n",
    "Comment-\n",
    "At k= 4, we get the minimum RMSE value which approximately 5.050525962709231, and shoots up on further increasing the k value. We can safely say that k=4 will give us the best result in this case\n",
    "\n"
   ]
  },
  {
   "cell_type": "markdown",
   "id": "ad55e74a",
   "metadata": {},
   "source": [
    "### Applying other Regression Model, Evaluation & Crossvalidation"
   ]
  },
  {
   "cell_type": "code",
   "execution_count": null,
   "id": "3545711b",
   "metadata": {},
   "outputs": [],
   "source": [
    "rf = RandomForestRegressor(n_estimators = 250 ,max_depth=6)\n",
    "svr=SVR(C=1.0, epsilon=0.2, kernel='poly', gamma='auto')\n",
    "dtc = DecisionTreeRegressor(criterion='mse')\n",
    "adb=AdaBoostRegressor(learning_rate=0.1)\n",
    "gradb=GradientBoostingRegressor( max_depth=6,learning_rate=0.1)\n",
    "knn=KNeighborsRegressor(n_neighbors=4,algorithm='kd_tree')\n",
    "ls= Lasso(alpha=1e-2, normalize=True, max_iter=1e5)\n",
    "rd=Ridge(alpha=1e-2, normalize=True)\n",
    "xgb=XGBRegressor()\n",
    "model = [rf,ls,rd,svr,dtc,adb,gradb,knn,xgb]\n",
    "\n",
    "for m in model:\n",
    "    m.fit(X_train,Y_train)\n",
    "    m.score(X_train,Y_train)\n",
    "    y_pred = m.predict(X_test)\n",
    "    print('\\n')                                        \n",
    "    print('\\033[1m'+' Error of ', m, ':' +'\\033[0m')\n",
    "    print('Mean absolute error :', mean_absolute_error(Y_test,y_pred))\n",
    "    print('Mean squared error :', mean_squared_error(Y_test,y_pred))\n",
    "    print('Root Mean Squared Error:', np.sqrt(mean_squared_error(Y_test,y_pred)))\n",
    "    print('\\n')\n",
    "\n",
    "    print('\\033[1m'+' R2 Score :'+'\\033[0m')\n",
    "    print(r2_score(Y_test,y_pred)) \n",
    "    \n",
    "    # Cross Validation\n",
    "    score = cross_val_score(m, principle_x, Y, cv =4)\n",
    "    print('\\n')\n",
    "    print('\\033[1m'+'Cross Validation Score :',m,\":\"+'\\033[0m\\n')\n",
    "    print(\"Mean CV Score :\",score.mean())\n",
    "    print('==============================================================================================================')"
   ]
  },
  {
   "cell_type": "code",
   "execution_count": null,
   "id": "e576d45e",
   "metadata": {},
   "outputs": [],
   "source": [
    "Error of  RandomForestRegressor(max_depth=6, n_estimators=250) :\n",
    "Mean absolute error : 4.732300000000002\n",
    "Mean squared error : 37.424012617777805\n",
    "Root Mean Squared Error: 6.117516866979429\n",
    "\n",
    "\n",
    " R2 Score :\n",
    "0.6413929020006319\n",
    "\n",
    "\n",
    "Cross Validation Score : RandomForestRegressor(max_depth=6, n_estimators=250) :\n",
    "\n",
    "Mean CV Score : 0.25631013522941115\n",
    "==============================================================================================================\n",
    "\n",
    "\n",
    " Error of  Lasso(alpha=0.01, max_iter=100000.0, normalize=True) :\n",
    "Mean absolute error : 2.5162689682579664\n",
    "Mean squared error : 8.44861521848299\n",
    "Root Mean Squared Error: 2.9066501713283266\n",
    "\n",
    "\n",
    " R2 Score :\n",
    "0.9190430642337308\n",
    "\n",
    "\n",
    "Cross Validation Score : Lasso(alpha=0.01, max_iter=100000.0, normalize=True) :\n",
    "\n",
    "Mean CV Score : 0.6710873546839929\n",
    "==============================================================================================================\n",
    "\n",
    "\n",
    " Error of  Ridge(alpha=0.01, normalize=True) :\n",
    "Mean absolute error : 2.57123505518942\n",
    "Mean squared error : 8.554305404400719\n",
    "Root Mean Squared Error: 2.924774419404122\n",
    "\n",
    "\n",
    " R2 Score :\n",
    "0.9180303120404782\n",
    "\n",
    "\n",
    "Cross Validation Score : Ridge(alpha=0.01, normalize=True) :\n",
    "\n",
    "Mean CV Score : 0.6706084407569662\n",
    "==============================================================================================================\n",
    "\n",
    "\n",
    " Error of  SVR(epsilon=0.2, gamma='auto', kernel='poly') :\n",
    "Mean absolute error : 3.818655360573942\n",
    "Mean squared error : 24.638694460239467\n",
    "Root Mean Squared Error: 4.963737952414437\n",
    "\n",
    "\n",
    " R2 Score :\n",
    "0.7639053083612328\n",
    "\n",
    "\n",
    "Cross Validation Score : SVR(epsilon=0.2, gamma='auto', kernel='poly') :\n",
    "\n",
    "Mean CV Score : 0.4844810448311656\n",
    "==============================================================================================================\n",
    "\n",
    "\n",
    " Error of  DecisionTreeRegressor() :\n",
    "Mean absolute error : 6.5\n",
    "Mean squared error : 65.5\n",
    "Root Mean Squared Error: 8.093207028119323\n",
    "\n",
    "\n",
    " R2 Score :\n",
    "0.372361131905974\n",
    "\n",
    "\n",
    "Cross Validation Score : DecisionTreeRegressor() :\n",
    "\n",
    "Mean CV Score : -0.024617930763145918\n",
    "==============================================================================================================\n",
    "\n",
    "\n",
    " Error of  AdaBoostRegressor(learning_rate=0.1) :\n",
    "Mean absolute error : 4.5912878787878775\n",
    "Mean squared error : 35.57373852157941\n",
    "Root Mean Squared Error: 5.964372433171776\n",
    "\n",
    "\n",
    " R2 Score :\n",
    "0.659122733136535\n",
    "\n",
    "\n",
    "Cross Validation Score : AdaBoostRegressor(learning_rate=0.1) :\n",
    "\n",
    "Mean CV Score : 0.19509760357017977\n",
    "==============================================================================================================\n",
    "\n",
    "\n",
    " Error of  GradientBoostingRegressor(max_depth=6) :\n",
    "Mean absolute error : 4.876689368662083\n",
    "Mean squared error : 29.07901640157286\n",
    "Root Mean Squared Error: 5.392496305197887\n",
    "\n",
    "\n",
    " R2 Score :\n",
    "0.7213569322202931\n",
    "\n",
    "\n",
    "Cross Validation Score : GradientBoostingRegressor(max_depth=6) :\n",
    "\n",
    "Mean CV Score : -0.14855043689363184\n",
    "==============================================================================================================\n",
    "\n",
    "\n",
    " Error of  KNeighborsRegressor(algorithm='kd_tree', n_neighbors=4) :\n",
    "Mean absolute error : 4.53125\n",
    "Mean squared error : 25.5078125\n",
    "Root Mean Squared Error: 5.050525962709231\n",
    "\n",
    "\n",
    " R2 Score :\n",
    "0.7555771822129062\n",
    "\n",
    "\n",
    "Cross Validation Score : KNeighborsRegressor(algorithm='kd_tree', n_neighbors=4) :\n",
    "\n",
    "Mean CV Score : 0.33019621736740373\n",
    "==============================================================================================================\n",
    "\n",
    "\n",
    " Error of  XGBRegressor(base_score=0.5, booster='gbtree', colsample_bylevel=1,\n",
    "             colsample_bynode=1, colsample_bytree=1, enable_categorical=False,\n",
    "             gamma=0, gpu_id=-1, importance_type=None,\n",
    "             interaction_constraints='', learning_rate=0.300000012,\n",
    "             max_delta_step=0, max_depth=6, min_child_weight=1, missing=nan,\n",
    "             monotone_constraints='()', n_estimators=100, n_jobs=4,\n",
    "             num_parallel_tree=1, predictor='auto', random_state=0, reg_alpha=0,\n",
    "             reg_lambda=1, scale_pos_weight=1, subsample=1, tree_method='exact',\n",
    "             validate_parameters=1, verbosity=None) :\n",
    "Mean absolute error : 3.31955623626709\n",
    "Mean squared error : 29.192663846064534\n",
    "Root Mean Squared Error: 5.40302358370427\n",
    "\n",
    "\n",
    " R2 Score :\n",
    "0.7202679314046818\n",
    "\n",
    "\n",
    "Cross Validation Score : XGBRegressor(base_score=0.5, booster='gbtree', colsample_bylevel=1,\n",
    "             colsample_bynode=1, colsample_bytree=1, enable_categorical=False,\n",
    "             gamma=0, gpu_id=-1, importance_type=None,\n",
    "             interaction_constraints='', learning_rate=0.300000012,\n",
    "             max_delta_step=0, max_depth=6, min_child_weight=1, missing=nan,\n",
    "             monotone_constraints='()', n_estimators=100, n_jobs=4,\n",
    "             num_parallel_tree=1, predictor='auto', random_state=0, reg_alpha=0,\n",
    "             reg_lambda=1, scale_pos_weight=1, subsample=1, tree_method='exact',\n",
    "             validate_parameters=1, verbosity=None) :\n",
    "\n",
    "Mean CV Score : 0.3892851095755226\n",
    "=============================================================================================================="
   ]
  },
  {
   "cell_type": "markdown",
   "id": "e11f0b2b",
   "metadata": {},
   "source": [
    "### we can see that Lasso Regression gives maximum R2 score of 91.90%. So we will apply Hyperparameter tuning on Lasso Regression"
   ]
  },
  {
   "cell_type": "code",
   "execution_count": null,
   "id": "3e5ca82e",
   "metadata": {},
   "outputs": [],
   "source": [
    "model = [rf,ls,rd,svr,dtc,adb,gradb,knn,xgb]\n",
    "\n",
    "for m in model:\n",
    "    plt.figure(figsize=(7,5))\n",
    "    m.fit(X_train,Y_train)\n",
    "    y_pred=m.predict(X_test)\n",
    "    print('\\n')\n",
    "    print('\\033[1m'+' True Values Vs Predicted Value plot', m, ':' +'\\033[0m')\n",
    "    sns.scatterplot(Y_test.round(2), y_pred)\n",
    "    plt.xlabel('True Values' , fontsize=15)\n",
    "    plt.ylabel('Predictions', fontsize=15)\n",
    "    plt.tight_layout()\n",
    "    plt.show()\n",
    "    print('\\n')\n",
    "    print('===================================================================================================')"
   ]
  },
  {
   "cell_type": "markdown",
   "id": "b9dca666",
   "metadata": {},
   "source": [
    "### Hyper Parameter Tuning : GridSearchCV"
   ]
  },
  {
   "cell_type": "code",
   "execution_count": null,
   "id": "7e1859db",
   "metadata": {},
   "outputs": [],
   "source": [
    "from sklearn.model_selection import GridSearchCV"
   ]
  },
  {
   "cell_type": "code",
   "execution_count": null,
   "id": "d8f0a5de",
   "metadata": {},
   "outputs": [],
   "source": [
    "parameter = {'alpha':np.array([1,0.5,0.1,0.01,0.001,0.0001]),\n",
    "             'fit_intercept': [True,False],'normalize':[True,False],\n",
    "             'max_iter':[250,500,1000,1500],'random_state':np.arange(100),\n",
    "             'selection':[\"cyclic\",\"random\"]}"
   ]
  },
  {
   "cell_type": "code",
   "execution_count": null,
   "id": "e1c7a107",
   "metadata": {},
   "outputs": [],
   "source": [
    "GCV = GridSearchCV(Lasso(),parameter,cv=5,n_jobs = -1,verbose = 3)"
   ]
  },
  {
   "cell_type": "code",
   "execution_count": null,
   "id": "6f3ad5e4",
   "metadata": {},
   "outputs": [],
   "source": [
    "GCV.fit(X_train,Y_train)"
   ]
  },
  {
   "cell_type": "markdown",
   "id": "6e20c854",
   "metadata": {},
   "source": [
    "Fitting 5 folds for each of 19200 candidates, totalling 96000 fits\n",
    "[Parallel(n_jobs=-1)]: Using backend LokyBackend with 4 concurrent workers.\n",
    "[Parallel(n_jobs=-1)]: Done  56 tasks      | elapsed:    0.2s\n",
    "[Parallel(n_jobs=-1)]: Done 824 tasks      | elapsed:    3.7s\n",
    "[Parallel(n_jobs=-1)]: Done 2104 tasks      | elapsed:    9.5s\n",
    "[Parallel(n_jobs=-1)]: Done 3896 tasks      | elapsed:   16.4s\n",
    "[Parallel(n_jobs=-1)]: Done 6200 tasks      | elapsed:   30.2s\n",
    "[Parallel(n_jobs=-1)]: Done 9016 tasks      | elapsed:   44.3s\n",
    "[Parallel(n_jobs=-1)]: Done 12344 tasks      | elapsed:   58.5s\n",
    "[Parallel(n_jobs=-1)]: Done 16184 tasks      | elapsed:  1.2min\n",
    "[Parallel(n_jobs=-1)]: Done 20536 tasks      | elapsed:  1.5min\n",
    "[Parallel(n_jobs=-1)]: Done 25400 tasks      | elapsed:  1.8min\n",
    "[Parallel(n_jobs=-1)]: Done 30776 tasks      | elapsed:  2.2min\n",
    "[Parallel(n_jobs=-1)]: Done 36664 tasks      | elapsed:  2.6min\n",
    "[Parallel(n_jobs=-1)]: Done 43640 tasks      | elapsed:  3.1min\n",
    "[Parallel(n_jobs=-1)]: Done 57464 tasks      | elapsed:  3.9min\n",
    "[Parallel(n_jobs=-1)]: Done 72312 tasks      | elapsed:  4.9min\n",
    "[Parallel(n_jobs=-1)]: Done 88184 tasks      | elapsed:  5.9min\n",
    "[Parallel(n_jobs=-1)]: Done 96000 out of 96000 | elapsed:  6.3min finished"
   ]
  },
  {
   "cell_type": "markdown",
   "id": "e4685ece",
   "metadata": {},
   "source": [
    "GridSearchCV(cv=5, estimator=Lasso(), n_jobs=-1,\n",
    "             param_grid={'alpha': array([1.e+00, 5.e-01, 1.e-01, 1.e-02, 1.e-03, 1.e-04]),\n",
    "                         'fit_intercept': [True, False],\n",
    "                         'max_iter': [250, 500, 1000, 1500],\n",
    "                         'normalize': [True, False],\n",
    "                         'random_state': array([ 0,  1,  2,  3,  4,  5,  6,  7,  8,  9, 10, 11, 12, 13, 14, 15, 16,\n",
    "       17, 18, 19, 20, 21, 22, 23, 24, 25, 26, 27, 28, 29, 30, 31, 32, 33,\n",
    "       34, 35, 36, 37, 38, 39, 40, 41, 42, 43, 44, 45, 46, 47, 48, 49, 50,\n",
    "       51, 52, 53, 54, 55, 56, 57, 58, 59, 60, 61, 62, 63, 64, 65, 66, 67,\n",
    "       68, 69, 70, 71, 72, 73, 74, 75, 76, 77, 78, 79, 80, 81, 82, 83, 84,\n",
    "       85, 86, 87, 88, 89, 90, 91, 92, 93, 94, 95, 96, 97, 98, 99]),\n",
    "                         'selection': ['cyclic', 'random']},\n",
    "             verbose=3)"
   ]
  },
  {
   "cell_type": "code",
   "execution_count": null,
   "id": "8084d870",
   "metadata": {},
   "outputs": [],
   "source": [
    "GCV.best_params_"
   ]
  },
  {
   "cell_type": "markdown",
   "id": "aa148fbf",
   "metadata": {},
   "source": [
    "{'alpha': 0.5,\n",
    " 'fit_intercept': True,\n",
    " 'max_iter': 250,\n",
    " 'normalize': True,\n",
    " 'random_state': 32,\n",
    " 'selection': 'random'}"
   ]
  },
  {
   "cell_type": "markdown",
   "id": "2445ae38",
   "metadata": {},
   "source": [
    "## Final Model"
   ]
  },
  {
   "cell_type": "code",
   "execution_count": null,
   "id": "a6ced3ea",
   "metadata": {},
   "outputs": [],
   "source": [
    "Final_mod = Lasso(alpha = 0.5, fit_intercept= True, normalize = False,\n",
    "                                           max_iter = 250, random_state = 32,selection ='random')\n",
    "Final_mod.fit(X_train,Y_train)\n",
    "y_pred=Final_mod.predict(X_test)\n",
    "print('\\n')                                        \n",
    "print('\\033[1m'+' Error in Final Model :' +'\\033[0m')\n",
    "print('Mean absolute error :', mean_absolute_error(Y_test,y_pred))\n",
    "print('Mean squared error :', mean_squared_error(Y_test,y_pred))\n",
    "print('Root Mean Squared Error:', np.sqrt(mean_squared_error(Y_test,y_pred)))\n",
    "print('\\n')\n",
    "print('\\033[1m'+' R2 Score of Final Model :'+'\\033[0m')\n",
    "print(r2_score(Y_test,y_pred)) \n",
    "print('\\n')\n"
   ]
  },
  {
   "cell_type": "markdown",
   "id": "8589cc49",
   "metadata": {},
   "source": [
    "Error in Final Model :\n",
    "Mean absolute error : 2.688805523945412\n",
    "Mean squared error : 9.617386970550847\n",
    "Root Mean Squared Error: 3.101191217992023\n",
    "\n",
    "\n",
    " R2 Score of Final Model :\n",
    "0.9078435744699425\n",
    "\n"
   ]
  },
  {
   "cell_type": "code",
   "execution_count": null,
   "id": "f320bebd",
   "metadata": {},
   "outputs": [],
   "source": [
    "plt.figure(figsize=(6,5))\n",
    "y_pred=Final_mod.predict(X_test)\n",
    "sns.swarmplot(Y_test.round(2), y_pred)\n",
    "print('\\033[1m'+' True Values Vs Predicted Value plot :' +'\\033[0m')\n",
    "plt.xlabel('True Values' , fontsize=15)\n",
    "plt.ylabel('Predictions', fontsize=15)\n",
    "plt.tight_layout()"
   ]
  },
  {
   "cell_type": "markdown",
   "id": "1e888e92",
   "metadata": {},
   "source": [
    "### Saving model"
   ]
  },
  {
   "cell_type": "code",
   "execution_count": null,
   "id": "d918d054",
   "metadata": {},
   "outputs": [],
   "source": [
    "import joblib\n",
    "joblib.dump(Final_mod,'Baseballn_Final.pkl')"
   ]
  },
  {
   "cell_type": "markdown",
   "id": "8955f220",
   "metadata": {},
   "source": [
    "['Baseballn_Final.pkl']"
   ]
  }
 ],
 "metadata": {
  "kernelspec": {
   "display_name": "Python 3 (ipykernel)",
   "language": "python",
   "name": "python3"
  },
  "language_info": {
   "codemirror_mode": {
    "name": "ipython",
    "version": 3
   },
   "file_extension": ".py",
   "mimetype": "text/x-python",
   "name": "python",
   "nbconvert_exporter": "python",
   "pygments_lexer": "ipython3",
   "version": "3.9.12"
  }
 },
 "nbformat": 4,
 "nbformat_minor": 5
}
