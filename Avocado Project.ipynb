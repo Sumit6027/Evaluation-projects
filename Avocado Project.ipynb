{
 "cells": [
  {
   "cell_type": "markdown",
   "id": "af9ebabb",
   "metadata": {},
   "source": [
    "# Avocado Project"
   ]
  },
  {
   "cell_type": "code",
   "execution_count": null,
   "id": "477c6568",
   "metadata": {},
   "outputs": [],
   "source": [
    "Problem Statement:\n",
    "Avocado is a fruit consumed by people heavily in the United States.\n",
    "\n",
    "Content :\n",
    "\n",
    "This data was downloaded from the Hass Avocado Board website in May of 2018 & compiled into a single CSV.\n",
    "\n",
    "The table below represents weekly 2018 retail scan data for National retail volume (units) and price. Retail scan data comes directly from retailers’ cash registers based on actual retail sales of Hass avocados.\n",
    "\n",
    "Starting in 2013, the table below reflects an expanded, multi-outlet retail data set. Multi-outlet reporting includes an aggregation of the following channels: grocery, mass, club, drug, dollar and military. The Average Price (of avocados) in the table reflects a per unit (per avocado) cost, even when multiple units (avocados) are sold in bags. The Product Lookup codes (PLU’s) in the table are only for Hass avocados. Other varieties of avocados (e.g. greenskins) are not included in this table.\n",
    "\n",
    "Some relevant columns in the dataset:\n",
    "\n",
    "Date - The date of the observation\n",
    "AveragePrice - the average price of a single avocado\n",
    "type - conventional or organic\n",
    "year - the year\n",
    "Region - the city or region of the observation\n",
    "Total Volume - Total number of avocados sold\n",
    "4046 - Total number of avocados with PLU 4046 sold\n",
    "4225 - Total number of avocados with PLU 4225 sold\n",
    "4770 - Total number of avocados with PLU 4770 sold\n",
    "Inspiration /Label\n",
    "\n",
    "The dataset can be seen in two angles to find the region and find the average price .\n",
    "\n",
    "Task: One of Classification and other of Regression\n",
    "\n",
    "Do both tasks in the same .ipynb file and submit at single file."
   ]
  },
  {
   "cell_type": "markdown",
   "id": "216cbcbc",
   "metadata": {},
   "source": [
    "### Importing require library for performing EDA, Data Wrangling and data cleaning"
   ]
  },
  {
   "cell_type": "code",
   "execution_count": null,
   "id": "113b5ed7",
   "metadata": {},
   "outputs": [],
   "source": [
    "import pandas as pd # for data wrangling purpose\n",
    "import numpy as np # Basic computation library\n",
    "import seaborn as sns # For Visualization \n",
    "import matplotlib.pyplot as plt # ploting package\n",
    "%matplotlib inline\n",
    "import warnings # Filtering warnings\n",
    "warnings.filterwarnings('ignore')"
   ]
  },
  {
   "cell_type": "code",
   "execution_count": 1,
   "id": "2ff96f39",
   "metadata": {},
   "outputs": [],
   "source": [
    "#  Importing Avocado Csv file using pandas"
   ]
  },
  {
   "cell_type": "code",
   "execution_count": null,
   "id": "33daac60",
   "metadata": {},
   "outputs": [],
   "source": [
    "df=pd.read_csv('avocado.csv')"
   ]
  },
  {
   "cell_type": "code",
   "execution_count": null,
   "id": "7bee3ec6",
   "metadata": {},
   "outputs": [],
   "source": [
    "print('No of Rows:',df.shape[0])\n",
    "print('No of Columns:',df.shape[1])\n",
    "df.head()"
   ]
  },
  {
   "cell_type": "markdown",
   "id": "2fe44a48",
   "metadata": {},
   "source": [
    "No of Rows: 18249\n",
    "No of Columns: 14"
   ]
  },
  {
   "cell_type": "markdown",
   "id": "36c2dfa6",
   "metadata": {},
   "source": [
    "Unnamed: 0\tDate\tAveragePrice\tTotal Volume\t4046\t4225\t4770\tTotal Bags\tSmall Bags\tLarge Bags\tXLarge Bags\ttype\tyear\tregion\n",
    "0\t0\t2015-12-27\t1.33\t64236.62\t1036.74\t54454.85\t48.16\t8696.87\t8603.62\t93.25\t0.0\tconventional\t2015\tAlbany\n",
    "1\t1\t2015-12-20\t1.35\t54876.98\t674.28\t44638.81\t58.33\t9505.56\t9408.07\t97.49\t0.0\tconventional\t2015\tAlbany\n",
    "2\t2\t2015-12-13\t0.93\t118220.22\t794.70\t109149.67\t130.50\t8145.35\t8042.21\t103.14\t0.0\tconventional\t2015\tAlbany\n",
    "3\t3\t2015-12-06\t1.08\t78992.15\t1132.00\t71976.41\t72.58\t5811.16\t5677.40\t133.76\t0.0\tconventional\t2015\tAlbany\n",
    "4\t4\t2015-11-29\t1.28\t51039.60\t941.48\t43838.39\t75.78\t6183.95\t5986.26\t197.69\t0.0\tconventional\t2015\tAlbany"
   ]
  },
  {
   "cell_type": "code",
   "execution_count": null,
   "id": "6c45ed75",
   "metadata": {},
   "outputs": [],
   "source": [
    "df.columns"
   ]
  },
  {
   "cell_type": "markdown",
   "id": "1123179e",
   "metadata": {},
   "source": [
    "Index(['Unnamed: 0', 'Date', 'AveragePrice', 'Total Volume', '4046', '4225',\n",
    "       '4770', 'Total Bags', 'Small Bags', 'Large Bags', 'XLarge Bags', 'type',\n",
    "       'year', 'region'],\n",
    "      dtype='object')"
   ]
  },
  {
   "cell_type": "code",
   "execution_count": null,
   "id": "b026d02f",
   "metadata": {},
   "outputs": [],
   "source": [
    "df.drop(['Unnamed: 0'], axis=1, inplace=True)"
   ]
  },
  {
   "cell_type": "code",
   "execution_count": null,
   "id": "ff7d50f9",
   "metadata": {},
   "outputs": [],
   "source": [
    "df.head()"
   ]
  },
  {
   "cell_type": "markdown",
   "id": "d997899b",
   "metadata": {},
   "source": [
    "Date\tAveragePrice\tTotal Volume\t4046\t4225\t4770\tTotal Bags\tSmall Bags\tLarge Bags\tXLarge Bags\ttype\tyear\tregion\n",
    "0\t2015-12-27\t1.33\t64236.62\t1036.74\t54454.85\t48.16\t8696.87\t8603.62\t93.25\t0.0\tconventional\t2015\tAlbany\n",
    "1\t2015-12-20\t1.35\t54876.98\t674.28\t44638.81\t58.33\t9505.56\t9408.07\t97.49\t0.0\tconventional\t2015\tAlbany\n",
    "2\t2015-12-13\t0.93\t118220.22\t794.70\t109149.67\t130.50\t8145.35\t8042.21\t103.14\t0.0\tconventional\t2015\tAlbany\n",
    "3\t2015-12-06\t1.08\t78992.15\t1132.00\t71976.41\t72.58\t5811.16\t5677.40\t133.76\t0.0\tconventional\t2015\tAlbany\n",
    "4\t2015-11-29\t1.28\t51039.60\t941.48\t43838.39\t75.78\t6183.95\t5986.26\t197.69\t0.0\tconventional\t2015\tAlbany"
   ]
  },
  {
   "cell_type": "markdown",
   "id": "a04c968c",
   "metadata": {},
   "source": [
    "### Statistical Analysis"
   ]
  },
  {
   "cell_type": "code",
   "execution_count": null,
   "id": "6deea1f1",
   "metadata": {},
   "outputs": [],
   "source": [
    "Before Going for Statistical exploration of data, first check integrity of data & Missing value"
   ]
  },
  {
   "cell_type": "markdown",
   "id": "c538f5d0",
   "metadata": {},
   "source": [
    "### Data Integrity Check"
   ]
  },
  {
   "cell_type": "markdown",
   "id": "665542dc",
   "metadata": {},
   "source": [
    "### Since dataset is large, Let check for any entry which is repeated or duplicated in dataset at same date. "
   ]
  },
  {
   "cell_type": "code",
   "execution_count": null,
   "id": "d5e00b8b",
   "metadata": {},
   "outputs": [],
   "source": [
    "df.duplicated().sum()  # This will check the duplicate data for all columns."
   ]
  },
  {
   "cell_type": "markdown",
   "id": "849cfe88",
   "metadata": {},
   "source": [
    "0\n",
    "Comment:\n",
    "Dataset doesnot contain Any duplicate entry. So Yes To Go !!!"
   ]
  },
  {
   "cell_type": "markdown",
   "id": "55e6bec3",
   "metadata": {},
   "source": [
    "### Missing value check"
   ]
  },
  {
   "cell_type": "code",
   "execution_count": null,
   "id": "04539bc5",
   "metadata": {},
   "outputs": [],
   "source": [
    "plt.figure(figsize=(10,6))\n",
    "sns.heatmap(df.isnull())"
   ]
  },
  {
   "cell_type": "code",
   "execution_count": null,
   "id": "ed4d22d9",
   "metadata": {},
   "outputs": [],
   "source": [
    "missing_values = df.isnull().sum().sort_values(ascending = False)\n",
    "percentage_missing_values =(missing_values/len(df))*100\n",
    "print(pd.concat([missing_values, percentage_missing_values], axis =1, keys =['Missing Values', '% Missing data']))"
   ]
  },
  {
   "cell_type": "code",
   "execution_count": null,
   "id": "ee398095",
   "metadata": {},
   "outputs": [],
   "source": [
    "  Missing Values  % Missing data\n",
    "region                     0             0.0\n",
    "year                       0             0.0\n",
    "type                       0             0.0\n",
    "XLarge Bags                0             0.0\n",
    "Large Bags                 0             0.0\n",
    "Small Bags                 0             0.0\n",
    "Total Bags                 0             0.0\n",
    "4770                       0             0.0\n",
    "4225                       0             0.0\n",
    "4046                       0             0.0\n",
    "Total Volume               0             0.0\n",
    "AveragePrice               0             0.0\n",
    "Date                       0             0.0\n",
    "Comment:\n",
    "There is no missing values in dataset."
   ]
  },
  {
   "cell_type": "markdown",
   "id": "d98d3d87",
   "metadata": {},
   "source": [
    "### Datatype Check"
   ]
  },
  {
   "cell_type": "code",
   "execution_count": null,
   "id": "b9020aec",
   "metadata": {},
   "outputs": [],
   "source": [
    "df.info()"
   ]
  },
  {
   "cell_type": "code",
   "execution_count": null,
   "id": "6efd335e",
   "metadata": {},
   "outputs": [],
   "source": [
    "<class 'pandas.core.frame.DataFrame'>\n",
    "RangeIndex: 18249 entries, 0 to 18248\n",
    "Data columns (total 13 columns):\n",
    " #   Column        Non-Null Count  Dtype  \n",
    "---  ------        --------------  -----  \n",
    " 0   Date          18249 non-null  object \n",
    " 1   AveragePrice  18249 non-null  float64\n",
    " 2   Total Volume  18249 non-null  float64\n",
    " 3   4046          18249 non-null  float64\n",
    " 4   4225          18249 non-null  float64\n",
    " 5   4770          18249 non-null  float64\n",
    " 6   Total Bags    18249 non-null  float64\n",
    " 7   Small Bags    18249 non-null  float64\n",
    " 8   Large Bags    18249 non-null  float64\n",
    " 9   XLarge Bags   18249 non-null  float64\n",
    " 10  type          18249 non-null  object \n",
    " 11  year          18249 non-null  int64  \n",
    " 12  region        18249 non-null  object \n",
    "dtypes: float64(9), int64(1), object(3)\n",
    "memory usage: 1.8+ MB\n",
    "Comment :\n",
    "There are 13 features in data.\n",
    "Region has object datatype.\n",
    "Date by default data type is object which need to change to datetime datatype.\n",
    "Other variable are float & int datatypes."
   ]
  },
  {
   "cell_type": "code",
   "execution_count": null,
   "id": "8c8e22bd",
   "metadata": {},
   "outputs": [],
   "source": [
    "# Converting datatype of date column\n",
    "df['Date']=pd.to_datetime(df.Date)"
   ]
  },
  {
   "cell_type": "code",
   "execution_count": null,
   "id": "862ea39d",
   "metadata": {},
   "outputs": [],
   "source": [
    "df['Date'].dtype"
   ]
  },
  {
   "cell_type": "markdown",
   "id": "f85b6d24",
   "metadata": {},
   "source": [
    "dtype('<M8[ns]')"
   ]
  },
  {
   "cell_type": "markdown",
   "id": "599803e9",
   "metadata": {},
   "source": [
    "### Statistical Matrix"
   ]
  },
  {
   "cell_type": "code",
   "execution_count": null,
   "id": "1d6e117f",
   "metadata": {},
   "outputs": [],
   "source": [
    "# Visualizing the statistics of the columns using heatmap.\n",
    "plt.figure(figsize=(20,8))\n",
    "sns.heatmap(df.describe(),linewidths = 0.1,fmt='0.1f',annot = True,cmap='PiYG')"
   ]
  },
  {
   "cell_type": "markdown",
   "id": "6ad5f07d",
   "metadata": {},
   "source": [
    "<AxesSubplot:>"
   ]
  },
  {
   "cell_type": "code",
   "execution_count": null,
   "id": "12e2f49f",
   "metadata": {},
   "outputs": [],
   "source": [
    "df.describe().T.round(3)"
   ]
  },
  {
   "cell_type": "markdown",
   "id": "48061321",
   "metadata": {},
   "source": [
    "\tcount\tmean\tstd\tmin\t25%\t50%\t75%\tmax\n",
    "AveragePrice\t18249.0\t1.406\t0.403\t0.44\t1.10\t1.37\t1.66\t3.25\n",
    "Total Volume\t18249.0\t850644.013\t3453545.355\t84.56\t10838.58\t107376.76\t432962.29\t62505646.52\n",
    "4046\t18249.0\t293008.425\t1264989.082\t0.00\t854.07\t8645.30\t111020.20\t22743616.17\n",
    "4225\t18249.0\t295154.568\t1204120.401\t0.00\t3008.78\t29061.02\t150206.86\t20470572.61\n",
    "4770\t18249.0\t22839.736\t107464.068\t0.00\t0.00\t184.99\t6243.42\t2546439.11\n",
    "Total Bags\t18249.0\t239639.202\t986242.399\t0.00\t5088.64\t39743.83\t110783.37\t19373134.37\n",
    "Small Bags\t18249.0\t182194.687\t746178.515\t0.00\t2849.42\t26362.82\t83337.67\t13384586.80\n",
    "Large Bags\t18249.0\t54338.088\t243965.965\t0.00\t127.47\t2647.71\t22029.25\t5719096.61\n",
    "XLarge Bags\t18249.0\t3106.427\t17692.895\t0.00\t0.00\t0.00\t132.50\t551693.65\n",
    "year\t18249.0\t2016.148\t0.940\t2015.00\t2015.00\t2016.00\t2017.00\t2018.00\n",
    "Comment :\n",
    "We can easily suspect that some of the features contain outliers after looking at 50% and max columns.\n",
    "For most of columns have minimum value of zero.\n",
    "Almost in all columns value of mean is greater than median. Data is right skewed.\n",
    "For most of columns value of std. deviation is greater than mean i.e. data is spread."
   ]
  },
  {
   "cell_type": "markdown",
   "id": "28dc0273",
   "metadata": {},
   "source": [
    "### Lets do some Statistical Analysis. Start with find Average price of avocodo over the timeframe and according types"
   ]
  },
  {
   "cell_type": "code",
   "execution_count": null,
   "id": "38215b91",
   "metadata": {},
   "outputs": [],
   "source": [
    "print(\"\\033[1m\"+'Minimum Price of Avocado :'+\"\\033[0m\",df.AveragePrice.min(),'USD')\n",
    "print(\"\\033[1m\"+'Maximum Price of avacado :'+\"\\033[0m\",df.AveragePrice.max(),'USD')\n",
    "print(\"\\033[1m\"+'Average Price of avacado :'+\"\\033[0m\",df.AveragePrice.mean(),'USD')"
   ]
  },
  {
   "cell_type": "markdown",
   "id": "5266503b",
   "metadata": {},
   "source": [
    "Minimum Price of Avocado : 0.44 USD\n",
    "Maximum Price of avacado : 3.25 USD\n",
    "Average Price of avacado : 1.4059784097758825 USD\n",
    "Avacado varies from 0.44 USD To 3.25 USD with average price of 1.40 USD per unit"
   ]
  },
  {
   "cell_type": "code",
   "execution_count": null,
   "id": "7075f6fe",
   "metadata": {},
   "outputs": [],
   "source": [
    "plt.figure(figsize=(12,7))\n",
    "plt.title('Distribution Price')\n",
    "sns.distplot(df[\"AveragePrice\"], color='b')"
   ]
  },
  {
   "cell_type": "code",
   "execution_count": null,
   "id": "31076e0f",
   "metadata": {},
   "outputs": [],
   "source": [
    "df['type'].value_counts()0ppppp"
   ]
  },
  {
   "cell_type": "markdown",
   "id": "d0bf2d9c",
   "metadata": {},
   "source": [
    "conventional    9126\n",
    "organic         9123\n",
    "Name: type, dtype: int64"
   ]
  },
  {
   "cell_type": "code",
   "execution_count": null,
   "id": "25953d3c",
   "metadata": {},
   "outputs": [],
   "source": [
    "df.groupby('type')['AveragePrice'].mean()"
   ]
  },
  {
   "cell_type": "markdown",
   "id": "b0ce4e51",
   "metadata": {},
   "source": [
    "type\n",
    "conventional    1.158040\n",
    "organic         1.653999\n",
    "Name: AveragePrice, dtype: float64"
   ]
  },
  {
   "cell_type": "code",
   "execution_count": null,
   "id": "13954490",
   "metadata": {},
   "outputs": [],
   "source": [
    "print(\"\\033[1m\"+'Percentage difference in price of avacado :'+\"\\033[0m\",((1.65399-1.1580)/1.1580)*100,\"%\")"
   ]
  },
  {
   "cell_type": "markdown",
   "id": "48f5e4fd",
   "metadata": {},
   "source": [
    "Percentage difference in price of avacado : 42.831606217616596 %"
   ]
  },
  {
   "cell_type": "code",
   "execution_count": null,
   "id": "7920c1e6",
   "metadata": {},
   "outputs": [],
   "source": [
    "plt.figure(figsize=(8,6))\n",
    "sns.boxplot(y=\"type\", x=\"AveragePrice\", data=df, palette = 'hsv')"
   ]
  },
  {
   "cell_type": "markdown",
   "id": "0b1c53cd",
   "metadata": {},
   "source": [
    "<AxesSubplot:xlabel='AveragePrice', ylabel='type'>\n",
    "\n",
    "Comment :\n",
    "Oraganic Avocado is almost 43% more costlier than conventional Avacado.\n",
    "We can see that Average Price of Organic Avocado is higher than Conventional Avocado.\n",
    "This obvious as cultivation of organic avocado is expensive, time taking process demanding much effort & patience.Also health cautious and quality oriented people are willing to pay more price for it.\n",
    "Before going deeper with Average price to gain more insight as it has lot more to explore, just let do quick check over volumetric sell of Avacado. Normal tendency of most people is they dont want to pay more price so most probably if such scenerio exist then it will be reflected in total sales.\n",
    "\n"
   ]
  },
  {
   "cell_type": "code",
   "execution_count": null,
   "id": "6c316958",
   "metadata": {},
   "outputs": [],
   "source": [
    "labels = 'Conventional','Organic',\n",
    "fig, ax = plt.subplots()\n",
    "ax.pie(df.groupby('type')['Total Volume'].mean(),labels = labels,radius =2,autopct = '%2.2f%%',explode=[0.3,0.2], shadow=True,)\n",
    "plt.show()"
   ]
  },
  {
   "cell_type": "code",
   "execution_count": null,
   "id": "c1478882",
   "metadata": {},
   "outputs": [],
   "source": [
    "df.groupby('type')['Total Volume'].mean()"
   ]
  },
  {
   "cell_type": "markdown",
   "id": "e5837522",
   "metadata": {},
   "source": [
    "type\n",
    "conventional    1.653213e+06\n",
    "organic         4.781121e+04\n",
    "Name: Total Volume, dtype: float64"
   ]
  },
  {
   "cell_type": "code",
   "execution_count": null,
   "id": "d09aa86e",
   "metadata": {},
   "outputs": [],
   "source": [
    "plt.figure(figsize=(10,6))\n",
    "sns.barplot(x='year', y='Total Volume', hue='type',data=df, palette='coolwarm',ci=68)\n",
    "plt.show()"
   ]
  },
  {
   "cell_type": "markdown",
   "id": "21226d47",
   "metadata": {},
   "source": [
    "Comment -\n",
    "The sell of organic avacodo is less than 3 %.\n",
    "Conventional Avacado are in more demand.\n",
    "Barplot confirm same thing in yearwise sales volume.\n",
    "The Average price varies over year and season , lets dive to get some more insight over it."
   ]
  },
  {
   "cell_type": "code",
   "execution_count": null,
   "id": "555ad231",
   "metadata": {},
   "outputs": [],
   "source": [
    "pd.crosstab([df.type,df.year],df.AveragePrice, margins= True).style.background_gradient(cmap='summer_r')"
   ]
  },
  {
   "cell_type": "markdown",
   "id": "78bd193c",
   "metadata": {},
   "source": [
    "AveragePrice\t0.44\t0.46\t0.48\t0.49\t0.51\t0.52\t0.53\t0.54\t0.55\t0.56\t0.57\t0.58\t0.59\t0.6\t0.61\t0.62\t0.63\t0.64\t0.65\t0.66\t0.67\t0.68\t0.69\t0.7\t0.71\t0.72\t0.73\t0.74\t0.75\t0.76\t0.77\t0.78\t0.79\t0.8\t0.81\t0.82\t0.83\t0.84\t0.85\t0.86\t0.87\t0.88\t0.89\t0.9\t0.91\t0.92\t0.93\t0.94\t0.95\t0.96\t0.97\t0.98\t0.99\t1.0\t1.01\t1.02\t1.03\t1.04\t1.05\t1.06\t1.07\t1.08\t1.09\t1.1\t1.11\t1.12\t1.13\t1.14\t1.15\t1.16\t1.17\t1.18\t1.19\t1.2\t1.21\t1.22\t1.23\t1.24\t1.25\t1.26\t1.27\t1.28\t1.29\t1.3\t1.31\t1.32\t1.33\t1.34\t1.35\t1.36\t1.37\t1.38\t1.39\t1.4\t1.41\t1.42\t1.43\t1.44\t1.45\t1.46\t1.47\t1.48\t1.49\t1.5\t1.51\t1.52\t1.53\t1.54\t1.55\t1.56\t1.57\t1.58\t1.59\t1.6\t1.61\t1.62\t1.63\t1.64\t1.65\t1.66\t1.67\t1.68\t1.69\t1.7\t1.71\t1.72\t1.73\t1.74\t1.75\t1.76\t1.77\t1.78\t1.79\t1.8\t1.81\t1.82\t1.83\t1.84\t1.85\t1.86\t1.87\t1.88\t1.89\t1.9\t1.91\t1.92\t1.93\t1.94\t1.95\t1.96\t1.97\t1.98\t1.99\t2.0\t2.01\t2.02\t2.03\t2.04\t2.05\t2.06\t2.07\t2.08\t2.09\t2.1\t2.11\t2.12\t2.13\t2.14\t2.15\t2.16\t2.17\t2.18\t2.19\t2.2\t2.21\t2.22\t2.23\t2.24\t2.25\t2.26\t2.27\t2.28\t2.29\t2.3\t2.31\t2.32\t2.33\t2.34\t2.35\t2.36\t2.37\t2.38\t2.39\t2.4\t2.41\t2.42\t2.43\t2.44\t2.45\t2.46\t2.47\t2.48\t2.49\t2.5\t2.51\t2.52\t2.53\t2.54\t2.55\t2.56\t2.57\t2.58\t2.59\t2.6\t2.61\t2.62\t2.63\t2.64\t2.65\t2.66\t2.67\t2.68\t2.69\t2.7\t2.71\t2.72\t2.73\t2.74\t2.75\t2.76\t2.77\t2.78\t2.79\t2.8\t2.81\t2.82\t2.83\t2.84\t2.85\t2.86\t2.87\t2.88\t2.89\t2.9\t2.91\t2.92\t2.93\t2.94\t2.95\t2.96\t2.97\t2.99\t3.0\t3.03\t3.04\t3.05\t3.12\t3.17\t3.25\tAll\n",
    "type\tyear\t\t\t\t\t\t\t\t\t\t\t\t\t\t\t\t\t\t\t\t\t\t\t\t\t\t\t\t\t\t\t\t\t\t\t\t\t\t\t\t\t\t\t\t\t\t\t\t\t\t\t\t\t\t\t\t\t\t\t\t\t\t\t\t\t\t\t\t\t\t\t\t\t\t\t\t\t\t\t\t\t\t\t\t\t\t\t\t\t\t\t\t\t\t\t\t\t\t\t\t\t\t\t\t\t\t\t\t\t\t\t\t\t\t\t\t\t\t\t\t\t\t\t\t\t\t\t\t\t\t\t\t\t\t\t\t\t\t\t\t\t\t\t\t\t\t\t\t\t\t\t\t\t\t\t\t\t\t\t\t\t\t\t\t\t\t\t\t\t\t\t\t\t\t\t\t\t\t\t\t\t\t\t\t\t\t\t\t\t\t\t\t\t\t\t\t\t\t\t\t\t\t\t\t\t\t\t\t\t\t\t\t\t\t\t\t\t\t\t\t\t\t\t\t\t\t\t\t\t\t\t\t\t\t\t\t\t\t\t\t\t\t\t\t\t\t\t\t\t\t\t\t\t\t\t\t\t\t\t\t\n",
    "conventional\t2015\t0\t0\t0\t1\t1\t1\t3\t1\t0\t4\t2\t2\t0\t4\t2\t2\t1\t1\t3\t4\t6\t3\t1\t7\t13\t8\t8\t18\t13\t13\t15\t18\t21\t22\t15\t20\t25\t10\t18\t8\t14\t19\t26\t20\t26\t28\t42\t35\t42\t54\t68\t80\t80\t67\t65\t70\t78\t65\t69\t68\t65\t73\t74\t65\t70\t59\t67\t60\t65\t63\t62\t59\t64\t48\t46\t47\t45\t52\t47\t43\t29\t25\t18\t17\t8\t21\t26\t14\t15\t25\t10\t13\t10\t14\t5\t5\t13\t12\t5\t2\t5\t2\t2\t4\t1\t4\t3\t5\t1\t4\t1\t2\t3\t0\t0\t0\t0\t0\t0\t0\t0\t0\t0\t0\t0\t0\t0\t0\t0\t0\t0\t0\t0\t0\t0\t0\t0\t0\t0\t0\t0\t0\t0\t0\t0\t0\t0\t0\t0\t0\t0\t0\t0\t0\t0\t0\t0\t0\t0\t0\t0\t0\t0\t0\t0\t0\t0\t0\t0\t0\t0\t0\t0\t0\t0\t0\t0\t0\t0\t0\t0\t0\t0\t0\t0\t0\t0\t0\t0\t0\t0\t0\t0\t0\t0\t0\t0\t0\t0\t0\t0\t0\t0\t0\t0\t0\t0\t0\t0\t0\t0\t0\t0\t0\t0\t0\t0\t0\t0\t0\t0\t0\t0\t0\t0\t0\t0\t0\t0\t0\t0\t0\t0\t0\t0\t0\t0\t0\t0\t0\t0\t0\t0\t0\t0\t0\t0\t0\t0\t0\t0\t0\t0\t0\t0\t0\t0\t0\t0\t2808\n",
    "2016\t0\t0\t0\t0\t1\t0\t0\t3\t2\t4\t2\t7\t2\t3\t6\t5\t7\t7\t7\t1\t7\t7\t13\t17\t11\t14\t16\t17\t16\t27\t26\t22\t29\t22\t24\t28\t33\t22\t29\t36\t35\t40\t38\t39\t36\t40\t52\t53\t47\t45\t48\t49\t38\t45\t38\t28\t45\t48\t51\t43\t51\t52\t46\t44\t42\t44\t44\t37\t52\t29\t45\t47\t26\t32\t28\t33\t31\t27\t24\t39\t33\t25\t27\t23\t26\t16\t20\t23\t21\t22\t27\t20\t19\t31\t20\t15\t19\t14\t14\t16\t21\t17\t22\t12\t10\t19\t12\t14\t4\t7\t10\t7\t11\t13\t5\t9\t7\t5\t4\t3\t6\t6\t2\t3\t2\t5\t1\t1\t1\t1\t0\t2\t1\t3\t1\t5\t3\t1\t1\t2\t1\t0\t3\t1\t0\t0\t1\t1\t1\t0\t0\t0\t2\t0\t0\t0\t0\t0\t0\t0\t3\t0\t0\t0\t0\t0\t0\t0\t0\t0\t0\t0\t0\t1\t0\t0\t0\t0\t0\t0\t0\t0\t0\t0\t0\t0\t0\t0\t0\t0\t0\t0\t0\t0\t0\t0\t0\t0\t0\t0\t0\t0\t0\t0\t0\t0\t0\t0\t0\t0\t0\t0\t0\t0\t0\t0\t0\t0\t0\t0\t0\t0\t0\t0\t0\t0\t0\t0\t0\t0\t0\t0\t0\t0\t0\t0\t0\t0\t0\t0\t0\t0\t0\t0\t0\t0\t0\t0\t0\t0\t0\t0\t0\t0\t0\t0\t0\t0\t0\t2808\n",
    "2017\t0\t1\t0\t0\t1\t1\t3\t3\t1\t0\t2\t2\t0\t5\t1\t2\t2\t4\t10\t2\t6\t9\t3\t14\t1\t4\t9\t9\t12\t16\t14\t8\t11\t7\t12\t7\t15\t21\t20\t15\t15\t12\t16\t18\t15\t14\t28\t23\t26\t23\t20\t25\t38\t24\t31\t33\t22\t21\t21\t23\t20\t24\t22\t20\t23\t21\t42\t33\t33\t25\t32\t40\t31\t29\t29\t26\t36\t27\t33\t48\t24\t33\t45\t38\t30\t35\t43\t41\t26\t33\t37\t50\t31\t32\t35\t31\t35\t32\t29\t31\t31\t44\t34\t30\t19\t23\t27\t37\t27\t29\t25\t22\t29\t26\t25\t29\t21\t25\t23\t23\t18\t19\t12\t23\t20\t15\t13\t21\t16\t18\t11\t10\t15\t13\t9\t8\t15\t6\t3\t8\t3\t8\t6\t2\t0\t1\t3\t3\t0\t3\t1\t3\t2\t3\t1\t2\t0\t1\t0\t1\t4\t0\t2\t0\t1\t0\t0\t1\t1\t0\t0\t0\t1\t0\t0\t1\t0\t0\t0\t0\t0\t0\t0\t0\t0\t0\t0\t0\t0\t0\t0\t0\t0\t0\t0\t0\t0\t0\t0\t0\t0\t0\t0\t0\t0\t0\t0\t0\t0\t0\t0\t0\t0\t0\t0\t0\t0\t0\t0\t0\t0\t0\t0\t0\t0\t0\t0\t0\t0\t0\t0\t0\t0\t0\t0\t0\t0\t0\t0\t0\t0\t0\t0\t0\t0\t0\t0\t0\t0\t0\t0\t0\t0\t0\t0\t0\t0\t0\t0\t2862\n",
    "2018\t0\t0\t0\t0\t0\t0\t0\t0\t0\t2\t0\t2\t3\t0\t1\t0\t0\t1\t1\t0\t3\t2\t0\t2\t3\t2\t3\t1\t1\t4\t2\t3\t3\t5\t3\t4\t3\t5\t5\t5\t6\t9\t5\t4\t5\t7\t6\t2\t5\t8\t6\t11\t10\t9\t13\t11\t13\t13\t13\t14\t12\t17\t7\t12\t8\t13\t13\t15\t17\t18\t9\t17\t13\t13\t8\t12\t12\t10\t11\t4\t11\t12\t5\t13\t9\t10\t6\t10\t8\t9\t3\t7\t3\t7\t5\t8\t7\t2\t3\t4\t1\t1\t3\t3\t2\t2\t3\t1\t1\t1\t2\t0\t0\t0\t0\t0\t1\t1\t0\t0\t2\t0\t1\t0\t0\t0\t0\t1\t0\t0\t0\t0\t0\t0\t0\t0\t0\t0\t0\t0\t0\t0\t0\t0\t0\t0\t0\t0\t0\t0\t0\t0\t0\t0\t0\t0\t0\t0\t0\t0\t0\t0\t0\t0\t0\t0\t0\t0\t0\t0\t0\t0\t0\t0\t0\t0\t0\t0\t0\t0\t0\t0\t0\t0\t0\t0\t0\t0\t0\t0\t0\t0\t0\t0\t0\t0\t0\t0\t0\t0\t0\t0\t0\t0\t0\t0\t0\t0\t0\t0\t0\t0\t0\t0\t0\t0\t0\t0\t0\t0\t0\t0\t0\t0\t0\t0\t0\t0\t0\t0\t0\t0\t0\t0\t0\t0\t0\t0\t0\t0\t0\t0\t0\t0\t0\t0\t0\t0\t0\t0\t0\t0\t0\t0\t0\t0\t0\t0\t0\t648\n",
    "organic\t2015\t0\t0\t0\t0\t0\t0\t0\t0\t0\t0\t0\t0\t0\t0\t0\t0\t0\t0\t0\t0\t0\t0\t0\t0\t0\t0\t0\t0\t0\t0\t0\t0\t0\t0\t1\t1\t0\t0\t0\t0\t1\t2\t2\t0\t1\t2\t1\t1\t0\t0\t0\t3\t1\t6\t3\t1\t7\t2\t2\t1\t1\t4\t4\t2\t7\t6\t5\t6\t6\t4\t5\t3\t12\t5\t8\t16\t13\t15\t12\t18\t17\t13\t16\t11\t13\t9\t13\t19\t34\t26\t23\t15\t25\t25\t22\t22\t30\t33\t25\t28\t34\t43\t40\t49\t35\t33\t42\t33\t53\t31\t31\t35\t45\t42\t35\t34\t38\t33\t50\t52\t33\t44\t42\t38\t24\t32\t24\t30\t33\t32\t28\t31\t43\t40\t42\t51\t44\t44\t47\t36\t39\t41\t29\t36\t28\t44\t37\t28\t20\t23\t18\t21\t13\t20\t25\t22\t12\t8\t11\t15\t12\t9\t13\t3\t10\t8\t6\t7\t5\t6\t4\t10\t4\t2\t7\t2\t2\t8\t2\t2\t3\t3\t3\t3\t9\t2\t2\t4\t2\t3\t2\t2\t2\t3\t1\t1\t0\t0\t1\t0\t0\t0\t0\t0\t0\t0\t0\t0\t0\t0\t0\t1\t1\t0\t0\t0\t0\t0\t0\t1\t0\t0\t0\t0\t1\t1\t3\t1\t1\t1\t1\t0\t2\t0\t0\t0\t0\t0\t0\t0\t0\t0\t0\t0\t0\t0\t0\t0\t0\t0\t0\t0\t0\t0\t0\t0\t0\t0\t0\t2807\n",
    "2016\t0\t0\t0\t0\t0\t0\t0\t0\t0\t0\t0\t1\t0\t0\t0\t0\t0\t1\t0\t1\t0\t3\t1\t1\t0\t0\t1\t2\t1\t0\t3\t0\t3\t1\t4\t4\t1\t2\t5\t7\t4\t4\t7\t5\t5\t3\t6\t4\t4\t11\t4\t14\t11\t13\t5\t8\t8\t14\t18\t8\t12\t17\t10\t14\t12\t9\t13\t15\t16\t13\t10\t18\t17\t18\t18\t21\t18\t22\t26\t24\t20\t19\t26\t21\t35\t24\t39\t33\t32\t39\t37\t20\t30\t31\t39\t31\t37\t41\t40\t35\t43\t38\t45\t31\t44\t47\t42\t40\t36\t28\t23\t42\t46\t33\t25\t24\t31\t30\t25\t28\t25\t29\t29\t19\t18\t24\t24\t17\t24\t29\t21\t15\t25\t18\t26\t16\t21\t12\t16\t17\t21\t11\t10\t16\t15\t12\t12\t8\t13\t14\t8\t10\t11\t11\t14\t9\t8\t14\t4\t11\t9\t10\t7\t8\t10\t2\t13\t3\t9\t12\t8\t7\t9\t8\t3\t5\t9\t8\t7\t4\t9\t7\t4\t13\t7\t7\t12\t9\t5\t7\t6\t4\t4\t3\t4\t1\t0\t2\t1\t2\t1\t0\t1\t0\t2\t1\t0\t2\t1\t1\t3\t1\t0\t0\t1\t2\t0\t1\t2\t0\t3\t1\t0\t0\t0\t1\t2\t1\t0\t1\t0\t0\t1\t0\t0\t1\t1\t0\t1\t0\t0\t1\t1\t0\t1\t0\t2\t1\t0\t0\t0\t1\t0\t1\t0\t0\t1\t0\t1\t2808\n",
    "2017\t1\t0\t1\t1\t2\t1\t0\t0\t0\t2\t3\t0\t0\t0\t1\t1\t0\t3\t2\t2\t1\t2\t0\t3\t0\t2\t1\t3\t0\t1\t5\t2\t0\t3\t1\t2\t4\t4\t2\t2\t2\t2\t4\t8\t4\t7\t6\t5\t3\t2\t1\t7\t7\t3\t3\t8\t5\t10\t4\t13\t6\t6\t4\t4\t7\t6\t8\t13\t11\t15\t8\t13\t22\t7\t12\t7\t21\t11\t12\t12\t16\t18\t9\t12\t11\t11\t8\t13\t19\t17\t16\t17\t22\t26\t24\t24\t26\t29\t28\t23\t15\t25\t27\t30\t28\t24\t20\t32\t25\t35\t30\t28\t40\t32\t29\t29\t27\t29\t17\t22\t40\t32\t29\t27\t16\t33\t26\t31\t20\t28\t20\t32\t24\t33\t36\t37\t21\t25\t30\t23\t17\t29\t30\t24\t24\t19\t24\t22\t23\t19\t23\t14\t18\t25\t18\t17\t17\t18\t21\t31\t19\t19\t24\t14\t15\t15\t16\t15\t17\t11\t17\t14\t12\t10\t12\t11\t8\t6\t11\t9\t7\t3\t9\t3\t8\t11\t10\t6\t7\t8\t10\t7\t8\t7\t2\t4\t10\t8\t6\t5\t3\t8\t4\t6\t4\t3\t2\t7\t8\t4\t7\t7\t9\t2\t5\t6\t2\t4\t6\t2\t4\t0\t2\t3\t3\t1\t3\t1\t2\t3\t2\t1\t1\t2\t3\t2\t5\t4\t3\t4\t3\t2\t2\t1\t0\t2\t2\t1\t1\t1\t1\t1\t2\t0\t1\t1\t0\t1\t0\t2860\n",
    "2018\t0\t0\t0\t0\t0\t0\t0\t0\t0\t0\t0\t0\t0\t0\t0\t0\t0\t0\t0\t0\t0\t0\t0\t0\t0\t0\t0\t0\t0\t0\t0\t0\t0\t0\t0\t0\t0\t0\t0\t0\t0\t0\t0\t0\t0\t0\t0\t0\t0\t0\t0\t0\t0\t0\t1\t1\t1\t1\t0\t0\t1\t1\t0\t0\t0\t0\t0\t1\t2\t1\t3\t2\t3\t3\t2\t5\t5\t1\t5\t5\t5\t2\t3\t5\t7\t11\t4\t11\t8\t16\t6\t13\t8\t9\t17\t13\t18\t9\t13\t11\t10\t15\t7\t11\t9\t9\t11\t11\t16\t16\t12\t10\t12\t13\t6\t14\t11\t10\t4\t13\t5\t8\t12\t5\t5\t8\t8\t5\t11\t7\t5\t7\t4\t9\t5\t8\t11\t0\t5\t4\t3\t5\t2\t4\t6\t5\t2\t1\t2\t0\t4\t2\t3\t0\t1\t4\t2\t1\t2\t1\t1\t0\t1\t1\t1\t1\t0\t0\t1\t1\t0\t1\t0\t0\t0\t1\t0\t0\t2\t0\t1\t0\t0\t1\t0\t0\t0\t0\t0\t0\t0\t0\t0\t0\t0\t0\t0\t0\t0\t0\t0\t0\t0\t0\t0\t0\t0\t0\t0\t0\t0\t0\t0\t0\t0\t0\t0\t0\t0\t0\t0\t0\t0\t0\t0\t0\t0\t0\t0\t0\t0\t0\t0\t0\t0\t0\t0\t0\t0\t0\t0\t0\t0\t0\t0\t0\t0\t0\t0\t0\t0\t0\t0\t0\t0\t0\t0\t0\t0\t648\n",
    "All\t\t1\t1\t1\t2\t5\t3\t6\t7\t3\t12\t9\t14\t5\t12\t11\t10\t10\t17\t23\t10\t23\t26\t18\t44\t28\t30\t38\t50\t43\t61\t65\t53\t67\t60\t60\t66\t81\t64\t79\t73\t77\t88\t98\t94\t92\t101\t141\t123\t127\t143\t147\t189\t185\t167\t159\t160\t179\t174\t178\t170\t168\t194\t167\t161\t169\t158\t192\t180\t202\t168\t174\t199\t188\t155\t151\t167\t181\t165\t170\t193\t155\t147\t149\t140\t139\t137\t159\t164\t163\t187\t159\t155\t148\t175\t167\t149\t185\t172\t157\t150\t160\t185\t180\t170\t148\t161\t160\t173\t163\t151\t134\t146\t186\t159\t125\t139\t136\t133\t123\t141\t129\t138\t127\t115\t85\t117\t96\t106\t105\t115\t85\t97\t112\t116\t119\t125\t115\t88\t102\t90\t84\t94\t80\t83\t73\t81\t79\t63\t59\t59\t54\t50\t49\t59\t59\t54\t39\t42\t38\t59\t48\t38\t47\t26\t37\t26\t35\t26\t33\t30\t29\t32\t26\t21\t22\t20\t19\t22\t22\t15\t20\t13\t16\t20\t24\t20\t24\t19\t14\t18\t18\t13\t14\t13\t7\t6\t10\t10\t8\t7\t4\t8\t5\t6\t6\t4\t2\t9\t9\t5\t10\t9\t10\t2\t6\t8\t2\t5\t8\t3\t7\t1\t2\t3\t4\t3\t8\t3\t3\t5\t3\t1\t4\t2\t3\t3\t6\t4\t4\t4\t3\t3\t3\t1\t1\t2\t4\t2\t1\t1\t1\t2\t2\t1\t1\t1\t1\t1\t1\t18249\n"
   ]
  },
  {
   "cell_type": "code",
   "execution_count": null,
   "id": "6a70ca85",
   "metadata": {},
   "outputs": [],
   "source": [
    "df.groupby(['year','type'])['AveragePrice'].agg([min,max,np.mean,np.median])"
   ]
  },
  {
   "cell_type": "markdown",
   "id": "a35c48a0",
   "metadata": {},
   "source": [
    "min\tmax\tmean\tmedian\n",
    "year\ttype\t\t\t\t\n",
    "2015\tconventional\t0.49\t1.59\t1.077963\t1.08\n",
    "organic\t0.81\t2.79\t1.673324\t1.67\n",
    "2016\tconventional\t0.51\t2.20\t1.105595\t1.08\n",
    "organic\t0.58\t3.25\t1.571684\t1.53\n",
    "2017\tconventional\t0.46\t2.22\t1.294888\t1.30\n",
    "organic\t0.44\t3.17\t1.735521\t1.72\n",
    "2018\tconventional\t0.56\t1.74\t1.127886\t1.14\n",
    "organic\t1.01\t2.30\t1.567176\t1.55\n",
    "Comment :\n",
    "Oraganic Avocado is 40-50% costlier than conventional avacado.\n",
    "Avacodo got price hike in year 2017 as result of some reason may be inflation,shortage, more wages.\n",
    "Except 2017 each year their is incresase in price of avacado.\n",
    "Price hike over time, its okay !!!\n",
    "\n",
    "But what about demand over timeframe ?, Lets check trend of demand through volume sell in next section."
   ]
  },
  {
   "cell_type": "code",
   "execution_count": null,
   "id": "13d479b4",
   "metadata": {},
   "outputs": [],
   "source": [
    "df.groupby(['year','type'])['Total Volume','Total Bags','Small Bags','Large Bags','XLarge Bags'].agg([sum])"
   ]
  },
  {
   "cell_type": "code",
   "execution_count": null,
   "id": "a2a9c73a",
   "metadata": {},
   "outputs": [],
   "source": [
    "Total Volume\tTotal Bags\tSmall Bags\tLarge Bags\tXLarge Bags\n",
    "sum\tsum\tsum\tsum\tsum\n",
    "year\ttype\t\t\t\t\t\n",
    "2015\tconventional\t4.296599e+09\t7.481009e+08\t6.194886e+08\t1.231692e+08\t5443128.28\n",
    "organic\t8.886943e+07\t2.409134e+07\t1.519414e+07\t8.897192e+06\t0.00\n",
    "2016\tconventional\t4.690250e+09\t1.398101e+09\t1.064426e+09\t3.136371e+08\t20038284.84\n",
    "organic\t1.306401e+08\t6.505765e+07\t4.206845e+07\t2.298920e+07\t0.00\n",
    "2017\tconventional\t4.766166e+09\t1.541193e+09\t1.145835e+09\t3.713655e+08\t23991658.41\n",
    "organic\t1.681399e+08\t1.050962e+08\t7.711715e+07\t2.797352e+07\t5513.93\n",
    "2018\tconventional\t1.334206e+09\t4.593696e+08\t3.344334e+08\t1.177311e+08\t7205184.07\n",
    "organic\t4.853227e+07\t3.216630e+07\t2.630799e+07\t5.852903e+06\t5407.80\n",
    "Comment :\n",
    "Sales of Avacado in 2017 is more than 2016 so price hike is may be as result of increase in demand or some supply chain issue.\n",
    "sales in turn Demand is also increase over time.\n",
    "30 % increase in sale of organic avocado in 2017 compare to 2016, even when it is almost 50% costlier than conventional type.\n",
    "There is also growth in demand of conventional type avocado year-wise but rate of growth of demand comparelative less than organic type. May be people becoming more health oriented.\n",
    "XLarge Bags sales increase rapidly in 2017 compare to 2015.\n",
    "If we look at trend from 2015 customer start buying buying Large or Xlarge bags compare to small bags in case of Conventional type. May be quantity & discount offer by shop may be playing role here.\n",
    "People choosing small bags of organic avocado over large.Price factor playing here."
   ]
  },
  {
   "cell_type": "code",
   "execution_count": null,
   "id": "39bde86d",
   "metadata": {},
   "outputs": [],
   "source": [
    "df.sort_values(by=['Date'], inplace=True, ascending=True)"
   ]
  },
  {
   "cell_type": "code",
   "execution_count": null,
   "id": "76e2e663",
   "metadata": {},
   "outputs": [],
   "source": [
    "# Average price of Conventional Avocados over time\n",
    "\n",
    "mask = df['type']== 'conventional'\n",
    "plt.rc('figure', titlesize=20)\n",
    "fig = plt.figure(figsize = (27, 12))\n",
    "fig.suptitle('Average Price of Conventional Avocados Over Time', fontsize=25)\n",
    "ax = fig.add_subplot(111)\n",
    "\n",
    "dates = df[mask]['Date'].tolist()\n",
    "avgPrices = df[mask]['AveragePrice'].tolist()\n",
    "\n",
    "plt.scatter( dates,avgPrices, c=avgPrices, cmap='plasma')\n",
    "ax.set_xlabel('Date',fontsize = 15,)\n",
    "ax.set_ylabel('Average Price (USD)', fontsize = 15)\n",
    "ax.set_xlim()\n",
    "ax.tick_params(labelrotation=90)\n",
    "\n",
    "plt.show()"
   ]
  },
  {
   "cell_type": "code",
   "execution_count": null,
   "id": "fb111f4a",
   "metadata": {},
   "outputs": [],
   "source": [
    "# Average price of Organic Avocados over time\n",
    "mask = df['type']== 'organic'\n",
    "plt.rc('figure', titlesize=20)\n",
    "fig = plt.figure(figsize = (27, 12))\n",
    "fig.suptitle('Average Price of Organic Avocados Over Time', fontsize=25)\n",
    "ax = fig.add_subplot(111)\n",
    "fig.subplots_adjust(top=0.93)\n",
    "\n",
    "dates = df[mask]['Date'].tolist()\n",
    "avgPrices = df[mask]['AveragePrice'].tolist()\n",
    "\n",
    "plt.scatter(dates,avgPrices, c=avgPrices, cmap='plasma')\n",
    "ax.set_xlabel('Date',fontsize = 15)\n",
    "ax.set_ylabel('Average Price (USD)', fontsize = 15)\n",
    "plt.xlim()\n",
    "plt.show()"
   ]
  },
  {
   "cell_type": "code",
   "execution_count": null,
   "id": "25538df9",
   "metadata": {},
   "outputs": [],
   "source": [
    "df.groupby(['region'])['Total Volume','AveragePrice'].agg([sum])"
   ]
  },
  {
   "cell_type": "code",
   "execution_count": null,
   "id": "30a2d150",
   "metadata": {},
   "outputs": [],
   "source": [
    "Total Volume\tAveragePrice\n",
    "sum\tsum\n",
    "region\t\t\n",
    "Albany\t1.606780e+07\t527.63\n",
    "Atlanta\t8.860512e+07\t452.23\n",
    "BaltimoreWashington\t1.347139e+08\t518.57\n",
    "Boise\t1.441319e+07\t455.67\n",
    "Boston\t9.727398e+07\t517.44\n",
    "BuffaloRochester\t2.296247e+07\t512.69\n",
    "California\t1.028982e+09\t471.62\n",
    "Charlotte\t3.555554e+07\t542.84\n",
    "Chicago\t1.337023e+08\t526.19\n",
    "CincinnatiDayton\t4.452201e+07\t408.71\n",
    "Columbus\t2.999336e+07\t423.44\n",
    "DallasFtWorth\t2.084193e+08\t366.93\n",
    "Denver\t1.389025e+08\t411.88\n",
    "Detroit\t6.342242e+07\t431.32\n",
    "GrandRapids\t3.021174e+07\t508.69\n",
    "GreatLakes\t5.896425e+08\t452.43\n",
    "HarrisburgScranton\t4.180886e+07\t511.49\n",
    "HartfordSpringfield\t5.067054e+07\t614.70\n",
    "Houston\t2.031679e+08\t354.20\n",
    "Indianapolis\t3.026339e+07\t444.13\n",
    "Jacksonville\t2.879000e+07\t510.70\n",
    "LasVegas\t5.437691e+07\t466.75\n",
    "LosAngeles\t5.078965e+08\t411.01\n",
    "Louisville\t1.609700e+07\t434.90\n",
    "MiamiFtLauderdale\t9.767322e+07\t482.83\n",
    "Midsouth\t5.083494e+08\t474.81\n",
    "Nashville\t3.561209e+07\t409.69\n",
    "NewOrleansMobile\t4.569514e+07\t441.02\n",
    "NewYork\t2.407341e+08\t583.92\n",
    "Northeast\t7.132809e+08\t541.45\n",
    "NorthernNewEngland\t7.153289e+07\t499.36\n",
    "Orlando\t5.866070e+07\t509.10\n",
    "Philadelphia\t7.183880e+07\t551.66\n",
    "PhoenixTucson\t1.956433e+08\t413.86\n",
    "Pittsburgh\t1.880635e+07\t461.14\n",
    "Plains\t3.111885e+08\t485.54\n",
    "Portland\t1.105522e+08\t445.39\n",
    "RaleighGreensboro\t4.820273e+07\t525.63\n",
    "RichmondNorfolk\t4.223085e+07\t436.47\n",
    "Roanoke\t2.504201e+07\t421.80\n",
    "Sacramento\t7.516375e+07\t548.09\n",
    "SanDiego\t8.979192e+07\t472.58\n",
    "SanFrancisco\t1.358302e+08\t609.82\n",
    "Seattle\t1.092142e+08\t487.59\n",
    "SouthCarolina\t6.075377e+07\t474.31\n",
    "SouthCentral\t1.011280e+09\t372.22\n",
    "Southeast\t6.152384e+08\t472.53\n",
    "Spokane\t1.556528e+07\t488.61\n",
    "StLouis\t3.207283e+07\t483.55\n",
    "Syracuse\t1.094267e+07\t513.87\n",
    "Tampa\t6.600454e+07\t476.19\n",
    "TotalUS\t5.864740e+09\t445.83\n",
    "West\t1.086779e+09\t430.01\n",
    "WestTexNewMexico\t1.445218e+08\t422.67"
   ]
  },
  {
   "cell_type": "markdown",
   "id": "b39c3496",
   "metadata": {},
   "source": [
    "### EDA"
   ]
  },
  {
   "cell_type": "code",
   "execution_count": null,
   "id": "c3326dfd",
   "metadata": {},
   "outputs": [],
   "source": [
    "df.head()"
   ]
  },
  {
   "cell_type": "code",
   "execution_count": null,
   "id": "1db792fd",
   "metadata": {},
   "outputs": [],
   "source": [
    "Date\tAveragePrice\tTotal Volume\t4046\t4225\t4770\tTotal Bags\tSmall Bags\tLarge Bags\tXLarge Bags\ttype\tyear\tregion\n",
    "11569\t2015-01-04\t1.75\t27365.89\t9307.34\t3844.81\t615.28\t13598.46\t13061.10\t537.36\t0.0\torganic\t2015\tSoutheast\n",
    "9593\t2015-01-04\t1.49\t17723.17\t1189.35\t15628.27\t0.00\t905.55\t905.55\t0.00\t0.0\torganic\t2015\tChicago\n",
    "10009\t2015-01-04\t1.68\t2896.72\t161.68\t206.96\t0.00\t2528.08\t2528.08\t0.00\t0.0\torganic\t2015\tHarrisburgScranton\n",
    "1819\t2015-01-04\t1.52\t54956.80\t3013.04\t35456.88\t1561.70\t14925.18\t11264.80\t3660.38\t0.0\tconventional\t2015\tPittsburgh\n",
    "9333\t2015-01-04\t1.64\t1505.12\t1.27\t1129.50\t0.00\t374.35\t186.67\t187.68\t0.0\torganic\t2015\tBoise"
   ]
  },
  {
   "cell_type": "code",
   "execution_count": null,
   "id": "94a2feda",
   "metadata": {},
   "outputs": [],
   "source": [
    "df2=df.copy()"
   ]
  },
  {
   "cell_type": "code",
   "execution_count": null,
   "id": "d5e1917b",
   "metadata": {},
   "outputs": [],
   "source": [
    "# Creating Datframe for numeric features\n",
    "df2.drop(['Date','type','region','year'], axis=1, inplace=True)"
   ]
  },
  {
   "cell_type": "code",
   "execution_count": null,
   "id": "e79e9992",
   "metadata": {},
   "outputs": [],
   "source": [
    "plt.figure(figsize=(20,25), facecolor='white')\n",
    "plotnumber =1\n",
    "for column in df2:\n",
    "    if plotnumber <=9:\n",
    "        ax = plt.subplot(3,3,plotnumber)\n",
    "        sns.distplot(df2[column], color='r',hist=False,kde_kws={\"shade\": True})\n",
    "        plt.xlabel(column,fontsize=20)\n",
    "    plotnumber+=1\n",
    "plt.show()"
   ]
  },
  {
   "cell_type": "markdown",
   "id": "42b00cd2",
   "metadata": {},
   "source": [
    "Comment :\n",
    "We can see skewed data with presence of outliers with sharp peak.\n",
    "Most of the plots are right skewed, having value of mean very small compare to std. deviation & median. This is resulting in sharp high peak.Very few data points are present as we move away from zero to other end of x-axis."
   ]
  },
  {
   "cell_type": "code",
   "execution_count": null,
   "id": "90ba5363",
   "metadata": {},
   "outputs": [],
   "source": [
    "sns.set_palette('gist_rainbow_r')\n",
    "plt.figure(figsize=(20,20), facecolor='white')\n",
    "plotnumber =1\n",
    "for column in df2:\n",
    "    if plotnumber <=9:\n",
    "        ax = plt.subplot(3,3,plotnumber)\n",
    "        sns.violinplot(df[column])\n",
    "        plt.xlabel(column,fontsize=20)\n",
    "    plotnumber+=1\n",
    "plt.show()"
   ]
  },
  {
   "cell_type": "markdown",
   "id": "38836fc1",
   "metadata": {},
   "source": [
    "Comment :\n",
    "For Majority Average price is in range of 1 to 1.5.\n",
    "Rest of Violin plot show same story as distribution plot.\n",
    "Avacado availability and price also vary over the year according to seasonal changes.Lets check the variation Avg price and sales volume over each month.\n",
    "\n",
    "For that purpose let create another copy dataframe and then split date column into Year,Month and Day."
   ]
  },
  {
   "cell_type": "code",
   "execution_count": null,
   "id": "5c42b7e6",
   "metadata": {},
   "outputs": [],
   "source": [
    "df=pd.read_csv('avocado.csv')"
   ]
  },
  {
   "cell_type": "code",
   "execution_count": null,
   "id": "dbdf538f",
   "metadata": {},
   "outputs": [],
   "source": [
    "# Copy of original dataframe\n",
    "df3=df.copy()"
   ]
  },
  {
   "cell_type": "code",
   "execution_count": null,
   "id": "05e0849f",
   "metadata": {},
   "outputs": [],
   "source": [
    "df3['Year'], df3['Month'], df3['Day'] = df3['Date'].str.split('-').str\n",
    "df3.drop(columns=['Date','year'], inplace=True)\n",
    "df3"
   ]
  },
  {
   "cell_type": "markdown",
   "id": "3049714b",
   "metadata": {},
   "source": [
    "AveragePrice\tTotal Volume\t4046\t4225\t4770\tTotal Bags\tSmall Bags\tLarge Bags\tXLarge Bags\ttype\tregion\tYear\tMonth\tDay\n",
    "0\t1.33\t64236.62\t1036.74\t54454.85\t48.16\t8696.87\t8603.62\t93.25\t0.0\tconventional\tAlbany\t2015\t12\t27\n",
    "1\t1.35\t54876.98\t674.28\t44638.81\t58.33\t9505.56\t9408.07\t97.49\t0.0\tconventional\tAlbany\t2015\t12\t20\n",
    "2\t0.93\t118220.22\t794.70\t109149.67\t130.50\t8145.35\t8042.21\t103.14\t0.0\tconventional\tAlbany\t2015\t12\t13\n",
    "3\t1.08\t78992.15\t1132.00\t71976.41\t72.58\t5811.16\t5677.40\t133.76\t0.0\tconventional\tAlbany\t2015\t12\t06\n",
    "4\t1.28\t51039.60\t941.48\t43838.39\t75.78\t6183.95\t5986.26\t197.69\t0.0\tconventional\tAlbany\t2015\t11\t29\n",
    "...\t...\t...\t...\t...\t...\t...\t...\t...\t...\t...\t...\t...\t...\t...\n",
    "18244\t1.63\t17074.83\t2046.96\t1529.20\t0.00\t13498.67\t13066.82\t431.85\t0.0\torganic\tWestTexNewMexico\t2018\t02\t04\n",
    "18245\t1.71\t13888.04\t1191.70\t3431.50\t0.00\t9264.84\t8940.04\t324.80\t0.0\torganic\tWestTexNewMexico\t2018\t01\t28\n",
    "18246\t1.87\t13766.76\t1191.92\t2452.79\t727.94\t9394.11\t9351.80\t42.31\t0.0\torganic\tWestTexNewMexico\t2018\t01\t21\n",
    "18247\t1.93\t16205.22\t1527.63\t2981.04\t727.01\t10969.54\t10919.54\t50.00\t0.0\torganic\tWestTexNewMexico\t2018\t01\t14\n",
    "18248\t1.62\t17489.58\t2894.77\t2356.13\t224.53\t12014.15\t11988.14\t26.01\t0.0\torganic\tWestTexNewMexico\t2018\t01\t07\n",
    "18249 rows × 14 columns"
   ]
  },
  {
   "cell_type": "code",
   "execution_count": null,
   "id": "0073d6f7",
   "metadata": {},
   "outputs": [],
   "source": [
    "# Converting Datetime datatypes to int\n",
    "df3['Year']=df3['Year'].astype(int)\n",
    "df3['Month']=df3['Month'].astype(int)\n",
    "df3['Date']=df3['Day'].astype(int)"
   ]
  },
  {
   "cell_type": "code",
   "execution_count": null,
   "id": "5fdac643",
   "metadata": {},
   "outputs": [],
   "source": [
    "df3.drop(columns=['Day'],axis=1, inplace=True)"
   ]
  },
  {
   "cell_type": "code",
   "execution_count": null,
   "id": "3a20b5a6",
   "metadata": {},
   "outputs": [],
   "source": [
    "df3.drop(columns=['Date'],axis=1, inplace=True)"
   ]
  },
  {
   "cell_type": "code",
   "execution_count": null,
   "id": "04bfa7f0",
   "metadata": {},
   "outputs": [],
   "source": [
    "df3.head()"
   ]
  },
  {
   "cell_type": "markdown",
   "id": "e4e933a3",
   "metadata": {},
   "source": [
    "AveragePrice\tTotal Volume\t4046\t4225\t4770\tTotal Bags\tSmall Bags\tLarge Bags\tXLarge Bags\ttype\tregion\tYear\tMonth\n",
    "0\t1.33\t64236.62\t1036.74\t54454.85\t48.16\t8696.87\t8603.62\t93.25\t0.0\tconventional\tAlbany\t2015\t12\n",
    "1\t1.35\t54876.98\t674.28\t44638.81\t58.33\t9505.56\t9408.07\t97.49\t0.0\tconventional\tAlbany\t2015\t12\n",
    "2\t0.93\t118220.22\t794.70\t109149.67\t130.50\t8145.35\t8042.21\t103.14\t0.0\tconventional\tAlbany\t2015\t12\n",
    "3\t1.08\t78992.15\t1132.00\t71976.41\t72.58\t5811.16\t5677.40\t133.76\t0.0\tconventional\tAlbany\t2015\t12\n",
    "4\t1.28\t51039.60\t941.48\t43838.39\t75.78\t6183.95\t5986.26\t197.69\t0.0\tconventional\tAlbany\t2015\t11"
   ]
  },
  {
   "cell_type": "markdown",
   "id": "8e6c6b2f",
   "metadata": {},
   "source": [
    "### Univariate analysis of feature using date, months, year"
   ]
  },
  {
   "cell_type": "code",
   "execution_count": null,
   "id": "0f686e46",
   "metadata": {},
   "outputs": [],
   "source": [
    "# Checking unique values and Yearwise total No of sale entry\n",
    "df3['Year'].value_counts()"
   ]
  },
  {
   "cell_type": "markdown",
   "id": "070b9d5a",
   "metadata": {},
   "source": [
    "2017    5722\n",
    "2016    5616\n",
    "2015    5615\n",
    "2018    1296\n",
    "Name: Year, dtype: int64"
   ]
  },
  {
   "cell_type": "code",
   "execution_count": null,
   "id": "bf2e696e",
   "metadata": {},
   "outputs": [],
   "source": [
    "sns.countplot('Year',data=df3)"
   ]
  },
  {
   "cell_type": "code",
   "execution_count": null,
   "id": "cc025b54",
   "metadata": {},
   "outputs": [],
   "source": [
    "<AxesSubplot:xlabel='Year', ylabel='count'>\n",
    "\n",
    "Comment:\n",
    "This dataset contain data from 2015 to 2018\n",
    "Maximum sales entry belongs to year 2017 while very few sales entry comes from 2018.\n",
    "Approach :\n",
    "We want check Avg Price over each Month\n",
    "First we will check Sale entries per Months\n",
    "Next We will Avg Price over each month using Countplot\n",
    "Finally we will try to bring insight over relation of sales entries to Avg price over same month."
   ]
  },
  {
   "cell_type": "markdown",
   "id": "a8d1f9a5",
   "metadata": {},
   "source": [
    "### Checking Month-Wise sales entries"
   ]
  },
  {
   "cell_type": "code",
   "execution_count": null,
   "id": "40b17f2d",
   "metadata": {},
   "outputs": [],
   "source": [
    "plt.figure(figsize=(15,7))\n",
    "sns.countplot(x='Month', data=df3, palette=\"spring\")"
   ]
  },
  {
   "cell_type": "code",
   "execution_count": null,
   "id": "f93db0a9",
   "metadata": {},
   "outputs": [],
   "source": [
    "df3['Month'].value_counts().max()"
   ]
  },
  {
   "cell_type": "code",
   "execution_count": null,
   "id": "ce8c60ca",
   "metadata": {},
   "outputs": [],
   "source": [
    "1944"
   ]
  },
  {
   "cell_type": "code",
   "execution_count": null,
   "id": "556482d4",
   "metadata": {},
   "outputs": [],
   "source": [
    "df3['Month'].value_counts().min()"
   ]
  },
  {
   "cell_type": "code",
   "execution_count": null,
   "id": "9a72688d",
   "metadata": {},
   "outputs": [],
   "source": [
    "1294"
   ]
  },
  {
   "cell_type": "markdown",
   "id": "c5f6ea5d",
   "metadata": {},
   "source": [
    "Comment:\n",
    "Maximum sales lead comes in month of Jan, Feb, March\n",
    "Maximum sales demand of Avacodo is in month of Jan (1944 lead) & Minimum sales demand of Avacoda is in month of June"
   ]
  },
  {
   "cell_type": "markdown",
   "id": "fe0ba94d",
   "metadata": {},
   "source": [
    "### Checking Month-Wise Variation in Average Price"
   ]
  },
  {
   "cell_type": "code",
   "execution_count": null,
   "id": "d216ebe1",
   "metadata": {},
   "outputs": [],
   "source": [
    "plt.figure(figsize=(15,7))\n",
    "sns.barplot(x=\"Month\", y=\"AveragePrice\", hue='type', data=df3)\n",
    "plt.show()"
   ]
  },
  {
   "cell_type": "code",
   "execution_count": null,
   "id": "1b510115",
   "metadata": {},
   "outputs": [],
   "source": [
    "df3.groupby(['Month','type'])['AveragePrice'].agg([np.mean]).T"
   ]
  },
  {
   "cell_type": "code",
   "execution_count": null,
   "id": "ca2b7523",
   "metadata": {},
   "outputs": [],
   "source": [
    "Month\t1\t2\t3\t4\t5\t...\t8\t9\t10\t11\t12\n",
    "type\tconventional\torganic\tconventional\torganic\tconventional\torganic\tconventional\torganic\tconventional\torganic\t...\tconventional\torganic\tconventional\torganic\tconventional\torganic\tconventional\torganic\tconventional\torganic\n",
    "mean\t1.069095\t1.552942\t1.017315\t1.531458\t1.126209\t1.538301\t1.14235\t1.60641\t1.089577\t1.603624\t...\t1.235399\t1.78963\t1.294738\t1.850571\t1.349339\t1.810026\t1.206054\t1.705071\t1.077393\t1.585193"
   ]
  },
  {
   "cell_type": "code",
   "execution_count": null,
   "id": "8a5f3b31",
   "metadata": {},
   "outputs": [],
   "source": [
    "plt.figure(figsize=(10,10))\n",
    "sns.catplot(x = \"Month\", y = \"AveragePrice\", kind ='violin', data=df3, linewidth=2)\n",
    "plt.show()"
   ]
  },
  {
   "cell_type": "markdown",
   "id": "19e59a64",
   "metadata": {},
   "source": [
    "Comment :\n",
    "In month of September and October Price of Conventional type of Avacado is comparatively higher than other months.\n",
    "There is not much upheaval in Organic type Avacoda over year peroid.\n",
    "We can see that variation in mean price values in above groupby table, which confirm what we got from barplot.\n",
    "But what causes such High demand in 1st quater of year ?\n",
    "\n",
    "Simple Google gives answer 'FLAVOR'. Yes, Flavor!!!\n",
    "\n",
    "Avocados are available year round like most agricultural commodities these days, but January through March is the best time of year for flavor . It is during this time that the fruit has developed higher oil content, resulting in that buttery flavor and texture that we all love.\n",
    "\n",
    "Now Let Compare Countplot of Sales Entries and Barplot of Avg Price Monthwise.\n",
    "In first sight we can see in period of Augest to October price high & in that same time period sales order are minimum.\n",
    "Opposite of it true in duration of Jan to March.\n",
    "This variation applicable to conventional type while we cannot find such any relation in case of Organic avacado.\n",
    "In conclusion when Average sale price of 'Conventional Avacado' is high in same time less sales order are observe. Inshort Customer are less interested in buying avacado at high Price.\n",
    "\n",
    "Till Now we have not explore region feature , Now is time do it."
   ]
  },
  {
   "cell_type": "code",
   "execution_count": null,
   "id": "b897fe7f",
   "metadata": {},
   "outputs": [],
   "source": [
    "plt.figure(figsize=(15,6))\n",
    "sns.barplot(x=df['region'],y=df['AveragePrice'], data=df3)\n",
    "plt.title(f'Bar Plot for regions')\n",
    "plt.xticks(rotation=90)\n",
    "plt.show()"
   ]
  },
  {
   "cell_type": "code",
   "execution_count": null,
   "id": "95ee0f4b",
   "metadata": {},
   "outputs": [],
   "source": [
    "region = df.groupby('region')['Total Volume'].sum().sort_values(ascending=False).reset_index()\n",
    "plt.figure(figsize=(15,13))\n",
    "sns.barplot(x=region[\"Total Volume\"], y=region[\"region\"], data=df, palette=\"Set1\")\n",
    "plt.show()"
   ]
  },
  {
   "cell_type": "code",
   "execution_count": null,
   "id": "a92d74d6",
   "metadata": {},
   "outputs": [],
   "source": [
    "df.groupby(['region'])['Total Volume','Total Bags','Small Bags','Large Bags','XLarge Bags'].agg([np.mean])"
   ]
  },
  {
   "cell_type": "markdown",
   "id": "774ac731",
   "metadata": {},
   "source": [
    "Total Volume\tTotal Bags\tSmall Bags\tLarge Bags\tXLarge Bags\n",
    "mean\tmean\tmean\tmean\tmean\n",
    "region\t\t\t\t\t\n",
    "Albany\t4.753787e+04\t7.929747e+03\t6.647765e+03\t1.153496e+03\t128.488639\n",
    "Atlanta\t2.621453e+05\t8.449856e+04\t5.160573e+04\t3.207004e+04\t822.786036\n",
    "BaltimoreWashington\t3.985619e+05\t1.044561e+05\t1.009397e+05\t2.903985e+03\t612.382722\n",
    "Boise\t4.264257e+04\t1.597459e+04\t1.384004e+04\t2.103634e+03\t30.915207\n",
    "Boston\t2.877929e+05\t6.359609e+04\t5.890659e+04\t4.438365e+03\t251.124231\n",
    "BuffaloRochester\t6.793630e+04\t3.435134e+04\t3.037998e+04\t3.729050e+03\t242.313432\n",
    "California\t3.044324e+06\t7.298290e+05\t6.778038e+05\t3.642585e+04\t15599.342929\n",
    "Charlotte\t1.051939e+05\t3.460930e+04\t3.149069e+04\t2.912684e+03\t205.927781\n",
    "Chicago\t3.955690e+05\t4.989763e+04\t4.377116e+04\t5.005547e+03\t1120.925178\n",
    "CincinnatiDayton\t1.317219e+05\t6.182816e+04\t1.675117e+04\t4.429643e+04\t780.564290\n",
    "Columbus\t8.873776e+04\t2.963428e+04\t2.387808e+04\t5.103195e+03\t653.004497\n",
    "DallasFtWorth\t6.166251e+05\t1.374845e+05\t1.207744e+05\t1.543113e+04\t1278.973609\n",
    "Denver\t4.109542e+05\t1.744290e+05\t5.551362e+04\t1.187601e+05\t155.270059\n",
    "Detroit\t1.876403e+05\t7.177534e+04\t5.899134e+04\t7.905232e+03\t4878.770533\n",
    "GrandRapids\t8.938383e+04\t2.712750e+04\t2.228839e+04\t2.357398e+03\t2481.702278\n",
    "GreatLakes\t1.744505e+06\t5.283303e+05\t3.647559e+05\t1.446617e+05\t18912.792781\n",
    "HarrisburgScranton\t1.236948e+05\t4.002738e+04\t3.778956e+04\t1.780372e+03\t457.450178\n",
    "HartfordSpringfield\t1.499128e+05\t3.352962e+04\t3.188923e+04\t1.410794e+03\t229.590888\n",
    "Houston\t6.010884e+05\t1.485653e+05\t9.622831e+04\t5.137208e+04\t964.889793\n",
    "Indianapolis\t8.953666e+04\t3.544618e+04\t1.955936e+04\t1.504810e+04\t838.727692\n",
    "Jacksonville\t8.517753e+04\t2.875186e+04\t1.283961e+04\t1.560060e+04\t311.644290\n",
    "LasVegas\t1.608784e+05\t5.341122e+04\t2.656102e+04\t2.680271e+04\t47.497988\n",
    "LosAngeles\t1.502653e+06\t4.978240e+05\t4.607281e+05\t2.503889e+04\t12057.041272\n",
    "Louisville\t4.762427e+04\t1.963103e+04\t8.326157e+03\t1.098558e+04\t319.298757\n",
    "MiamiFtLauderdale\t2.889740e+05\t6.957527e+04\t3.319519e+04\t3.547577e+04\t904.313580\n",
    "Midsouth\t1.503992e+06\t4.630581e+05\t3.975279e+05\t6.145227e+04\t4077.861331\n",
    "Nashville\t1.053612e+05\t3.836440e+04\t2.971239e+04\t8.322173e+03\t329.840710\n",
    "NewOrleansMobile\t1.351927e+05\t4.221580e+04\t3.508744e+04\t5.611536e+03\t1516.830473\n",
    "NewYork\t7.122311e+05\t2.011661e+05\t1.727860e+05\t2.731656e+04\t1063.543432\n",
    "Northeast\t2.110299e+06\t5.828059e+05\t5.136774e+05\t6.525460e+04\t3873.868521\n",
    "NorthernNewEngland\t2.116358e+05\t4.113913e+04\t3.336382e+04\t7.447946e+03\t327.367692\n",
    "Orlando\t1.735524e+05\t4.988651e+04\t2.641384e+04\t2.275300e+04\t719.665769\n",
    "Philadelphia\t2.125408e+05\t7.063678e+04\t6.336398e+04\t6.958744e+03\t314.058343\n",
    "PhoenixTucson\t5.788264e+05\t1.151131e+05\t6.589535e+04\t4.875947e+04\t458.308817\n",
    "Pittsburgh\t5.564008e+04\t2.143628e+04\t1.600053e+04\t5.265377e+03\t170.369882\n",
    "Plains\t9.206761e+05\t2.303172e+05\t2.034338e+05\t2.359066e+04\t3292.713876\n",
    "Portland\t3.270775e+05\t1.464626e+05\t1.228066e+05\t2.342522e+04\t230.805000\n",
    "RaleighGreensboro\t1.426116e+05\t4.638070e+04\t4.449847e+04\t1.601024e+03\t281.207396\n",
    "RichmondNorfolk\t1.249433e+05\t3.700659e+04\t3.448670e+04\t2.153671e+03\t366.224408\n",
    "Roanoke\t7.408879e+04\t2.837570e+04\t2.501876e+04\t3.121787e+03\t235.157840\n",
    "Sacramento\t2.223779e+05\t2.657476e+04\t2.573030e+04\t2.269676e+02\t617.488491\n",
    "SanDiego\t2.656566e+05\t6.906115e+04\t5.998754e+04\t8.644449e+03\t429.156716\n",
    "SanFrancisco\t4.018645e+05\t4.405599e+04\t4.290636e+04\t5.234889e+02\t626.137840\n",
    "Seattle\t3.231189e+05\t1.499746e+05\t1.255833e+05\t2.418919e+04\t202.101893\n",
    "SouthCarolina\t1.797449e+05\t5.370761e+04\t3.968446e+04\t1.335283e+04\t670.327308\n",
    "SouthCentral\t2.991952e+06\t6.905102e+05\t5.467914e+05\t1.359078e+05\t7810.979704\n",
    "Southeast\t1.820232e+06\t5.370640e+05\t3.162819e+05\t2.133361e+05\t7446.044172\n",
    "Spokane\t4.605111e+04\t1.850407e+04\t1.588258e+04\t2.600242e+03\t21.250651\n",
    "StLouis\t9.489004e+04\t4.359772e+04\t3.530135e+04\t7.631293e+03\t665.082515\n",
    "Syracuse\t3.237476e+04\t1.240363e+04\t1.078595e+04\t1.494128e+03\t123.556036\n",
    "Tampa\t1.952797e+05\t5.768252e+04\t3.138484e+04\t2.560189e+04\t695.795059\n",
    "TotalUS\t1.735130e+07\t4.847931e+06\t3.679175e+06\t1.105279e+06\t63477.013432\n",
    "West\t3.215323e+06\t1.086017e+06\t6.589032e+05\t4.246500e+05\t2463.416124\n",
    "WestTexNewMexico\t4.314085e+05\t1.053627e+05\t5.949778e+04\t4.492910e+04\t935.853881\n",
    "Comment on feature Region:\n",
    "Maximum sales Volume is in South Central While Minimum Sales Volume is in Syracuse.\n",
    "Maximum Average Price is in SanFrancisco and Minimum Average Sale price is in Houston."
   ]
  },
  {
   "cell_type": "code",
   "execution_count": null,
   "id": "d5d8f424",
   "metadata": {},
   "outputs": [],
   "source": [
    "plt.figure(figsize=(20,25),facecolor='white')\n",
    "plotnumber=1\n",
    "y = df[['4046','4225','4770']]\n",
    "X = df['year']\n",
    "for col in y:\n",
    "    if plotnumber<=9:\n",
    "        plt.subplot(3,3,plotnumber)\n",
    "        sns.barplot(X,y[col])\n",
    "        plt.xlabel('Year',fontsize=20)\n",
    "        plt.ylabel(col,fontsize=20)\n",
    "    plotnumber+=1\n",
    "plt.tight_layout()"
   ]
  },
  {
   "cell_type": "markdown",
   "id": "f1657233",
   "metadata": {},
   "source": [
    "Production of PLU 4046 has grown over the 4 years and is greater than the production of PLU 4225 and PLU 4770, which is least produced."
   ]
  },
  {
   "cell_type": "code",
   "execution_count": null,
   "id": "2ca66300",
   "metadata": {},
   "outputs": [],
   "source": [
    "plt.figure(figsize=(20,25),facecolor='white')\n",
    "plotnumber=1\n",
    "y = df[['Small Bags','Large Bags','XLarge Bags']]\n",
    "X = df['year']\n",
    "for col in y:\n",
    "    if plotnumber<=9:\n",
    "        plt.subplot(3,3,plotnumber)\n",
    "        sns.barplot(X,y[col])\n",
    "        plt.xlabel('Year',fontsize=20)\n",
    "        plt.ylabel(col,fontsize=20)\n",
    "    plotnumber+=1\n",
    "plt.tight_layout()\n"
   ]
  },
  {
   "cell_type": "markdown",
   "id": "69031eee",
   "metadata": {},
   "source": [
    "Comment:\n",
    "Sale of all 3 types of bags has grown over the years.\n",
    "Most of customers prefer buying Small Bags over Large and Xlarge bags.\n",
    "There is very narrow Customer segment willing to buy XLarge type bags possiblily more quantity need to consume and price associated with it."
   ]
  },
  {
   "cell_type": "code",
   "execution_count": null,
   "id": "223a469b",
   "metadata": {},
   "outputs": [],
   "source": [
    "mask = df['type']=='conventional'\n",
    "g = sns.factorplot('AveragePrice','region',data=df[mask],\n",
    "                   hue='year',\n",
    "                   size=13,\n",
    "                   aspect=0.8,\n",
    "                   palette='magma',\n",
    "                   join=False,\n",
    "              )\n"
   ]
  },
  {
   "cell_type": "code",
   "execution_count": null,
   "id": "794952c2",
   "metadata": {},
   "outputs": [],
   "source": [
    "mask = df['type']=='organic'\n",
    "g = sns.factorplot('AveragePrice','region',data=df[mask],\n",
    "                   hue='year',\n",
    "                   size=13,\n",
    "                   aspect=0.8,\n",
    "                   palette='magma',\n",
    "                   join=False,\n",
    "              )"
   ]
  },
  {
   "cell_type": "markdown",
   "id": "c99e679f",
   "metadata": {},
   "source": [
    "### Pairplot"
   ]
  },
  {
   "cell_type": "code",
   "execution_count": null,
   "id": "39aa45cc",
   "metadata": {},
   "outputs": [],
   "source": [
    "sns.pairplot(df2)\n"
   ]
  },
  {
   "cell_type": "markdown",
   "id": "069792d0",
   "metadata": {},
   "source": [
    "### Encoding categorical data"
   ]
  },
  {
   "cell_type": "code",
   "execution_count": null,
   "id": "13f10a23",
   "metadata": {},
   "outputs": [],
   "source": [
    "# Using Label Encoder on target variable\n",
    "from sklearn.preprocessing import LabelEncoder\n",
    "le = LabelEncoder()\n",
    "df3['region']=le.fit_transform(df3['region'])\n",
    "df3['type']=le.fit_transform(df3['type'])\n",
    "df3.head()"
   ]
  },
  {
   "cell_type": "markdown",
   "id": "4dc3a1f8",
   "metadata": {},
   "source": [
    "\tAveragePrice\tTotal Volume\t4046\t4225\t4770\tTotal Bags\tSmall Bags\tLarge Bags\tXLarge Bags\ttype\tregion\tYear\tMonth\n",
    "0\t1.33\t64236.62\t1036.74\t54454.85\t48.16\t8696.87\t8603.62\t93.25\t0.0\t0\t0\t2015\t12\n",
    "1\t1.35\t54876.98\t674.28\t44638.81\t58.33\t9505.56\t9408.07\t97.49\t0.0\t0\t0\t2015\t12\n",
    "2\t0.93\t118220.22\t794.70\t109149.67\t130.50\t8145.35\t8042.21\t103.14\t0.0\t0\t0\t2015\t12\n",
    "3\t1.08\t78992.15\t1132.00\t71976.41\t72.58\t5811.16\t5677.40\t133.76\t0.0\t0\t0\t2015\t12\n",
    "4\t1.28\t51039.60\t941.48\t43838.39\t75.78\t6183.95\t5986.26\t197.69\t0.0\t0\t0\t2015\t11"
   ]
  },
  {
   "cell_type": "markdown",
   "id": "9067d82e",
   "metadata": {},
   "source": [
    "### Outliers Detection and Removal "
   ]
  },
  {
   "cell_type": "code",
   "execution_count": null,
   "id": "abfd3c0d",
   "metadata": {},
   "outputs": [],
   "source": [
    "plt.figure(figsize=(18,15), facecolor='white')\n",
    "plotnumber =1\n",
    "for column in df2:\n",
    "    if plotnumber <=9:\n",
    "        ax = plt.subplot(3,3,plotnumber)\n",
    "        sns.boxplot(df2[column], palette='hsv')\n",
    "        plt.xlabel(column,fontsize=20)\n",
    "    plotnumber+=1\n",
    "plt.tight_layout()\n",
    "plt.show()\n"
   ]
  },
  {
   "cell_type": "code",
   "execution_count": null,
   "id": "d0ab5763",
   "metadata": {},
   "outputs": [],
   "source": [
    "from scipy.stats import zscore\n",
    "z = np.abs(zscore(df3))\n",
    "threshold = 3\n",
    "df4 = df3[(z<3).all(axis = 1)]"
   ]
  },
  {
   "cell_type": "code",
   "execution_count": null,
   "id": "d71671fb",
   "metadata": {},
   "outputs": [],
   "source": [
    "print(\"\\033[1m\"+'Shape of dataset after removing outliers :'+\"\\033[0m\",df4.shape)"
   ]
  },
  {
   "cell_type": "markdown",
   "id": "ed99a939",
   "metadata": {},
   "source": [
    "Shape of dataset after removing outliers : (17651, 13)"
   ]
  },
  {
   "cell_type": "code",
   "execution_count": null,
   "id": "4bce445b",
   "metadata": {},
   "outputs": [],
   "source": [
    "print(\"\\033[1m\"+'Percentage Data Loss :'+\"\\033[0m\",((18249-17651)/18249)*100,'%')"
   ]
  },
  {
   "cell_type": "markdown",
   "id": "938283f1",
   "metadata": {},
   "source": [
    "Percentage Data Loss : 3.276891884486821 %"
   ]
  },
  {
   "cell_type": "markdown",
   "id": "a4e88f41",
   "metadata": {},
   "source": [
    "### Corrleation"
   ]
  },
  {
   "cell_type": "code",
   "execution_count": null,
   "id": "c5e61eb9",
   "metadata": {},
   "outputs": [],
   "source": [
    "df4.corr()"
   ]
  },
  {
   "cell_type": "code",
   "execution_count": null,
   "id": "a564573d",
   "metadata": {},
   "outputs": [],
   "source": [
    "\tAveragePrice\tTotal Volume\t4046\t4225\t4770\tTotal Bags\tSmall Bags\tLarge Bags\tXLarge Bags\ttype\tregion\tYear\tMonth\n",
    "AveragePrice\t1.000000\t-0.332056\t-0.333577\t-0.243988\t-0.243465\t-0.297323\t-0.275771\t-0.270915\t-0.152669\t0.613150\t-0.003242\t0.091704\t0.149502\n",
    "Total Volume\t-0.332056\t1.000000\t0.876307\t0.871592\t0.647518\t0.912184\t0.905648\t0.640642\t0.513741\t-0.415476\t0.076676\t-0.004866\t-0.018645\n",
    "4046\t-0.333577\t0.876307\t1.000000\t0.565118\t0.492127\t0.727981\t0.706800\t0.561060\t0.415432\t-0.341376\t0.119067\t-0.034636\t-0.015797\n",
    "4225\t-0.243988\t0.871592\t0.565118\t1.000000\t0.620221\t0.757786\t0.778761\t0.451711\t0.392030\t-0.383138\t0.011002\t-0.040234\t-0.019844\n",
    "4770\t-0.243465\t0.647518\t0.492127\t0.620221\t1.000000\t0.557980\t0.571512\t0.323747\t0.495976\t-0.321809\t-0.095972\t-0.082054\t-0.027245\n",
    "Total Bags\t-0.297323\t0.912184\t0.727981\t0.757786\t0.557980\t1.000000\t0.978213\t0.746946\t0.581690\t-0.378205\t0.085892\t0.103442\t-0.010916\n",
    "Small Bags\t-0.275771\t0.905648\t0.706800\t0.778761\t0.571512\t0.978213\t1.000000\t0.593155\t0.597700\t-0.367593\t0.065976\t0.086639\t-0.013018\n",
    "Large Bags\t-0.270915\t0.640642\t0.561060\t0.451711\t0.323747\t0.746946\t0.593155\t1.000000\t0.296864\t-0.286813\t0.127635\t0.119543\t-0.001457\n",
    "XLarge Bags\t-0.152669\t0.513741\t0.415432\t0.392030\t0.495976\t0.581690\t0.597700\t0.296864\t1.000000\t-0.263734\t-0.044338\t0.108209\t0.002843\n",
    "type\t0.613150\t-0.415476\t-0.341376\t-0.383138\t-0.321809\t-0.378205\t-0.367593\t-0.286813\t-0.263734\t1.000000\t0.018409\t0.003867\t-0.009499\n",
    "region\t-0.003242\t0.076676\t0.119067\t0.011002\t-0.095972\t0.085892\t0.065976\t0.127635\t-0.044338\t0.018409\t1.000000\t-0.004417\t0.000119\n",
    "Year\t0.091704\t-0.004866\t-0.034636\t-0.040234\t-0.082054\t0.103442\t0.086639\t0.119543\t0.108209\t0.003867\t-0.004417\t1.000000\t-0.175287\n",
    "Month\t0.149502\t-0.018645\t-0.015797\t-0.019844\t-0.027245\t-0.010916\t-0.013018\t-0.001457\t0.002843\t-0.009499\t0.000119\t-0.175287\t1.000000"
   ]
  },
  {
   "cell_type": "code",
   "execution_count": null,
   "id": "ed153dc9",
   "metadata": {},
   "outputs": [],
   "source": [
    "plt.figure(figsize=(25,18))\n",
    "sns.heatmap(df4.corr(), vmin=-1, vmax=1, annot=True, square=True, fmt='0.3f', \n",
    "            annot_kws={'size':10}, cmap=\"gist_stern\")\n",
    "plt.xticks(fontsize=12)\n",
    "plt.yticks(fontsize=12)\n",
    "plt.show()"
   ]
  },
  {
   "cell_type": "code",
   "execution_count": null,
   "id": "734c4799",
   "metadata": {},
   "outputs": [],
   "source": [
    "plt.figure(figsize = (18,6))\n",
    "df4.corr()['AveragePrice'].drop(['AveragePrice']).plot(kind='bar',color = 'c')\n",
    "plt.xlabel('Features',fontsize=15)\n",
    "plt.ylabel('AveragePrice',fontsize=15)\n",
    "plt.title('Correlation of features with Target Variable Average Price',fontsize = 18)\n",
    "plt.show("
   ]
  },
  {
   "cell_type": "code",
   "execution_count": null,
   "id": "a2ff0fec",
   "metadata": {},
   "outputs": [],
   "source": [
    "df4.head()"
   ]
  },
  {
   "cell_type": "markdown",
   "id": "eb850cc4",
   "metadata": {},
   "source": [
    "AveragePrice\tTotal Volume\t4046\t4225\t4770\tTotal Bags\tSmall Bags\tLarge Bags\tXLarge Bags\ttype\tregion\tYear\tMonth\n",
    "0\t1.33\t64236.62\t1036.74\t54454.85\t48.16\t8696.87\t8603.62\t93.25\t0.0\t0\t0\t2015\t12\n",
    "1\t1.35\t54876.98\t674.28\t44638.81\t58.33\t9505.56\t9408.07\t97.49\t0.0\t0\t0\t2015\t12\n",
    "2\t0.93\t118220.22\t794.70\t109149.67\t130.50\t8145.35\t8042.21\t103.14\t0.0\t0\t0\t2015\t12\n",
    "3\t1.08\t78992.15\t1132.00\t71976.41\t72.58\t5811.16\t5677.40\t133.76\t0.0\t0\t0\t2015\t12\n",
    "4\t1.28\t51039.60\t941.48\t43838.39\t75.78\t6183.95\t5986.26\t197.69\t0.0\t0\t0\t2015\t11\n",
    "Almost all features are highly negatively correlated with the target variable and only type,year,month have positive correlation with the target.\n",
    "\n",
    "Small bags are highly correlated with Total Bags correlation coeffient 0.978. It is natural as most of bags are small.\n",
    "Total volume is highly correleated 4046.\n",
    "Comment:\n",
    "We are going to remove some of columns which are not reqire for further analysis\n",
    "\n",
    "4046,4225,4770 are shows multicollinearity with Total Volume. These feature are nothing but Total avacado sold under particular grade, which are already counted in Total Volume. As we do not have any price data according each grade of avacado. These feature doesnot have any meaning in ML model.So gone drop them.\n",
    "Same goes with Total bags. Total bags is sum of all other type of bags. We gone keep drop Total bags and going to keep other differnt size bags counts features.\n",
    "Next is region feature, we also going drop this as it very poorly correlated with other features."
   ]
  },
  {
   "cell_type": "code",
   "execution_count": null,
   "id": "19007a88",
   "metadata": {},
   "outputs": [],
   "source": [
    "df4.drop(columns=['4046','4225','4770','region','Total Bags'],axis=1, inplace=True)"
   ]
  },
  {
   "cell_type": "markdown",
   "id": "a10aa7f2",
   "metadata": {},
   "source": [
    "### Checking Multicollinearity between features using variance_inflation_factor"
   ]
  },
  {
   "cell_type": "code",
   "execution_count": null,
   "id": "8dc11130",
   "metadata": {},
   "outputs": [],
   "source": [
    "from statsmodels.stats.outliers_influence import variance_inflation_factor\n",
    "vif= pd.DataFrame()\n",
    "vif['VIF']= [variance_inflation_factor(df4.values,i) for i in range(df4.shape[1])]\n",
    "vif['Features']= df4.columns\n",
    "vif"
   ]
  },
  {
   "cell_type": "code",
   "execution_count": null,
   "id": "e5d7b52a",
   "metadata": {},
   "outputs": [],
   "source": [
    "VIF\tFeatures\n",
    "0\t24.367038\tAveragePrice\n",
    "1\t7.754106\tTotal Volume\n",
    "2\t7.707277\tSmall Bags\n",
    "3\t1.970395\tLarge Bags\n",
    "4\t1.693456\tXLarge Bags\n",
    "5\t3.643636\ttype\n",
    "6\t19.857116\tYear\n",
    "7\t4.212261\tMonth"
   ]
  },
  {
   "cell_type": "code",
   "execution_count": null,
   "id": "741d88c3",
   "metadata": {},
   "outputs": [],
   "source": [
    "Strategy to Address Multicollinearity :\n",
    "Removing Some of highly correlated features. But this will not work here as most of input features are correlated with each other either moderated or poorly.\n",
    "Another way to address Multicollinerity is to Scaled Data and then apply PCA.\n",
    "\n",
    "We will go by first way for further investigation. As For Independent feature VIF is within limit of 10 except year.\n",
    "\n",
    "We will drop Year as it is less than 20% correlated with target feature and For most of input features correlated with less than 10%."
   ]
  },
  {
   "cell_type": "code",
   "execution_count": null,
   "id": "e0fddfae",
   "metadata": {},
   "outputs": [],
   "source": [
    "df4.drop(columns=['Year'],axis=1, inplace=True)"
   ]
  },
  {
   "cell_type": "code",
   "execution_count": null,
   "id": "0ac64b27",
   "metadata": {},
   "outputs": [],
   "source": [
    "Checking correlation with target variable after removal of multicollinearity"
   ]
  },
  {
   "cell_type": "code",
   "execution_count": null,
   "id": "46b85e59",
   "metadata": {},
   "outputs": [],
   "source": [
    "plt.figure(figsize = (14,5))\n",
    "df4.corr()['AveragePrice'].drop(['AveragePrice']).plot(kind='bar',color = 'c')\n",
    "plt.xlabel('Features',fontsize=15)\n",
    "plt.ylabel('AveragePrice',fontsize=15)\n",
    "plt.title('Correlation of features with Target Variable Average Price',fontsize = 18)\n",
    "plt.show()"
   ]
  },
  {
   "cell_type": "markdown",
   "id": "a802034b",
   "metadata": {},
   "source": [
    "## Skewness of features"
   ]
  },
  {
   "cell_type": "code",
   "execution_count": null,
   "id": "e943f382",
   "metadata": {},
   "outputs": [],
   "source": [
    "df4.skew()"
   ]
  },
  {
   "cell_type": "markdown",
   "id": "af74c0b8",
   "metadata": {},
   "source": [
    "AveragePrice    0.377432\n",
    "Total Volume   -0.049950\n",
    "Small Bags     -0.788988\n",
    "Large Bags     -0.610874\n",
    "XLarge Bags     1.216238\n",
    "type           -0.037741\n",
    "Month           0.107408\n",
    "dtype: float64\n",
    "\n",
    "Transforming skewness through log transform"
   ]
  },
  {
   "cell_type": "code",
   "execution_count": null,
   "id": "e12a1129",
   "metadata": {},
   "outputs": [],
   "source": [
    "for col in df4.columns:\n",
    "    if df4.skew().loc[col]>0.55:\n",
    "        df4[col]=np.log1p(df4[col])"
   ]
  },
  {
   "cell_type": "markdown",
   "id": "c5b8898e",
   "metadata": {},
   "source": [
    "## Standard Scaling "
   ]
  },
  {
   "cell_type": "code",
   "execution_count": null,
   "id": "f49ada58",
   "metadata": {},
   "outputs": [],
   "source": [
    "X = df4.drop('AveragePrice', axis=1)\n",
    "Y = df4['AveragePrice']"
   ]
  },
  {
   "cell_type": "code",
   "execution_count": null,
   "id": "35007d85",
   "metadata": {},
   "outputs": [],
   "source": [
    "from sklearn.preprocessing import StandardScaler\n",
    "scaler= StandardScaler()\n",
    "X_scale = scaler.fit_transform(X)"
   ]
  },
  {
   "cell_type": "markdown",
   "id": "016937c5",
   "metadata": {},
   "source": [
    "## Machine Learning Model Building"
   ]
  },
  {
   "cell_type": "code",
   "execution_count": null,
   "id": "c9227dd3",
   "metadata": {},
   "outputs": [],
   "source": [
    "from sklearn.linear_model import LinearRegression\n",
    "from sklearn.linear_model import LogisticRegression\n",
    "from sklearn.ensemble import RandomForestRegressor\n",
    "from sklearn.tree import DecisionTreeRegressor\n",
    "from sklearn.svm import SVR\n",
    "from sklearn.ensemble import AdaBoostRegressor\n",
    "from sklearn.ensemble import  GradientBoostingRegressor\n",
    "from sklearn.neighbors import KNeighborsRegressor\n",
    "from sklearn.metrics import mean_squared_error, mean_absolute_error\n",
    "from sklearn.metrics import r2_score\n",
    "from sklearn.model_selection import train_test_split\n",
    "from sklearn.linear_model import  Ridge\n",
    "from sklearn.linear_model import  Lasso\n",
    "from xgboost import XGBRegressor"
   ]
  },
  {
   "cell_type": "code",
   "execution_count": null,
   "id": "73c21af5",
   "metadata": {},
   "outputs": [],
   "source": [
    "from sklearn.model_selection import train_test_split\n",
    "X_train, X_test, Y_train, Y_test = train_test_split(X_scale, Y, random_state=42, test_size=.33)\n",
    "print('Training feature matrix size:',X_train.shape)\n",
    "print('Training target vector size:',Y_train.shape)\n",
    "print('Test feature matrix size:',X_test.shape)\n",
    "print('Test target vector size:',Y_test.shape)"
   ]
  },
  {
   "cell_type": "markdown",
   "id": "9b641450",
   "metadata": {},
   "source": [
    "Training feature matrix size: (11826, 7)\n",
    "Training target vector size: (11826,)\n",
    "Test feature matrix size: (5825, 7)\n",
    "Test target vector size: (5825,)"
   ]
  },
  {
   "cell_type": "code",
   "execution_count": null,
   "id": "2fdda75d",
   "metadata": {},
   "outputs": [],
   "source": [
    "from sklearn.linear_model import LinearRegression\n",
    "from sklearn.metrics import r2_score\n",
    "maxR2_score=0\n",
    "maxRS=0\n",
    "for i in range(1,1000):\n",
    "    X_train, X_test, Y_train, Y_test = train_test_split(X_scale, Y, random_state=i, test_size=.33)\n",
    "    lin_reg=LinearRegression()\n",
    "    lin_reg.fit(X_train,Y_train)\n",
    "    y_pred=lin_reg.predict(X_test)\n",
    "    R2=r2_score(Y_test,y_pred)\n",
    "    if R2>maxR2_score:\n",
    "        maxR2_score=R2\n",
    "        maxRS=i\n",
    "print('Best R2 Score is', maxR2_score ,'on Random_state', maxRS)"
   ]
  },
  {
   "cell_type": "markdown",
   "id": "40f9900f",
   "metadata": {},
   "source": [
    "Best R2 Score is 0.4939091678972064 on Random_state 557"
   ]
  },
  {
   "cell_type": "markdown",
   "id": "5f6de6a1",
   "metadata": {},
   "source": [
    "## Linear Regression : Base model"
   ]
  },
  {
   "cell_type": "code",
   "execution_count": null,
   "id": "d9aea0da",
   "metadata": {},
   "outputs": [],
   "source": [
    "from sklearn.linear_model import LinearRegression\n",
    "from sklearn.model_selection import train_test_split\n",
    "X_train, X_test, Y_train, Y_test = train_test_split(X_scale, Y, random_state=557, test_size=.33)\n",
    "lin_reg=LinearRegression()\n",
    "lin_reg.fit(X_train,Y_train)\n",
    "lin_reg.score(X_train,Y_train)\n",
    "y_pred=lin_reg.predict(X_test)\n",
    "print('\\033[1m'+'Predicted Wins:'+'\\033[0m\\n',y_pred)\n",
    "print('\\n')\n",
    "print('\\033[1m'+'Actual Wins:'+'\\033[0m\\n',Y_test)"
   ]
  },
  {
   "cell_type": "markdown",
   "id": "f0442db9",
   "metadata": {},
   "source": [
    "Predicted Wins:\n",
    " [1.21356397 1.14040336 1.63711137 ... 1.68273139 1.55490485 1.54940571]\n",
    "\n",
    "\n",
    "Actual Wins:\n",
    " 8841     1.35\n",
    "859      1.19\n",
    "17369    2.09\n",
    "11190    1.05\n",
    "14051    2.03\n",
    "         ... \n",
    "5452     1.05\n",
    "3489     1.35\n",
    "14534    1.22\n",
    "11925    1.71\n",
    "11077    1.83\n",
    "Name: AveragePrice, Length: 5825, dtype: float64"
   ]
  },
  {
   "cell_type": "markdown",
   "id": "859f7a17",
   "metadata": {},
   "source": [
    "## Linear Regression Evaluation Matrix "
   ]
  },
  {
   "cell_type": "code",
   "execution_count": null,
   "id": "4e9d528d",
   "metadata": {},
   "outputs": [],
   "source": [
    "from sklearn.metrics import mean_squared_error, mean_absolute_error\n",
    "from sklearn.metrics import r2_score\n",
    "print('\\033[1m'+' Error :'+'\\033[0m')\n",
    "print('Mean absolute error :', mean_absolute_error(Y_test,y_pred))\n",
    "print('Mean squared error :', mean_squared_error(Y_test,y_pred))\n",
    "print('Root Mean Squared Error:', np.sqrt(mean_squared_error(Y_test,y_pred)))\n",
    "print('\\n')\n",
    "from sklearn.metrics import r2_score\n",
    "print('\\033[1m'+' R2 Score :'+'\\033[0m')\n",
    "print(r2_score(Y_test,y_pred,multioutput='variance_weighted'))"
   ]
  },
  {
   "cell_type": "markdown",
   "id": "c007641f",
   "metadata": {},
   "source": [
    "Error :\n",
    "Mean absolute error : 0.21979052387633422\n",
    "Mean squared error : 0.07717610152240077\n",
    "Root Mean Squared Error: 0.27780587020867786\n",
    "\n",
    "\n",
    " R2 Score :\n",
    "0.4939091678972064"
   ]
  },
  {
   "cell_type": "code",
   "execution_count": null,
   "id": "b51c729e",
   "metadata": {},
   "outputs": [],
   "source": [
    "# Cross Validation\n",
    "from sklearn.model_selection import cross_val_score\n",
    "score = cross_val_score(lin_reg, X_scale, Y, cv =5)\n",
    "print('\\033[1m'+'Cross Validation Score :',lin_reg,\":\"+'\\033[0m\\n')\n",
    "print(\"Mean CV Score :\",score.mean())"
   ]
  },
  {
   "cell_type": "code",
   "execution_count": null,
   "id": "21821167",
   "metadata": {},
   "outputs": [],
   "source": [
    "Cross Validation Score : LinearRegression() :\n",
    "\n",
    "Mean CV Score : 0.11426657283175634"
   ]
  },
  {
   "cell_type": "markdown",
   "id": "08592fb9",
   "metadata": {},
   "source": [
    "## Applying other Regression Model, Evaluation & Crossvalidation"
   ]
  },
  {
   "cell_type": "code",
   "execution_count": null,
   "id": "07c8ac76",
   "metadata": {},
   "outputs": [],
   "source": [
    "rf = RandomForestRegressor(n_estimators = 70 ,max_depth=25)\n",
    "dtc = DecisionTreeRegressor()\n",
    "adb=AdaBoostRegressor(learning_rate=0.1)\n",
    "gradb=GradientBoostingRegressor(max_depth=25,learning_rate=0.1)\n",
    "rd=Ridge(alpha=0.01)\n",
    "xgb=XGBRegressor()\n",
    "model = [rf,rd,dtc,adb,gradb,xgb]\n",
    "\n",
    "for m in model:\n",
    "    m.fit(X_train,Y_train)\n",
    "    m.score(X_train,Y_train)\n",
    "    y_pred = m.predict(X_test)\n",
    "    print('\\n')                                        \n",
    "    print('\\033[1m'+' Error of ', m, ':' +'\\033[0m')\n",
    "    print('Mean absolute error :', mean_absolute_error(Y_test,y_pred))\n",
    "    print('Mean squared error :', mean_squared_error(Y_test,y_pred))\n",
    "    print('Root Mean Squared Error:', np.sqrt(mean_squared_error(Y_test,y_pred)))\n",
    "    print('\\n')\n",
    "\n",
    "    print('\\033[1m'+' R2 Score :'+'\\033[0m')\n",
    "    print(r2_score(Y_test,y_pred)) \n",
    "    print('==============================================================================================================')\n"
   ]
  },
  {
   "cell_type": "markdown",
   "id": "928712e3",
   "metadata": {},
   "source": [
    " Error of  RandomForestRegressor(max_depth=25, n_estimators=70) :\n",
    "Mean absolute error : 0.12780319771087356\n",
    "Mean squared error : 0.03214935042144449\n",
    "Root Mean Squared Error: 0.17930239937447712\n",
    "\n",
    "\n",
    " R2 Score :\n",
    "0.7891770744388981\n",
    "==============================================================================================================\n",
    "\n",
    "\n",
    " Error of  Ridge(alpha=0.01) :\n",
    "Mean absolute error : 0.21979052523696896\n",
    "Mean squared error : 0.07717610538207384\n",
    "Root Mean Squared Error: 0.27780587715538674\n",
    "\n",
    "\n",
    " R2 Score :\n",
    "0.4939091425869728\n",
    "==============================================================================================================\n",
    "\n",
    "\n",
    " Error of  DecisionTreeRegressor() :\n",
    "Mean absolute error : 0.16529957081545063\n",
    "Mean squared error : 0.061617768240343346\n",
    "Root Mean Squared Error: 0.24822926547920038\n",
    "\n",
    "\n",
    " R2 Score :\n",
    "0.5959346613015808\n",
    "==============================================================================================================\n",
    "\n",
    "\n",
    " Error of  AdaBoostRegressor(learning_rate=0.1) :\n",
    "Mean absolute error : 0.21065115082284322\n",
    "Mean squared error : 0.07155921757582198\n",
    "Root Mean Squared Error: 0.2675055468131866\n",
    "\n",
    "\n",
    " R2 Score :\n",
    "0.530742506382486\n",
    "==============================================================================================================\n",
    "\n",
    "\n",
    " Error of  GradientBoostingRegressor(max_depth=25) :\n",
    "Mean absolute error : 0.1609682114589016\n",
    "Mean squared error : 0.05858557506002484\n",
    "Root Mean Squared Error: 0.2420445724655375\n",
    "\n",
    "\n",
    " R2 Score :\n",
    "0.6158186038621983\n",
    "==============================================================================================================\n",
    "\n",
    "\n",
    " Error of  XGBRegressor(base_score=0.5, booster='gbtree', colsample_bylevel=1,\n",
    "             colsample_bynode=1, colsample_bytree=1, enable_categorical=False,\n",
    "             gamma=0, gpu_id=-1, importance_type=None,\n",
    "             interaction_constraints='', learning_rate=0.300000012,\n",
    "             max_delta_step=0, max_depth=6, min_child_weight=1, missing=nan,\n",
    "             monotone_constraints='()', n_estimators=100, n_jobs=4,\n",
    "             num_parallel_tree=1, predictor='auto', random_state=0, reg_alpha=0,\n",
    "             reg_lambda=1, scale_pos_weight=1, subsample=1, tree_method='exact',\n",
    "             validate_parameters=1, verbosity=None) :\n",
    "Mean absolute error : 0.14567496242605055\n",
    "Mean squared error : 0.03816327622289302\n",
    "Root Mean Squared Error: 0.1953542326720694\n",
    "\n",
    "\n",
    " R2 Score :\n",
    "0.7497400900224707\n",
    "=============================================================================================================="
   ]
  },
  {
   "cell_type": "code",
   "execution_count": null,
   "id": "20e7a1b5",
   "metadata": {},
   "outputs": [],
   "source": [
    "# Cross Validation\n",
    "model = [rf,rd,dtc,adb,gradb,xgb]\n",
    "\n",
    "for m in model:\n",
    "    score = cross_val_score(m, X_scale, Y, cv =5)\n",
    "    print('\\n')\n",
    "    print('\\033[1m'+'Cross Validation Score :',m,\":\"+'\\033[0m\\n')\n",
    "    print(\"Mean CV Score :\",score.mean())\n",
    "    print('==============================================================================================================')"
   ]
  },
  {
   "cell_type": "markdown",
   "id": "a9d6a7b5",
   "metadata": {},
   "source": [
    "\n",
    "Cross Validation Score : RandomForestRegressor(max_depth=25, n_estimators=70) :\n",
    "\n",
    "Mean CV Score : 0.00015292452647350797\n",
    "==============================================================================================================\n",
    "\n",
    "\n",
    "Cross Validation Score : Ridge(alpha=0.01) :\n",
    "\n",
    "Mean CV Score : 0.11426659304289377\n",
    "==============================================================================================================\n",
    "\n",
    "\n",
    "Cross Validation Score : DecisionTreeRegressor() :\n",
    "\n",
    "Mean CV Score : -0.524072685469789\n",
    "==============================================================================================================\n",
    "\n",
    "\n",
    "Cross Validation Score : AdaBoostRegressor(learning_rate=0.1) :\n",
    "\n",
    "Mean CV Score : 0.044297867990212715\n",
    "==============================================================================================================\n",
    "\n",
    "\n",
    "Cross Validation Score : GradientBoostingRegressor(max_depth=25) :\n",
    "\n",
    "Mean CV Score : -0.4560520961476427\n",
    "==============================================================================================================\n",
    "\n",
    "\n",
    "Cross Validation Score : XGBRegressor(base_score=0.5, booster='gbtree', colsample_bylevel=1,\n",
    "             colsample_bynode=1, colsample_bytree=1, enable_categorical=False,\n",
    "             gamma=0, gpu_id=-1, importance_type=None,\n",
    "             interaction_constraints='', learning_rate=0.300000012,\n",
    "             max_delta_step=0, max_depth=6, min_child_weight=1, missing=nan,\n",
    "             monotone_constraints='()', n_estimators=100, n_jobs=4,\n",
    "             num_parallel_tree=1, predictor='auto', random_state=0, reg_alpha=0,\n",
    "             reg_lambda=1, scale_pos_weight=1, subsample=1, tree_method='exact',\n",
    "             validate_parameters=1, verbosity=None) :\n",
    "\n",
    "Mean CV Score : 0.16049678500308112\n",
    "==============================================================================================================\n",
    "Among all Model Random Forest Regressor gave us maximum R2 score of 0.7891 and minimum RMSE value of 0.17930. So We will perform Hyper Parameter Tuning on Random Forest Regressor."
   ]
  },
  {
   "cell_type": "markdown",
   "id": "71fb0c0c",
   "metadata": {},
   "source": [
    "## Hyper Parameter Tuning : GridSearchCV"
   ]
  },
  {
   "cell_type": "code",
   "execution_count": null,
   "id": "f1d83e99",
   "metadata": {},
   "outputs": [],
   "source": [
    "from sklearn.model_selection import GridSearchCV"
   ]
  },
  {
   "cell_type": "code",
   "execution_count": null,
   "id": "1def5e49",
   "metadata": {},
   "outputs": [],
   "source": [
    "from sklearn.ensemble import RandomForestRegressor"
   ]
  },
  {
   "cell_type": "code",
   "execution_count": null,
   "id": "c3b0ff48",
   "metadata": {},
   "outputs": [],
   "source": [
    "parameter = {'n_estimators':[30,60,80],'max_depth': [10,20,40],\n",
    "             'min_samples_leaf':[5,10],'criterion':['mse','mae'],\n",
    "             'max_features':[\"auto\",\"sqrt\",\"log2\"]}"
   ]
  },
  {
   "cell_type": "code",
   "execution_count": null,
   "id": "de4839db",
   "metadata": {},
   "outputs": [],
   "source": [
    "GCV = GridSearchCV(RandomForestRegressor(),parameter,cv=5,n_jobs = -1,verbose = 3)"
   ]
  },
  {
   "cell_type": "code",
   "execution_count": null,
   "id": "1df649b7",
   "metadata": {},
   "outputs": [],
   "source": [
    "GCV.fit(X_train,Y_train)"
   ]
  },
  {
   "cell_type": "code",
   "execution_count": null,
   "id": "9f664a5a",
   "metadata": {},
   "outputs": [],
   "source": [
    "Fitting 5 folds for each of 108 candidates, totalling 540 fits"
   ]
  },
  {
   "cell_type": "code",
   "execution_count": null,
   "id": "60e78b39",
   "metadata": {},
   "outputs": [],
   "source": [
    " waited for almost hour for 2-3 times, but I did not get any output of Grid search CV. This May be due to computational Limitation. So I am going forward with Final Model by Manual defining parameter."
   ]
  },
  {
   "cell_type": "markdown",
   "id": "f5960dac",
   "metadata": {},
   "source": [
    "## Final Model"
   ]
  },
  {
   "cell_type": "code",
   "execution_count": null,
   "id": "99752eae",
   "metadata": {},
   "outputs": [],
   "source": [
    "from sklearn.ensemble import RandomForestRegressor\n",
    "Final_mod =  RandomForestRegressor(n_estimators=60 ,criterion = 'mse', max_depth= 20, max_features = 'auto',\n",
    "             min_samples_leaf = 5, min_samples_split = 10)\n",
    "Final_mod.fit(X_train,Y_train)\n",
    "y_pred=Final_mod.predict(X_test)\n",
    "print('\\n')                                        \n",
    "print('\\033[1m'+' Error in Final Model :' +'\\033[0m')\n",
    "print('Mean absolute error :', mean_absolute_error(Y_test,y_pred))\n",
    "print('Mean squared error :', mean_squared_error(Y_test,y_pred))\n",
    "print('Root Mean Squared Error:', np.sqrt(mean_squared_error(Y_test,y_pred)))\n",
    "print('\\n')\n",
    "print('\\033[1m'+' R2 Score of Final Model :'+'\\033[0m')\n",
    "print(r2_score(Y_test,y_pred)) \n",
    "print('\\n')"
   ]
  },
  {
   "cell_type": "code",
   "execution_count": null,
   "id": "8afa970c",
   "metadata": {},
   "outputs": [],
   "source": [
    " Error in Final Model :\n",
    "Mean absolute error : 0.11893122919391254\n",
    "Mean squared error : 0.028762262829485578\n",
    "Root Mean Squared Error: 0.16959440683432217\n",
    "\n",
    "\n",
    " R2 Score of Final Model :\n",
    "0.8246351955204817\n",
    "\n"
   ]
  },
  {
   "cell_type": "code",
   "execution_count": null,
   "id": "0af9b1ab",
   "metadata": {},
   "outputs": [],
   "source": [
    "plt.figure(figsize=(12,7))\n",
    "y_pred=Final_mod.predict(X_test)\n",
    "sns.swarmplot(Y_test.round(2), y_pred)\n",
    "print('\\033[1m'+' True Values Vs Predicted Value plot :' +'\\033[0m')\n",
    "plt.xlabel('True Values' , fontsize=15)\n",
    "plt.ylabel('Predictions', fontsize=15)\n",
    "plt.tight_layout()"
   ]
  },
  {
   "cell_type": "markdown",
   "id": "a5230d70",
   "metadata": {},
   "source": [
    " ## Saving model"
   ]
  },
  {
   "cell_type": "code",
   "execution_count": null,
   "id": "74554b65",
   "metadata": {},
   "outputs": [],
   "source": [
    "import joblib\n",
    "joblib.dump(Final_mod,'Avacado_Final.pkl')"
   ]
  },
  {
   "cell_type": "code",
   "execution_count": null,
   "id": "1397cef3",
   "metadata": {},
   "outputs": [],
   "source": [
    "['Avacado_Final.pkl']"
   ]
  }
 ],
 "metadata": {
  "kernelspec": {
   "display_name": "Python 3 (ipykernel)",
   "language": "python",
   "name": "python3"
  },
  "language_info": {
   "codemirror_mode": {
    "name": "ipython",
    "version": 3
   },
   "file_extension": ".py",
   "mimetype": "text/x-python",
   "name": "python",
   "nbconvert_exporter": "python",
   "pygments_lexer": "ipython3",
   "version": "3.9.12"
  }
 },
 "nbformat": 4,
 "nbformat_minor": 5
}
