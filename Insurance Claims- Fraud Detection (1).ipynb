{
 "cells": [
  {
   "cell_type": "markdown",
   "id": "ed82856f",
   "metadata": {},
   "source": [
    "# Insurance Claims- Fraud Detection"
   ]
  },
  {
   "cell_type": "markdown",
   "id": "0e21fc4e",
   "metadata": {},
   "source": [
    "#### Importing all the necessary libraries here."
   ]
  },
  {
   "cell_type": "code",
   "execution_count": null,
   "id": "cae6ae40",
   "metadata": {},
   "outputs": [],
   "source": [
    "import warnings\n",
    "warnings.simplefilter(\"ignore\")\n",
    "warnings.filterwarnings(\"iganore\")\n",
    "import joblib\n",
    "\n",
    "import pandas as pd\n",
    "import numpy as np\n",
    "import seaborn as sns\n",
    "import missingno\n",
    "import matplotlib.pyplot as plt\n",
    "%matplotlib inline\n",
    "\n",
    "from scipy.stats import zscore\n",
    "from imblearn.over_sampling import SMOTE\n",
    "from sklearn.preprocessing import LabelEncoder\n",
    "from sklearn.preprocessing import OrdinalEncoder\n",
    "from sklearn.preprocessing import StandardScaler\n",
    "from sklearn.model_selection import train_test_split\n",
    "from sklearn.linear_model import LogisticRegression\n",
    "from sklearn.svm import SVC\n",
    "from sklearn.tree import DecisionTreeClassifier\n",
    "from sklearn.ensemble import RandomForestClassifier\n",
    "from sklearn.ensemble import ExtraTreesClassifier\n",
    "from sklearn.neighbors import KNeighborsClassifier\n",
    "import xgboost as xgb\n",
    "import lightgbm as lgb\n",
    "\n",
    "from sklearn import metrics\n",
    "from sklearn.metrics import classification_report\n",
    "from sklearn.metrics import accuracy_score\n",
    "from sklearn.model_selection import cross_val_score\n",
    "from sklearn.model_selection import GridSearchCV"
   ]
  },
  {
   "cell_type": "markdown",
   "id": "e1881d23",
   "metadata": {},
   "source": [
    "#### Instead of downloading the entire dataset on my local computer I am simply loading the file directly from the GitHub repository link using the raw option."
   ]
  },
  {
   "cell_type": "code",
   "execution_count": null,
   "id": "876dbe3d",
   "metadata": {},
   "outputs": [],
   "source": [
    "import pandas as pd\n",
    "\n",
    "#Data Loading\n",
    "\n",
    "datapath = \"insurance_claims.csv\"\n",
    "\n",
    "data = pd.read_csv(datapath)\n",
    "\n",
    "original_data = data.copy()\n",
    "\n",
    "data.head()"
   ]
  },
  {
   "cell_type": "code",
   "execution_count": null,
   "id": "f5d48364",
   "metadata": {},
   "outputs": [],
   "source": [
    "months_as_customer\tage\tpolicy_number\tpolicy_bind_date\tpolicy_state\tpolicy_csl\tpolicy_deductable\tpolicy_annual_premium\tumbrella_limit\tinsured_zip\t...\tpolice_report_available\ttotal_claim_amount\tinjury_claim\tproperty_claim\tvehicle_claim\tauto_make\tauto_model\tauto_year\tfraud_reported\t_c39\n",
    "0\t328\t48\t521585\t2014-10-17\tOH\t250/500\t1000\t1406.91\t0\t466132\t...\tYES\t71610\t6510\t13020\t52080\tSaab\t92x\t2004\tY\tNaN\n",
    "1\t228\t42\t342868\t2006-06-27\tIN\t250/500\t2000\t1197.22\t5000000\t468176\t...\t?\t5070\t780\t780\t3510\tMercedes\tE400\t2007\tY\tNaN\n",
    "2\t134\t29\t687698\t2000-09-06\tOH\t100/300\t2000\t1413.14\t5000000\t430632\t...\tNO\t34650\t7700\t3850\t23100\tDodge\tRAM\t2007\tN\tNaN\n",
    "3\t256\t41\t227811\t1990-05-25\tIL\t250/500\t2000\t1415.74\t6000000\t608117\t...\tNO\t63400\t6340\t6340\t50720\tChevrolet\tTahoe\t2014\tY\tNaN\n",
    "4\t228\t44\t367455\t2014-06-06\tIL\t500/1000\t1000\t1583.91\t6000000\t610706\t...\tNO\t6500\t1300\t650\t4550\tAccura\tRSX\t2009\tN\tNaN\n",
    "5 rows × 40 columns"
   ]
  },
  {
   "cell_type": "code",
   "execution_count": null,
   "id": "ede4a720",
   "metadata": {},
   "outputs": [],
   "source": [
    "#Data Exploration\n",
    "\n",
    "data.columns"
   ]
  },
  {
   "cell_type": "markdown",
   "id": "5a7e0f89",
   "metadata": {},
   "source": [
    "Index(['months_as_customer', 'age', 'policy_number', 'policy_bind_date',\n",
    "       'policy_state', 'policy_csl', 'policy_deductable',\n",
    "       'policy_annual_premium', 'umbrella_limit', 'insured_zip', 'insured_sex',\n",
    "       'insured_education_level', 'insured_occupation', 'insured_hobbies',\n",
    "       'insured_relationship', 'capital-gains', 'capital-loss',\n",
    "       'incident_date', 'incident_type', 'collision_type', 'incident_severity',\n",
    "       'authorities_contacted', 'incident_state', 'incident_city',\n",
    "       'incident_location', 'incident_hour_of_the_day',\n",
    "       'number_of_vehicles_involved', 'property_damage', 'bodily_injuries',\n",
    "       'witnesses', 'police_report_available', 'total_claim_amount',\n",
    "       'injury_claim', 'property_claim', 'vehicle_claim', 'auto_make',\n",
    "       'auto_model', 'auto_year', 'fraud_reported', '_c39'],\n",
    "      dtype='object')"
   ]
  },
  {
   "cell_type": "code",
   "execution_count": null,
   "id": "8191de72",
   "metadata": {},
   "outputs": [],
   "source": [
    "data.shape"
   ]
  },
  {
   "cell_type": "markdown",
   "id": "6ea83e4b",
   "metadata": {},
   "source": [
    "(1000, 40)"
   ]
  },
  {
   "cell_type": "code",
   "execution_count": null,
   "id": "a6a3c00b",
   "metadata": {},
   "outputs": [],
   "source": [
    "#check missing or null or any values\n",
    "print(\"Null Values: \" + str(data.isnull().any().sum()))"
   ]
  },
  {
   "cell_type": "markdown",
   "id": "74ca627b",
   "metadata": {},
   "source": [
    "Null Values: 1"
   ]
  },
  {
   "cell_type": "code",
   "execution_count": null,
   "id": "3fdf8fc7",
   "metadata": {},
   "outputs": [],
   "source": [
    "<matplotlib.axes._subplots.AxesSubplot at 0x20c39b2cbe0>"
   ]
  },
  {
   "cell_type": "code",
   "execution_count": null,
   "id": "b476132d",
   "metadata": {},
   "outputs": [],
   "source": [
    "#Annual premium of education level policy_annual_premium\n",
    "import matplotlib.pyplot as plt\n",
    "\n",
    "# plot data\n",
    "fig, ax = plt.subplots(figsize=(15,7))\n",
    "df_avg_prem = data.groupby(['insured_education_level', 'fraud_reported']).mean()['policy_annual_premium']\n",
    "df_avg_prem.unstack().plot(ax=ax)"
   ]
  },
  {
   "cell_type": "markdown",
   "id": "a904b968",
   "metadata": {},
   "source": [
    "<matplotlib.axes._subplots.AxesSubplot at 0x20c39c31a90>"
   ]
  },
  {
   "cell_type": "code",
   "execution_count": null,
   "id": "b56cfd05",
   "metadata": {},
   "outputs": [],
   "source": [
    "fig, ax = plt.subplots(figsize=(15,7))\n",
    "data.groupby(['insured_occupation', 'fraud_reported']).mean()['total_claim_amount'].unstack().plot(ax=ax)"
   ]
  },
  {
   "cell_type": "markdown",
   "id": "e3c1ac48",
   "metadata": {},
   "source": [
    "<matplotlib.axes._subplots.AxesSubplot at 0x20c39cad278>"
   ]
  },
  {
   "cell_type": "code",
   "execution_count": null,
   "id": "b3a7770b",
   "metadata": {},
   "outputs": [],
   "source": [
    "import numpy as np \n",
    "import seaborn as sns\n",
    "\n",
    "plt.figure(figsize=(20, 9))\n",
    "\n",
    "corr = data.corr()\n",
    "ax = sns.heatmap(\n",
    "    corr, \n",
    "    vmin=-1, vmax=1, center=0,\n",
    "    cmap=sns.diverging_palette(220, 10, as_cmap=True),\n",
    "    square=True\n",
    ")\n",
    "ax.set_xticklabels(\n",
    "    ax.get_xticklabels(),\n",
    "    rotation=45,\n",
    "    horizontalalignment='right'\n",
    ");"
   ]
  },
  {
   "cell_type": "code",
   "execution_count": null,
   "id": "02836606",
   "metadata": {},
   "outputs": [],
   "source": [
    "#Remove Less Correlated Columns\n",
    "deleteCols = [\"policy_number\", \"policy_bind_date\", \"insured_zip\", \"incident_location\", \"incident_date\", \"_c39\"]\n",
    "data = data.drop(deleteCols, axis=1)\n",
    "data"
   ]
  },
  {
   "cell_type": "markdown",
   "id": "66f8b6c8",
   "metadata": {},
   "source": [
    "\tmonths_as_customer\tage\tpolicy_state\tpolicy_csl\tpolicy_deductable\tpolicy_annual_premium\tumbrella_limit\tinsured_sex\tinsured_education_level\tinsured_occupation\t...\twitnesses\tpolice_report_available\ttotal_claim_amount\tinjury_claim\tproperty_claim\tvehicle_claim\tauto_make\tauto_model\tauto_year\tfraud_reported\n",
    "0\t328\t48\tOH\t250/500\t1000\t1406.91\t0\tMALE\tMD\tcraft-repair\t...\t2\tYES\t71610\t6510\t13020\t52080\tSaab\t92x\t2004\tY\n",
    "1\t228\t42\tIN\t250/500\t2000\t1197.22\t5000000\tMALE\tMD\tmachine-op-inspct\t...\t0\t?\t5070\t780\t780\t3510\tMercedes\tE400\t2007\tY\n",
    "2\t134\t29\tOH\t100/300\t2000\t1413.14\t5000000\tFEMALE\tPhD\tsales\t...\t3\tNO\t34650\t7700\t3850\t23100\tDodge\tRAM\t2007\tN\n",
    "3\t256\t41\tIL\t250/500\t2000\t1415.74\t6000000\tFEMALE\tPhD\tarmed-forces\t...\t2\tNO\t63400\t6340\t6340\t50720\tChevrolet\tTahoe\t2014\tY\n",
    "4\t228\t44\tIL\t500/1000\t1000\t1583.91\t6000000\tMALE\tAssociate\tsales\t...\t1\tNO\t6500\t1300\t650\t4550\tAccura\tRSX\t2009\tN\n",
    "...\t...\t...\t...\t...\t...\t...\t...\t...\t...\t...\t...\t...\t...\t...\t...\t...\t...\t...\t...\t...\t...\n",
    "995\t3\t38\tOH\t500/1000\t1000\t1310.80\t0\tFEMALE\tMasters\tcraft-repair\t...\t1\t?\t87200\t17440\t8720\t61040\tHonda\tAccord\t2006\tN\n",
    "996\t285\t41\tIL\t100/300\t1000\t1436.79\t0\tFEMALE\tPhD\tprof-specialty\t...\t3\t?\t108480\t18080\t18080\t72320\tVolkswagen\tPassat\t2015\tN\n",
    "997\t130\t34\tOH\t250/500\t500\t1383.49\t3000000\tFEMALE\tMasters\tarmed-forces\t...\t3\tYES\t67500\t7500\t7500\t52500\tSuburu\tImpreza\t1996\tN\n",
    "998\t458\t62\tIL\t500/1000\t2000\t1356.92\t5000000\tMALE\tAssociate\thandlers-cleaners\t...\t1\tYES\t46980\t5220\t5220\t36540\tAudi\tA5\t1998\tN\n",
    "999\t456\t60\tOH\t250/500\t1000\t766.19\t0\tFEMALE\tAssociate\tsales\t...\t3\t?\t5060\t460\t920\t3680\tMercedes\tE400\t2007\tN\n",
    "1000 rows × 34 columns"
   ]
  },
  {
   "cell_type": "code",
   "execution_count": null,
   "id": "08222987",
   "metadata": {},
   "outputs": [],
   "source": [
    "#Handle Categorical Data\n",
    "data.dtypes"
   ]
  },
  {
   "cell_type": "markdown",
   "id": "8af1ee42",
   "metadata": {},
   "source": [
    "months_as_customer               int64\n",
    "age                              int64\n",
    "policy_state                    object\n",
    "policy_csl                      object\n",
    "policy_deductable                int64\n",
    "policy_annual_premium          float64\n",
    "umbrella_limit                   int64\n",
    "insured_sex                     object\n",
    "insured_education_level         object\n",
    "insured_occupation              object\n",
    "insured_hobbies                 object\n",
    "insured_relationship            object\n",
    "capital-gains                    int64\n",
    "capital-loss                     int64\n",
    "incident_type                   object\n",
    "collision_type                  object\n",
    "incident_severity               object\n",
    "authorities_contacted           object\n",
    "incident_state                  object\n",
    "incident_city                   object\n",
    "incident_hour_of_the_day         int64\n",
    "number_of_vehicles_involved      int64\n",
    "property_damage                 object\n",
    "bodily_injuries                  int64\n",
    "witnesses                        int64\n",
    "police_report_available         object\n",
    "total_claim_amount               int64\n",
    "injury_claim                     int64\n",
    "property_claim                   int64\n",
    "vehicle_claim                    int64\n",
    "auto_make                       object\n",
    "auto_model                      object\n",
    "auto_year                        int64\n",
    "fraud_reported                  object\n",
    "dtype: object"
   ]
  },
  {
   "cell_type": "code",
   "execution_count": null,
   "id": "726c5891",
   "metadata": {},
   "outputs": [],
   "source": [
    "#One-hot encoding all categorical columns except output column(i.e. fraud_reported)\n",
    "list_hot_encoded = []\n",
    "for column in data.columns:\n",
    "    if(data[column].dtypes==object and column != 'fraud_reported'):\n",
    "        data = pd.concat([data, pd.get_dummies(data[column], prefix=column)], axis=1)\n",
    "        list_hot_encoded.append(column)\n",
    "#Drop hot-encoded columns\n",
    "data = data.drop(list_hot_encoded, axis=1)\n",
    "\n",
    "#Binary encoder for output column\n",
    "data['fraud_reported'] = data['fraud_reported'].map( {'Y':1, 'N':0})\n",
    "\n",
    "data "
   ]
  },
  {
   "cell_type": "markdown",
   "id": "1c3722b8",
   "metadata": {},
   "source": [
    "months_as_customer\tage\tpolicy_deductable\tpolicy_annual_premium\tumbrella_limit\tcapital-gains\tcapital-loss\tincident_hour_of_the_day\tnumber_of_vehicles_involved\tbodily_injuries\t...\tauto_model_Pathfinder\tauto_model_RAM\tauto_model_RSX\tauto_model_Silverado\tauto_model_TL\tauto_model_Tahoe\tauto_model_Ultima\tauto_model_Wrangler\tauto_model_X5\tauto_model_X6\n",
    "0\t328\t48\t1000\t1406.91\t0\t53300\t0\t5\t1\t1\t...\t0\t0\t0\t0\t0\t0\t0\t0\t0\t0\n",
    "1\t228\t42\t2000\t1197.22\t5000000\t0\t0\t8\t1\t0\t...\t0\t0\t0\t0\t0\t0\t0\t0\t0\t0\n",
    "2\t134\t29\t2000\t1413.14\t5000000\t35100\t0\t7\t3\t2\t...\t0\t1\t0\t0\t0\t0\t0\t0\t0\t0\n",
    "3\t256\t41\t2000\t1415.74\t6000000\t48900\t-62400\t5\t1\t1\t...\t0\t0\t0\t0\t0\t1\t0\t0\t0\t0\n",
    "4\t228\t44\t1000\t1583.91\t6000000\t66000\t-46000\t20\t1\t0\t...\t0\t0\t1\t0\t0\t0\t0\t0\t0\t0\n",
    "...\t...\t...\t...\t...\t...\t...\t...\t...\t...\t...\t...\t...\t...\t...\t...\t...\t...\t...\t...\t...\t...\n",
    "995\t3\t38\t1000\t1310.80\t0\t0\t0\t20\t1\t0\t...\t0\t0\t0\t0\t0\t0\t0\t0\t0\t0\n",
    "996\t285\t41\t1000\t1436.79\t0\t70900\t0\t23\t1\t2\t...\t0\t0\t0\t0\t0\t0\t0\t0\t0\t0\n",
    "997\t130\t34\t500\t1383.49\t3000000\t35100\t0\t4\t3\t2\t...\t0\t0\t0\t0\t0\t0\t0\t0\t0\t0\n",
    "998\t458\t62\t2000\t1356.92\t5000000\t0\t0\t2\t1\t0\t...\t0\t0\t0\t0\t0\t0\t0\t0\t0\t0\n",
    "999\t456\t60\t1000\t766.19\t0\t0\t0\t6\t1\t0\t...\t0\t0\t0\t0\t0\t0\t0\t0\t0\t0\n",
    "1000 rows × 162 columns"
   ]
  },
  {
   "cell_type": "code",
   "execution_count": null,
   "id": "d54461ea",
   "metadata": {},
   "outputs": [],
   "source": [
    "#Model Training\n",
    "from sklearn.metrics import confusion_matrix\n",
    "from sklearn.metrics import precision_score\n",
    "from sklearn.metrics import recall_score\n",
    "from sklearn.model_selection import train_test_split\n",
    "\n",
    "y = data['fraud_reported']\n",
    "X = data.drop(['fraud_reported'], axis=1)\n",
    "\n",
    "X_train, X_test, y_train, y_test = train_test_split(X, y, test_size=0.15, random_state=42)"
   ]
  },
  {
   "cell_type": "code",
   "execution_count": null,
   "id": "94e93464",
   "metadata": {},
   "outputs": [],
   "source": [
    "from sklearn import neighbors\n",
    "\n",
    "#K-Nearest Neighbors\n",
    "print(\"KNN Score :\")\n",
    "KNNClassifier = neighbors.KNeighborsClassifier(n_neighbors=12, weights='distance')\n",
    "KNNClassifier.fit(X=X_train,y=y_train)\n",
    "KNNClassifier.score(X_test,y_test)"
   ]
  },
  {
   "cell_type": "markdown",
   "id": "deaf3bdc",
   "metadata": {},
   "source": [
    "KNN Score :\n",
    "0.7333333333333333"
   ]
  },
  {
   "cell_type": "code",
   "execution_count": null,
   "id": "6c96d5ae",
   "metadata": {},
   "outputs": [],
   "source": [
    "KNN_y_predicted = KNNClassifier.predict(X_test)\n",
    "class_names = np.unique(np.array(y_test))\n",
    "confusion_matrix(y_test, KNN_y_predicted)"
   ]
  },
  {
   "cell_type": "code",
   "execution_count": null,
   "id": "bd960e09",
   "metadata": {},
   "outputs": [],
   "source": [
    "array([[108,   5],\n",
    "       [ 35,   2]], dtype=int64)"
   ]
  },
  {
   "cell_type": "code",
   "execution_count": null,
   "id": "a8da9baa",
   "metadata": {},
   "outputs": [],
   "source": [
    "from sklearn.metrics import classification_report\n",
    "from sklearn.model_selection import cross_val_score\n",
    "\n",
    "print(classification_report(y_test, KNN_y_predicted))\n",
    "\n",
    "scores = cross_val_score(KNNClassifier, X, y, cv=10, scoring='accuracy')\n",
    "knn_accuracy = scores.mean()\n",
    "print('Cross-Validated Accuracy: %0.2f' % knn_accuracy)\n",
    "              precision    recall  f1-score   support\n",
    "\n",
    "           0       0.76      0.96      0.84       113\n",
    "           1       0.29      0.05      0.09        37\n",
    "\n",
    "    accuracy                           0.73       150\n",
    "   macro avg       0.52      0.50      0.47       150\n",
    "weighted avg       0.64      0.73      0.66       150\n",
    "\n",
    "Cross-Validated Accuracy: 0.73"
   ]
  },
  {
   "cell_type": "code",
   "execution_count": null,
   "id": "eaee47f8",
   "metadata": {},
   "outputs": [],
   "source": [
    "from sklearn.metrics import roc_curve, auc\n",
    "knn_pred_prob = KNNClassifier.predict_proba(X_test)[:, 1]\n",
    "fpr, tpr, thresholds = roc_curve(y_test, knn_pred_prob)\n",
    "roc_auc = auc(fpr, tpr)\n",
    "lw = 2\n",
    "plt.plot(fpr, tpr,label='ROC curve KNN (AUC = %0.2f)' % roc_auc)\n",
    "plt.xlim([0.0, 1])\n",
    "plt.ylim([0.0, 1])\n",
    "plt.title('ROC curve for KNN CLASS 1')\n",
    "plt.xlabel('(1 - Specificity)')\n",
    "plt.ylabel('(Sensitivity)')\n",
    "plt.grid(True)\n",
    "plt.legend(loc=\"lower right\")\n",
    "plt.show()"
   ]
  },
  {
   "cell_type": "code",
   "execution_count": null,
   "id": "25b38db8",
   "metadata": {},
   "outputs": [],
   "source": [
    "from sklearn import tree\n",
    "\n",
    "#DecisionTree\n",
    "DTClassifier = tree.DecisionTreeClassifier()\n",
    "DTClassifier.fit(X_train, y_train) \n",
    "\n",
    "print(\"Decision Tree Score :\")\n",
    "DTClassifier.score(X_test,y_test)"
   ]
  },
  {
   "cell_type": "code",
   "execution_count": null,
   "id": "305fde42",
   "metadata": {},
   "outputs": [],
   "source": [
    "Decision Tree Score :\n",
    "0.8066666666666666"
   ]
  },
  {
   "cell_type": "code",
   "execution_count": null,
   "id": "a8a55770",
   "metadata": {},
   "outputs": [],
   "source": [
    "DT_y_predicted = DTClassifier.predict(X_test)\n",
    "class_names = np.unique(np.array(y_test))\n",
    "confusion_matrix(y_test, DT_y_predicted)"
   ]
  },
  {
   "cell_type": "code",
   "execution_count": null,
   "id": "a871bde9",
   "metadata": {},
   "outputs": [],
   "source": [
    "print(classification_report(y_test, DT_y_predicted))\n",
    "\n",
    "scores = cross_val_score(DTClassifier, X, y, cv=10, scoring='accuracy')\n",
    "dt_accuracy = scores.mean()\n",
    "print('Cross-Validated Accuracy: %0.2f' % dt_accuracy)"
   ]
  },
  {
   "cell_type": "markdown",
   "id": "2a49efb1",
   "metadata": {},
   "source": [
    " precision    recall  f1-score   support\n",
    "\n",
    "           0       0.89      0.85      0.87       113\n",
    "           1       0.60      0.68      0.63        37\n",
    "\n",
    "    accuracy                           0.81       150\n",
    "   macro avg       0.74      0.76      0.75       150\n",
    "weighted avg       0.82      0.81      0.81       150\n",
    "\n",
    "Cross-Validated Accuracy: 0.78"
   ]
  },
  {
   "cell_type": "code",
   "execution_count": null,
   "id": "bcd492a9",
   "metadata": {},
   "outputs": [],
   "source": [
    "from sklearn.metrics import roc_curve, auc\n",
    "dt_pred_prob = DTClassifier.predict_proba(X_test)[:, 1]\n",
    "fpr, tpr, thresholds = roc_curve(y_test, dt_pred_prob)\n",
    "roc_auc = auc(fpr, tpr)\n",
    "lw = 2\n",
    "plt.plot(fpr, tpr,label='ROC curve Decision Tree (AUC = %0.2f)' % roc_auc)\n",
    "plt.xlim([0.0, 1])\n",
    "plt.ylim([0.0, 1])\n",
    "plt.title('ROC curve for Decision Tree CLASS 1')\n",
    "plt.xlabel('(1 - Specificity)')\n",
    "plt.ylabel('(Sensitivity)')\n",
    "plt.grid(True)\n",
    "plt.legend(loc=\"lower right\")\n",
    "plt.show()"
   ]
  },
  {
   "cell_type": "code",
   "execution_count": null,
   "id": "6c5f0226",
   "metadata": {},
   "outputs": [],
   "source": [
    "SVM_y_predicted = SVMClassifier.predict(X_test)\n",
    "class_names = np.unique(np.array(y_test))\n",
    "confusion_matrix(y_test, SVM_y_predicted)"
   ]
  },
  {
   "cell_type": "markdown",
   "id": "7ea96033",
   "metadata": {},
   "source": [
    "array([[113,   0],\n",
    "       [ 37,   0]], dtype=int64)"
   ]
  },
  {
   "cell_type": "code",
   "execution_count": null,
   "id": "a2a2e940",
   "metadata": {},
   "outputs": [],
   "source": [
    "from sklearn.metrics import classification_report\n",
    "report = classification_report(y_test, SVM_y_predicted)\n",
    "print(report)\n",
    "\n",
    "scores = cross_val_score(SVMClassifier, X, y, cv=10, scoring='accuracy')\n",
    "svm_accuracy = scores.mean()\n",
    "print('Cross-Validated Accuracy: %0.2f' % svm_accuracy)"
   ]
  },
  {
   "cell_type": "code",
   "execution_count": null,
   "id": "5b113b75",
   "metadata": {},
   "outputs": [],
   "source": [
    "C:\\ProgramData\\Anaconda3\\lib\\site-packages\\sklearn\\metrics\\_classification.py:1272: UndefinedMetricWarning: Precision and F-score are ill-defined and being set to 0.0 in labels with no predicted samples. Use `zero_division` parameter to control this behavior.\n",
    "  _warn_prf(average, modifier, msg_start, len(result))\n",
    "              precision    recall  f1-score   support\n",
    "\n",
    "           0       0.75      1.00      0.86       113\n",
    "           1       0.00      0.00      0.00        37\n",
    "\n",
    "    accuracy                           0.75       150\n",
    "   macro avg       0.38      0.50      0.43       150\n",
    "weighted avg       0.57      0.75      0.65       150\n",
    "\n",
    "Cross-Validated Accuracy: 0.75"
   ]
  },
  {
   "cell_type": "code",
   "execution_count": null,
   "id": "b3101249",
   "metadata": {},
   "outputs": [],
   "source": [
    "svm_pred_prob = SVMClassifier.predict_proba(X_test)[:, 1]\n",
    "fpr, tpr, thresholds = roc_curve(y_test, svm_pred_prob)\n",
    "roc_auc = auc(fpr, tpr)\n",
    "lw = 2\n",
    "plt.plot(fpr, tpr,label='ROC curve SVM (AUC = %0.2f)' % roc_auc)\n",
    "plt.xlim([0.0, 1])\n",
    "plt.ylim([0.0, 1])\n",
    "plt.title('ROC curve for SVM CLASS 1')\n",
    "plt.xlabel('(1 - Specificity)')\n",
    "plt.ylabel('(Sensitivity)')\n",
    "plt.grid(True)\n",
    "plt.legend(loc=\"lower right\")\n",
    "plt.show()"
   ]
  },
  {
   "cell_type": "code",
   "execution_count": null,
   "id": "4cdf88c2",
   "metadata": {},
   "outputs": [],
   "source": [
    "from sklearn.ensemble import RandomForestClassifier\n",
    "from sklearn.model_selection import cross_val_score\n",
    "\n",
    "#Random Forest\n",
    "RFClassifier = RandomForestClassifier()\n",
    "RFClassifier.fit(X_train, y_train) \n",
    "print(\"Random Forest Score :\")\n",
    "RFClassifier.score(X_test,y_test)"
   ]
  },
  {
   "cell_type": "markdown",
   "id": "4335acd0",
   "metadata": {},
   "source": [
    "Random Forest Score :\n",
    "0.7466666666666667"
   ]
  },
  {
   "cell_type": "code",
   "execution_count": null,
   "id": "d221d281",
   "metadata": {},
   "outputs": [],
   "source": [
    "RF_y_predicted = RFClassifier.predict(X_test)\n",
    "class_names = np.unique(np.array(y_test))\n",
    "confusion_matrix(y_test, RF_y_predicted)"
   ]
  },
  {
   "cell_type": "markdown",
   "id": "34b4dc8d",
   "metadata": {},
   "source": [
    "array([[102,  11],\n",
    "       [ 27,  10]], dtype=int64)"
   ]
  },
  {
   "cell_type": "code",
   "execution_count": null,
   "id": "a5ebcb0b",
   "metadata": {},
   "outputs": [],
   "source": [
    "from sklearn.metrics import classification_report\n",
    "report = classification_report(y_test, RF_y_predicted)\n",
    "print(report)\n",
    "\n",
    "scores = cross_val_score(RFClassifier, X, y, cv=10, scoring='accuracy')\n",
    "rf_accuracy = scores.mean()\n",
    "print('Cross-Validated Accuracy: %0.2f' % rf_accuracy"
   ]
  },
  {
   "cell_type": "markdown",
   "id": "feec8ed1",
   "metadata": {},
   "source": [
    " precision    recall  f1-score   support\n",
    "\n",
    "           0       0.79      0.90      0.84       113\n",
    "           1       0.48      0.27      0.34        37\n",
    "\n",
    "    accuracy                           0.75       150\n",
    "   macro avg       0.63      0.59      0.59       150\n",
    "weighted avg       0.71      0.75      0.72       150\n",
    "\n",
    "Cross-Validated Accuracy: 0.78"
   ]
  },
  {
   "cell_type": "code",
   "execution_count": null,
   "id": "dadfb4c8",
   "metadata": {},
   "outputs": [],
   "source": [
    "from sklearn.metrics import roc_curve, auc\n",
    "rf_pred_prob = RFClassifier.predict_proba(X_test)[:, 1]\n",
    "fpr, tpr, thresholds = roc_curve(y_test, rf_pred_prob)\n",
    "roc_auc = auc(fpr, tpr)\n",
    "lw = 2\n",
    "plt.plot(fpr, tpr,label='ROC curve  Random Forest (AUC = %0.2f)' % roc_auc)\n",
    "plt.xlim([0.0, 1])\n",
    "plt.ylim([0.0, 1])\n",
    "plt.title('ROC curve for  random forest CLASS 1')\n",
    "plt.xlabel('(1 - Specificity)')\n",
    "plt.ylabel('(Sensitivity)')\n",
    "plt.grid(True)\n",
    "plt.legend(loc=\"lower right\")\n",
    "plt.show()\n"
   ]
  },
  {
   "cell_type": "code",
   "execution_count": null,
   "id": "13b2cad8",
   "metadata": {},
   "outputs": [],
   "source": [
    "from imblearn.ensemble import BalancedRandomForestClassifier\n",
    "#Balanced Random Forest\n",
    "BRFClassifier=BalancedRandomForestClassifier()\n",
    "BRFClassifier.fit(X_train, y_train) \n",
    "print(\"Balanced Random Forest Score :\")\n",
    "BRFClassifier.score(X_test,y_test)"
   ]
  },
  {
   "cell_type": "markdown",
   "id": "d5bcd8ad",
   "metadata": {},
   "source": [
    "Balanced Random Forest Score :\n",
    "0.7866666666666666"
   ]
  },
  {
   "cell_type": "code",
   "execution_count": null,
   "id": "729db61c",
   "metadata": {},
   "outputs": [],
   "source": [
    "BRF_y_predicted = BRFClassifier.predict(X_test)\n",
    "report = classification_report(y_test, BRF_y_predicted)\n",
    "print(report)\n",
    "\n",
    "scores = cross_val_score(BRFClassifier, X, y, cv=10, scoring='accuracy')\n",
    "brf_accuracy = scores.mean()\n",
    "print('Cross-Validated Accuracy: %0.2f' % brf_accuracy)"
   ]
  },
  {
   "cell_type": "markdown",
   "id": "fd0eb330",
   "metadata": {},
   "source": [
    "precision    recall  f1-score   support\n",
    "\n",
    "           0       0.88      0.83      0.85       113\n",
    "           1       0.56      0.65      0.60        37\n",
    "\n",
    "    accuracy                           0.79       150\n",
    "   macro avg       0.72      0.74      0.73       150\n",
    "weighted avg       0.80      0.79      0.79       150\n",
    "\n",
    "Cross-Validated Accuracy: 0.83"
   ]
  },
  {
   "cell_type": "code",
   "execution_count": null,
   "id": "785992cc",
   "metadata": {},
   "outputs": [],
   "source": [
    "brf_pred_prob = BRFClassifier.predict_proba(X_test)[:, 1]\n",
    "fpr, tpr, thresholds = roc_curve(y_test, brf_pred_prob)\n",
    "roc_auc = auc(fpr, tpr)\n",
    "lw = 2\n",
    "plt.plot(fpr, tpr,label='ROC curve Balanced Random Forest (AUC = %0.2f)' % roc_auc)\n",
    "plt.xlim([0.0, 1])\n",
    "plt.ylim([0.0, 1])\n",
    "plt.title('ROC curve for Balanced random forest CLASS 1')\n",
    "plt.xlabel('(1 - Specificity)')\n",
    "plt.ylabel('(Sensitivity)')\n",
    "plt.grid(True)\n",
    "plt.legend(loc=\"lower right\")\n",
    "plt.show()"
   ]
  },
  {
   "cell_type": "code",
   "execution_count": null,
   "id": "212ac4de",
   "metadata": {},
   "outputs": [],
   "source": [
    "#LDA model\n",
    "from sklearn.discriminant_analysis import LinearDiscriminantAnalysis as LDA\n",
    "lda = LDA()\n",
    "lda.fit(X_train, y_train) \n",
    "print(\"Linear Discriminant Analysis Score :\")\n",
    "lda.score(X_test,y_test)"
   ]
  },
  {
   "cell_type": "code",
   "execution_count": null,
   "id": "cb3d3102",
   "metadata": {},
   "outputs": [],
   "source": [
    "Linear Discriminant Analysis Score :\n",
    "0.8266666666666667"
   ]
  },
  {
   "cell_type": "code",
   "execution_count": null,
   "id": "f00eea1a",
   "metadata": {},
   "outputs": [],
   "source": [
    "lda_y_predicted = lda.predict(X_test)\n",
    "report = classification_report(y_test, lda_y_predicted)\n",
    "print(report)\n",
    "\n",
    "scores = cross_val_score(lda, X, y, cv=10, scoring='accuracy')\n",
    "lda_accuracy = scores.mean()\n",
    "print('Cross-Validated Accuracy: %0.2f' % lda_accuracy)"
   ]
  },
  {
   "cell_type": "markdown",
   "id": "b4634e1c",
   "metadata": {},
   "source": [
    "precision    recall  f1-score   support\n",
    "\n",
    "           0       0.88      0.89      0.89       113\n",
    "           1       0.66      0.62      0.64        37\n",
    "\n",
    "    accuracy                           0.83       150\n",
    "   macro avg       0.77      0.76      0.76       150\n",
    "weighted avg       0.82      0.83      0.83       150\n",
    "\n",
    "Cross-Validated Accuracy: 0.84"
   ]
  },
  {
   "cell_type": "code",
   "execution_count": null,
   "id": "85fa848d",
   "metadata": {},
   "outputs": [],
   "source": [
    "lda_pred_prob = lda.predict_proba(X_test)[:, 1]\n",
    "fpr, tpr, thresholds = roc_curve(y_test, lda_pred_prob)\n",
    "roc_auc = auc(fpr, tpr)\n",
    "lw = 2\n",
    "plt.plot(fpr, tpr,label='ROC curve LDA (AUC = %0.2f)' % roc_auc)\n",
    "plt.xlim([0.0, 1])\n",
    "plt.ylim([0.0, 1])\n",
    "plt.title('ROC curve for LDA CLASS 1')\n",
    "plt.xlabel('(1 - Specificity)')\n",
    "plt.ylabel('(Sensitivity)')\n",
    "plt.grid(True)\n",
    "plt.legend(loc=\"lower right\")\n",
    "plt.show()"
   ]
  },
  {
   "cell_type": "code",
   "execution_count": null,
   "id": "38a780ec",
   "metadata": {},
   "outputs": [],
   "source": [
    "from sklearn.naive_bayes import BernoulliNB\n",
    "#Naive Bayes Classifier\n",
    "NBClassifier = BernoulliNB()\n",
    "NBClassifier.fit(X_train, y_train)\n",
    "print(\"Naive Bayes Classifier Score :\")\n",
    "NBClassifier.score(X_test,y_test)"
   ]
  },
  {
   "cell_type": "markdown",
   "id": "3d10cd4a",
   "metadata": {},
   "source": [
    "Naive Bayes Classifier Score :\n",
    "0.8\n"
   ]
  },
  {
   "cell_type": "code",
   "execution_count": null,
   "id": "3cdd43a6",
   "metadata": {},
   "outputs": [],
   "source": [
    "nb_y_predicted = NBClassifier.predict(X_test)\n",
    "report = classification_report(y_test, nb_y_predicted)\n",
    "\n",
    "print(report)\n",
    "\n",
    "scores = cross_val_score(NBClassifier, X, y, cv=10, scoring='accuracy')\n",
    "nb_accuracy = scores.mean()\n",
    "print('Cross-Validated Accuracy: %0.2f' % nb_accuracy)"
   ]
  },
  {
   "cell_type": "markdown",
   "id": "5a843a04",
   "metadata": {},
   "source": [
    "precision    recall  f1-score   support\n",
    "\n",
    "           0       0.87      0.86      0.87       113\n",
    "           1       0.59      0.62      0.61        37\n",
    "\n",
    "    accuracy                           0.80       150\n",
    "   macro avg       0.73      0.74      0.74       150\n",
    "weighted avg       0.80      0.80      0.80       150\n",
    "\n",
    "Cross-Validated Accuracy: 0.82"
   ]
  },
  {
   "cell_type": "code",
   "execution_count": null,
   "id": "c14e698a",
   "metadata": {},
   "outputs": [],
   "source": [
    "from xgboost import XGBClassifier\n",
    "#XGBOOST Classifier\n",
    "model_xgb = XGBClassifier()\n",
    "model_xgb.fit(X_train, y_train, verbose=False) \n",
    "print(\"XGBClassifier Score :\")\n",
    "model_xgb.score(X_test,y_test)"
   ]
  },
  {
   "cell_type": "markdown",
   "id": "9a0831f6",
   "metadata": {},
   "source": [
    "XGBClassifier Score :\n",
    "0.8266666666666667"
   ]
  },
  {
   "cell_type": "code",
   "execution_count": null,
   "id": "430b1169",
   "metadata": {},
   "outputs": [],
   "source": [
    "xgboost_y_predicted = model_xgb.predict(X_test)\n",
    "report = classification_report(y_test, xgboost_y_predicted)\n",
    "\n",
    "print(report)\n",
    "\n",
    "scores = cross_val_score(model_xgb, X, y, cv=10, scoring='accuracy')\n",
    "xgb_accuracy = scores.mean()\n",
    "print('Cross-Validated Accuracy: %0.2f' % xgb_accuracy)"
   ]
  },
  {
   "cell_type": "markdown",
   "id": "de517957",
   "metadata": {},
   "source": [
    "precision    recall  f1-score   support\n",
    "\n",
    "           0       0.88      0.89      0.89       113\n",
    "           1       0.66      0.62      0.64        37\n",
    "\n",
    "    accuracy                           0.83       150\n",
    "   macro avg       0.77      0.76      0.76       150\n",
    "weighted avg       0.82      0.83      0.83       150\n",
    "\n",
    "Cross-Validated Accuracy: 0.82"
   ]
  },
  {
   "cell_type": "code",
   "execution_count": null,
   "id": "805bf7af",
   "metadata": {},
   "outputs": [],
   "source": [
    "xgb_pred_prob = model_xgb.predict_proba(X_test)[:, 1]\n",
    "fpr, tpr, thresholds = roc_curve(y_test, xgb_pred_prob)\n",
    "roc_auc = auc(fpr, tpr)\n",
    "lw = 2\n",
    "plt.plot(fpr, tpr,label='ROC curve XGBOOST (AUC = %0.2f)' % roc_auc)\n",
    "plt.xlim([0.0, 1])\n",
    "plt.ylim([0.0, 1])\n",
    "plt.title('ROC curve for XGBOOST CLASS 1')\n",
    "plt.xlabel('(1 - Specificity)')\n",
    "plt.ylabel('(Sensitivity)')\n",
    "plt.grid(True)\n",
    "plt.legend(loc=\"lower right\")\n",
    "plt.show()\n"
   ]
  },
  {
   "cell_type": "code",
   "execution_count": null,
   "id": "e0046532",
   "metadata": {},
   "outputs": [],
   "source": [
    "from sklearn.neural_network import MLPClassifier\n",
    "#Newral Network Classifier\n",
    "clf_MLP = MLPClassifier(alpha=1e-05, hidden_layer_sizes=(64))\n",
    "clf_MLP.fit(X_train, y_train) \n",
    "print(\"MLPClassifier Score :\")\n",
    "clf_MLP.score(X_test,y_test)"
   ]
  },
  {
   "cell_type": "markdown",
   "id": "aff8a5de",
   "metadata": {},
   "source": [
    "MLPClassifier Score :\n",
    "C:\\ProgramData\\Anaconda3\\lib\\site-packages\\sklearn\\neural_network\\_multilayer_perceptron.py:571: ConvergenceWarning: Stochastic Optimizer: Maximum iterations (200) reached and the optimization hasn't converged yet.\n",
    "  % self.max_iter, ConvergenceWarning)\n",
    "0.74"
   ]
  },
  {
   "cell_type": "code",
   "execution_count": null,
   "id": "7d8d1677",
   "metadata": {},
   "outputs": [],
   "source": [
    "mlp_y_predicted = clf_MLP.predict(X_test)\n",
    "report = classification_report(y_test, mlp_y_predicted)\n",
    "\n",
    "print(report)\n",
    "\n",
    "scores = cross_val_score(clf_MLP, X, y, cv=10, scoring='accuracy')\n",
    "mlp_accuracy = scores.mean()\n",
    "print('Cross-Validated Accuracy: %0.2f' % mlp_accuracy)"
   ]
  },
  {
   "cell_type": "markdown",
   "id": "6d9607a7",
   "metadata": {},
   "source": [
    "precision    recall  f1-score   support\n",
    "\n",
    "           0       0.75      0.98      0.85       113\n",
    "           1       0.00      0.00      0.00        37\n",
    "\n",
    "    accuracy                           0.74       150\n",
    "   macro avg       0.38      0.49      0.43       150\n",
    "weighted avg       0.56      0.74      0.64       150\n"
   ]
  },
  {
   "cell_type": "markdown",
   "id": "a8fa95ce",
   "metadata": {},
   "source": [
    "C:\\ProgramData\\Anaconda3\\lib\\site-packages\\sklearn\\neural_network\\_multilayer_perceptron.py:571: ConvergenceWarning: Stochastic Optimizer: Maximum iterations (200) reached and the optimization hasn't converged yet.\n",
    "  % self.max_iter, ConvergenceWarning)\n",
    "C:\\ProgramData\\Anaconda3\\lib\\site-packages\\sklearn\\neural_network\\_multilayer_perceptron.py:571: ConvergenceWarning: Stochastic Optimizer: Maximum iterations (200) reached and the optimization hasn't converged yet.\n",
    "  % self.max_iter, ConvergenceWarning)\n",
    "C:\\ProgramData\\Anaconda3\\lib\\site-packages\\sklearn\\neural_network\\_multilayer_perceptron.py:571: ConvergenceWarning: Stochastic Optimizer: Maximum iterations (200) reached and the optimization hasn't converged yet.\n",
    "  % self.max_iter, ConvergenceWarning)\n",
    "C:\\ProgramData\\Anaconda3\\lib\\site-packages\\sklearn\\neural_network\\_multilayer_perceptron.py:571: ConvergenceWarning: Stochastic Optimizer: Maximum iterations (200) reached and the optimization hasn't converged yet.\n",
    "  % self.max_iter, ConvergenceWarning)\n",
    "C:\\ProgramData\\Anaconda3\\lib\\site-packages\\sklearn\\neural_network\\_multilayer_perceptron.py:571: ConvergenceWarning: Stochastic Optimizer: Maximum iterations (200) reached and the optimization hasn't converged yet.\n",
    "  % self.max_iter, ConvergenceWarning)\n",
    "C:\\ProgramData\\Anaconda3\\lib\\site-packages\\sklearn\\neural_network\\_multilayer_perceptron.py:571: ConvergenceWarning: Stochastic Optimizer: Maximum iterations (200) reached and the optimization hasn't converged yet.\n",
    "  % self.max_iter, ConvergenceWarning)\n",
    "C:\\ProgramData\\Anaconda3\\lib\\site-packages\\sklearn\\neural_network\\_multilayer_perceptron.py:571: ConvergenceWarning: Stochastic Optimizer: Maximum iterations (200) reached and the optimization hasn't converged yet.\n",
    "  % self.max_iter, ConvergenceWarning)\n",
    "C:\\ProgramData\\Anaconda3\\lib\\site-packages\\sklearn\\neural_network\\_multilayer_perceptron.py:571: ConvergenceWarning: Stochastic Optimizer: Maximum iterations (200) reached and the optimization hasn't converged yet.\n",
    "  % self.max_iter, ConvergenceWarning)\n",
    "C:\\ProgramData\\Anaconda3\\lib\\site-packages\\sklearn\\neural_network\\_multilayer_perceptron.py:571: ConvergenceWarning: Stochastic Optimizer: Maximum iterations (200) reached and the optimization hasn't converged yet.\n",
    "  % self.max_iter, ConvergenceWarning)\n",
    "Cross-Validated Accuracy: 0.60\n",
    "C:\\ProgramData\\Anaconda3\\lib\\site-packages\\sklearn\\neural_network\\_multilayer_perceptron.py:571: ConvergenceWarning: Stochastic Optimizer: Maximum iterations (200) reached and the optimization hasn't converged yet.\n",
    "  % self.max_iter, ConvergenceWarning)"
   ]
  },
  {
   "cell_type": "code",
   "execution_count": null,
   "id": "de01b846",
   "metadata": {},
   "outputs": [],
   "source": [
    "#Comparing the models\n",
    "fpr9, tpr9, thresholds9 = roc_curve(y_test, nb_y_predicted)\n",
    "roc_auc9 = auc(fpr9, tpr9)\n",
    "\n",
    "fpr8, tpr8, thresholds8 = roc_curve(y_test, mlp_y_predicted)\n",
    "roc_auc8 = auc(fpr8, tpr8)\n",
    "\n",
    "fpr7, tpr7, thresholds7 = roc_curve(y_test, DT_y_predicted)\n",
    "roc_auc7 = auc(fpr7, tpr7)\n",
    "\n",
    "fpr6, tpr6, thresholds6 = roc_curve(y_test, lda_pred_prob)\n",
    "roc_auc6 = auc(fpr6, tpr6)\n",
    "\n",
    "fpr5, tpr5, thresholds5 = roc_curve(y_test, knn_pred_prob)\n",
    "roc_auc5 = auc(fpr5, tpr5)\n",
    "\n",
    "fpr4, tpr4, thresholds4 = roc_curve(y_test, rf_pred_prob)\n",
    "roc_auc4 = auc(fpr4, tpr4)\n",
    "\n",
    "fpr3, tpr3, thresholds3 = roc_curve(y_test, xgb_pred_prob)\n",
    "roc_auc3 = auc(fpr3, tpr3)\n",
    "\n",
    "fpr2, tpr2, thresholds2 = roc_curve(y_test, brf_pred_prob)\n",
    "roc_auc2 = auc(fpr2, tpr2)\n",
    "\n",
    "fpr1, tpr1, thresholds1 = roc_curve(y_test,svm_pred_prob)\n",
    "roc_auc1 = auc(fpr1, tpr1)\n",
    "lw = 2\n",
    "plt.figure(figsize=(10, 8))\n",
    "plt.plot(fpr9, tpr9,color='brown',label='ROC NB (AUC = %0.2f, ACC = %0.2f)' % (roc_auc9, nb_accuracy))\n",
    "plt.plot(fpr8, tpr8,color='yellow',label='ROC MLP (AUC = %0.2f, ACC = %0.2f)' % (roc_auc8, mlp_accuracy))\n",
    "plt.plot(fpr7, tpr7,color='cyan',label='ROC Decision Tree (AUC = %0.2f, ACC = %0.2f)' % (roc_auc7, dt_accuracy))\n",
    "plt.plot(fpr6, tpr6,color='orange',label='ROC LDA (AUC = %0.2f, ACC = %0.2f)' % (roc_auc6, lda_accuracy))\n",
    "plt.plot(fpr5, tpr5,color='green',label='ROC KNN (AUC = %0.2f, ACC = %0.2f)' % (roc_auc5, knn_accuracy))\n",
    "plt.plot(fpr4, tpr4,color='red',label='ROC RF (AUC = %0.2f, ACC = %0.2f)' % (roc_auc4, rf_accuracy))\n",
    "plt.plot(fpr3, tpr3,color='blue',label='ROC XGBOOST (AUC = %0.2f, ACC = %0.2f)' % (roc_auc3, xgb_accuracy))\n",
    "plt.plot(fpr2, tpr2,color='black',label='ROC BRF (AUC = %0.2f, ACC = %0.2f)' % (roc_auc2, brf_accuracy))\n",
    "plt.plot(fpr1, tpr1,color='magenta',label='ROC SVM (AUC = %0.2f, ACC = %0.2f)' % (roc_auc1, svm_accuracy))\n",
    "plt.xlim([0.0, 1.0])\n",
    "plt.ylim([0.0, 1.0])\n",
    "plt.title('ROC curve ')\n",
    "plt.xlabel('(1 - Specificity)')\n",
    "plt.ylabel('(Sensitivity)')\n",
    "plt.grid(True)\n",
    "plt.legend(loc=\"lower right\")\n",
    "plt.show()\n",
    "\n",
    "print(\"The predictive power of each model expressed by ROC curves. For instance, Linear Discriminant Analysis and XGBOOST model has\\\n",
    "        higher probability of accurate prediction of correct class member, and gaining high level of accuracy prediction probability\\\n",
    "        as compared to Random Forest, KNN, Naive Bayes, Neural Network and SVM models.\")"
   ]
  },
  {
   "cell_type": "markdown",
   "id": "f1201ea9",
   "metadata": {},
   "source": [
    "The predictive power of each model expressed by ROC curves. For instance, Linear Discriminant Analysis and XGBOOST model has        higher probability of accurate prediction of correct class member, and gaining high level of accuracy prediction probability        as compared to Random Forest, KNN, Naive Bayes, Neural Network and SVM models."
   ]
  },
  {
   "cell_type": "code",
   "execution_count": null,
   "id": "4c09fdaa",
   "metadata": {},
   "outputs": [],
   "source": [
    "#XGBOOST model has better ROC Curve and Cross-validated accuracy, plot feature importance\n",
    "def rf_feat_importance(m, df):\n",
    "    return pd.DataFrame({'feature':df.columns, 'imp':m.feature_importances_}\n",
    "                       ).sort_values('imp', ascending=False)\n",
    "def plot_fi(fi): \n",
    "    return fi.plot('feature', 'imp', 'barh', figsize=(15,7), legend=False)\n",
    "\n",
    "fi = rf_feat_importance(model_xgb, X_train); fi[:15]"
   ]
  },
  {
   "cell_type": "markdown",
   "id": "a3be6c75",
   "metadata": {},
   "source": [
    "feature\timp\n",
    "79\tincident_severity_Major Damage\t0.136822\n",
    "50\tinsured_hobbies_chess\t0.072968\n",
    "51\tinsured_hobbies_cross-fit\t0.050191\n",
    "44\tinsured_occupation_transport-moving\t0.022682\n",
    "27\tinsured_education_level_JD\t0.019782\n",
    "150\tauto_model_Passat\t0.018868\n",
    "76\tcollision_type_Front Collision\t0.018670\n",
    "116\tauto_make_Mercedes\t0.018290\n",
    "26\tinsured_education_level_High School\t0.017856\n",
    "98\tincident_city_Northbend\t0.017273\n",
    "94\tincident_state_WV\t0.016270\n",
    "77\tcollision_type_Rear Collision\t0.014769\n",
    "151\tauto_model_Pathfinder\t0.014738\n",
    "67\tinsured_relationship_other-relative\t0.014554\n",
    "93\tincident_state_VA\t0.014317"
   ]
  },
  {
   "cell_type": "code",
   "execution_count": null,
   "id": "28f7f6ee",
   "metadata": {},
   "outputs": [],
   "source": [
    "plot_fi(fi[:30])"
   ]
  },
  {
   "cell_type": "markdown",
   "id": "f1671ef8",
   "metadata": {},
   "source": [
    "<matplotlib.axes._subplots.AxesSubplot at 0x20c3e1169e8>\n"
   ]
  },
  {
   "cell_type": "code",
   "execution_count": null,
   "id": "29249db3",
   "metadata": {},
   "outputs": [],
   "source": [
    "#As XGBOOST has the best results with an AUC of 0.82, using this model for scoring\n",
    "test_target = y_test.copy()\n",
    "test_target.reset_index(drop=True, inplace=True)\n",
    "test_target = test_target.replace({1:'Y', 0:'N'})\n",
    "\n",
    "predicted_target = model_xgb.predict(X_test)\n",
    "predicted_target = pd.Series(predicted_target).replace({1:'Y', 0:'N'})"
   ]
  },
  {
   "cell_type": "code",
   "execution_count": null,
   "id": "fe9edb52",
   "metadata": {},
   "outputs": [],
   "source": [
    "ranks=pd.DataFrame(data=\n",
    "                   { \n",
    "                       'RealClass':test_target, \n",
    "                       'PredictedClass':predicted_target,\n",
    "                       'rank':xgb_pred_prob\n",
    "                   })\n",
    "ranks.sort_values(by=['rank'],ascending=False,inplace=True)\n",
    "ranks.head()"
   ]
  },
  {
   "cell_type": "markdown",
   "id": "19fffc14",
   "metadata": {},
   "source": [
    "\tRealClass\tPredictedClass\trank\n",
    "7\tY\tY\t0.942978\n",
    "44\tN\tY\t0.919296\n",
    "127\tY\tY\t0.914629\n",
    "82\tN\tY\t0.817602\n",
    "76\tY\tY\t0.808937"
   ]
  },
  {
   "cell_type": "code",
   "execution_count": null,
   "id": "24f180a4",
   "metadata": {},
   "outputs": [],
   "source": [
    "top = ranks.where(ranks['rank']>0.5,).dropna()\n",
    "top.head()"
   ]
  },
  {
   "cell_type": "markdown",
   "id": "b1d91ed1",
   "metadata": {},
   "source": [
    "\tRealClass\tPredictedClass\trank\n",
    "7\tY\tY\t0.942978\n",
    "44\tN\tY\t0.919296\n",
    "127\tY\tY\t0.914629\n",
    "82\tN\tY\t0.817602\n",
    "76\tY\tY\t0.808937"
   ]
  }
 ],
 "metadata": {
  "kernelspec": {
   "display_name": "Python 3 (ipykernel)",
   "language": "python",
   "name": "python3"
  },
  "language_info": {
   "codemirror_mode": {
    "name": "ipython",
    "version": 3
   },
   "file_extension": ".py",
   "mimetype": "text/x-python",
   "name": "python",
   "nbconvert_exporter": "python",
   "pygments_lexer": "ipython3",
   "version": "3.9.12"
  }
 },
 "nbformat": 4,
 "nbformat_minor": 5
}
